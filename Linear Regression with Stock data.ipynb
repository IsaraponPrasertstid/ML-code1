{
 "cells": [
  {
   "cell_type": "code",
   "execution_count": 1,
   "id": "85da7abb-70b2-4023-9853-cb75ff5d5557",
   "metadata": {},
   "outputs": [],
   "source": [
    "import tensorflow.compat.v1 as tf\n",
    "import numpy as np\n",
    "import pandas as pd\n",
    "import matplotlib.pyplot as plt"
   ]
  },
  {
   "cell_type": "code",
   "execution_count": 2,
   "id": "fda60f03-1156-40f1-9424-aaac8226b554",
   "metadata": {},
   "outputs": [
    {
     "name": "stdout",
     "output_type": "stream",
     "text": [
      "WARNING:tensorflow:From /Users/blackrose/miniconda3/envs/new_env/lib/python3.9/site-packages/tensorflow/python/compat/v2_compat.py:98: disable_resource_variables (from tensorflow.python.ops.resource_variables_toggle) is deprecated and will be removed in a future version.\n",
      "Instructions for updating:\n",
      "non-resource variables are not supported in the long term\n"
     ]
    }
   ],
   "source": [
    "tf.disable_v2_behavior()"
   ]
  },
  {
   "cell_type": "markdown",
   "id": "bec1af7f-bfc6-42f6-98fc-4f3cdb17bb95",
   "metadata": {},
   "source": [
    "# Load Google Stock Data"
   ]
  },
  {
   "cell_type": "code",
   "execution_count": 3,
   "id": "2be23bf2-ca3f-4df8-99bf-b84e143c6a85",
   "metadata": {},
   "outputs": [],
   "source": [
    "goog = pd.read_csv('/Users/blackrose/Downloads/data/Stocks/GOOG.csv')"
   ]
  },
  {
   "cell_type": "code",
   "execution_count": 4,
   "id": "c5333185-c1ff-424d-9854-8a108e5959ad",
   "metadata": {},
   "outputs": [
    {
     "data": {
      "text/plain": [
       "pandas.core.frame.DataFrame"
      ]
     },
     "execution_count": 4,
     "metadata": {},
     "output_type": "execute_result"
    }
   ],
   "source": [
    "type(goog)"
   ]
  },
  {
   "cell_type": "code",
   "execution_count": 5,
   "id": "ed1b57df-e6a3-4c7b-8b15-229829112b75",
   "metadata": {},
   "outputs": [
    {
     "data": {
      "text/html": [
       "<div>\n",
       "<style scoped>\n",
       "    .dataframe tbody tr th:only-of-type {\n",
       "        vertical-align: middle;\n",
       "    }\n",
       "\n",
       "    .dataframe tbody tr th {\n",
       "        vertical-align: top;\n",
       "    }\n",
       "\n",
       "    .dataframe thead th {\n",
       "        text-align: right;\n",
       "    }\n",
       "</style>\n",
       "<table border=\"1\" class=\"dataframe\">\n",
       "  <thead>\n",
       "    <tr style=\"text-align: right;\">\n",
       "      <th></th>\n",
       "      <th>Date</th>\n",
       "      <th>Open</th>\n",
       "      <th>High</th>\n",
       "      <th>Low</th>\n",
       "      <th>Close</th>\n",
       "      <th>Adj Close</th>\n",
       "      <th>Volume</th>\n",
       "    </tr>\n",
       "  </thead>\n",
       "  <tbody>\n",
       "    <tr>\n",
       "      <th>0</th>\n",
       "      <td>2007-01-01</td>\n",
       "      <td>232.129913</td>\n",
       "      <td>255.542160</td>\n",
       "      <td>229.694046</td>\n",
       "      <td>500.126953</td>\n",
       "      <td>249.813644</td>\n",
       "      <td>250106500</td>\n",
       "    </tr>\n",
       "    <tr>\n",
       "      <th>1</th>\n",
       "      <td>2007-02-01</td>\n",
       "      <td>252.055237</td>\n",
       "      <td>252.060211</td>\n",
       "      <td>220.692795</td>\n",
       "      <td>448.219421</td>\n",
       "      <td>223.885818</td>\n",
       "      <td>228680500</td>\n",
       "    </tr>\n",
       "    <tr>\n",
       "      <th>2</th>\n",
       "      <td>2007-03-01</td>\n",
       "      <td>220.508484</td>\n",
       "      <td>232.129913</td>\n",
       "      <td>217.684067</td>\n",
       "      <td>456.905609</td>\n",
       "      <td>228.224564</td>\n",
       "      <td>237115900</td>\n",
       "    </tr>\n",
       "    <tr>\n",
       "      <th>3</th>\n",
       "      <td>2007-04-01</td>\n",
       "      <td>228.025299</td>\n",
       "      <td>245.330444</td>\n",
       "      <td>225.215836</td>\n",
       "      <td>470.089386</td>\n",
       "      <td>234.809875</td>\n",
       "      <td>186612000</td>\n",
       "    </tr>\n",
       "    <tr>\n",
       "      <th>4</th>\n",
       "      <td>2007-05-01</td>\n",
       "      <td>235.213364</td>\n",
       "      <td>253.440048</td>\n",
       "      <td>227.850952</td>\n",
       "      <td>496.546753</td>\n",
       "      <td>248.025345</td>\n",
       "      <td>199907700</td>\n",
       "    </tr>\n",
       "  </tbody>\n",
       "</table>\n",
       "</div>"
      ],
      "text/plain": [
       "         Date        Open        High         Low       Close   Adj Close  \\\n",
       "0  2007-01-01  232.129913  255.542160  229.694046  500.126953  249.813644   \n",
       "1  2007-02-01  252.055237  252.060211  220.692795  448.219421  223.885818   \n",
       "2  2007-03-01  220.508484  232.129913  217.684067  456.905609  228.224564   \n",
       "3  2007-04-01  228.025299  245.330444  225.215836  470.089386  234.809875   \n",
       "4  2007-05-01  235.213364  253.440048  227.850952  496.546753  248.025345   \n",
       "\n",
       "      Volume  \n",
       "0  250106500  \n",
       "1  228680500  \n",
       "2  237115900  \n",
       "3  186612000  \n",
       "4  199907700  "
      ]
     },
     "execution_count": 5,
     "metadata": {},
     "output_type": "execute_result"
    }
   ],
   "source": [
    "goog.head()"
   ]
  },
  {
   "cell_type": "code",
   "execution_count": 6,
   "id": "0d1c2874-0ce3-44f3-bd74-111622ab3eeb",
   "metadata": {},
   "outputs": [
    {
     "data": {
      "text/html": [
       "<div>\n",
       "<style scoped>\n",
       "    .dataframe tbody tr th:only-of-type {\n",
       "        vertical-align: middle;\n",
       "    }\n",
       "\n",
       "    .dataframe tbody tr th {\n",
       "        vertical-align: top;\n",
       "    }\n",
       "\n",
       "    .dataframe thead th {\n",
       "        text-align: right;\n",
       "    }\n",
       "</style>\n",
       "<table border=\"1\" class=\"dataframe\">\n",
       "  <thead>\n",
       "    <tr style=\"text-align: right;\">\n",
       "      <th></th>\n",
       "      <th>Date</th>\n",
       "      <th>Open</th>\n",
       "      <th>High</th>\n",
       "      <th>Low</th>\n",
       "      <th>Close</th>\n",
       "      <th>Adj Close</th>\n",
       "      <th>Volume</th>\n",
       "    </tr>\n",
       "  </thead>\n",
       "  <tbody>\n",
       "    <tr>\n",
       "      <th>122</th>\n",
       "      <td>2017-03-01</td>\n",
       "      <td>828.849976</td>\n",
       "      <td>853.500000</td>\n",
       "      <td>803.369995</td>\n",
       "      <td>829.559998</td>\n",
       "      <td>829.559998</td>\n",
       "      <td>33835100</td>\n",
       "    </tr>\n",
       "    <tr>\n",
       "      <th>123</th>\n",
       "      <td>2017-04-01</td>\n",
       "      <td>829.219971</td>\n",
       "      <td>916.849976</td>\n",
       "      <td>817.020020</td>\n",
       "      <td>905.960022</td>\n",
       "      <td>905.960022</td>\n",
       "      <td>25218700</td>\n",
       "    </tr>\n",
       "    <tr>\n",
       "      <th>124</th>\n",
       "      <td>2017-05-01</td>\n",
       "      <td>901.940002</td>\n",
       "      <td>979.270020</td>\n",
       "      <td>901.450012</td>\n",
       "      <td>964.859985</td>\n",
       "      <td>964.859985</td>\n",
       "      <td>32180100</td>\n",
       "    </tr>\n",
       "    <tr>\n",
       "      <th>125</th>\n",
       "      <td>2017-06-01</td>\n",
       "      <td>968.950012</td>\n",
       "      <td>988.250000</td>\n",
       "      <td>915.232971</td>\n",
       "      <td>953.400024</td>\n",
       "      <td>953.400024</td>\n",
       "      <td>18226600</td>\n",
       "    </tr>\n",
       "    <tr>\n",
       "      <th>126</th>\n",
       "      <td>2017-06-13</td>\n",
       "      <td>951.910034</td>\n",
       "      <td>959.980042</td>\n",
       "      <td>944.089966</td>\n",
       "      <td>953.400024</td>\n",
       "      <td>953.400024</td>\n",
       "      <td>2013337</td>\n",
       "    </tr>\n",
       "  </tbody>\n",
       "</table>\n",
       "</div>"
      ],
      "text/plain": [
       "           Date        Open        High         Low       Close   Adj Close  \\\n",
       "122  2017-03-01  828.849976  853.500000  803.369995  829.559998  829.559998   \n",
       "123  2017-04-01  829.219971  916.849976  817.020020  905.960022  905.960022   \n",
       "124  2017-05-01  901.940002  979.270020  901.450012  964.859985  964.859985   \n",
       "125  2017-06-01  968.950012  988.250000  915.232971  953.400024  953.400024   \n",
       "126  2017-06-13  951.910034  959.980042  944.089966  953.400024  953.400024   \n",
       "\n",
       "       Volume  \n",
       "122  33835100  \n",
       "123  25218700  \n",
       "124  32180100  \n",
       "125  18226600  \n",
       "126   2013337  "
      ]
     },
     "execution_count": 6,
     "metadata": {},
     "output_type": "execute_result"
    }
   ],
   "source": [
    "goog.tail()"
   ]
  },
  {
   "cell_type": "code",
   "execution_count": 7,
   "id": "65c72575-9c93-4b4e-827c-0744857325c7",
   "metadata": {},
   "outputs": [
    {
     "name": "stdout",
     "output_type": "stream",
     "text": [
      "<class 'pandas.core.frame.DataFrame'>\n",
      "RangeIndex: 127 entries, 0 to 126\n",
      "Data columns (total 7 columns):\n",
      " #   Column     Non-Null Count  Dtype  \n",
      "---  ------     --------------  -----  \n",
      " 0   Date       127 non-null    object \n",
      " 1   Open       127 non-null    float64\n",
      " 2   High       127 non-null    float64\n",
      " 3   Low        127 non-null    float64\n",
      " 4   Close      127 non-null    float64\n",
      " 5   Adj Close  127 non-null    float64\n",
      " 6   Volume     127 non-null    int64  \n",
      "dtypes: float64(5), int64(1), object(1)\n",
      "memory usage: 7.1+ KB\n"
     ]
    }
   ],
   "source": [
    "goog.info()"
   ]
  },
  {
   "cell_type": "code",
   "execution_count": 8,
   "id": "dfb4aff7-d267-4796-9085-7fd8a675519f",
   "metadata": {},
   "outputs": [
    {
     "data": {
      "text/html": [
       "<div>\n",
       "<style scoped>\n",
       "    .dataframe tbody tr th:only-of-type {\n",
       "        vertical-align: middle;\n",
       "    }\n",
       "\n",
       "    .dataframe tbody tr th {\n",
       "        vertical-align: top;\n",
       "    }\n",
       "\n",
       "    .dataframe thead th {\n",
       "        text-align: right;\n",
       "    }\n",
       "</style>\n",
       "<table border=\"1\" class=\"dataframe\">\n",
       "  <thead>\n",
       "    <tr style=\"text-align: right;\">\n",
       "      <th></th>\n",
       "      <th>Open</th>\n",
       "      <th>High</th>\n",
       "      <th>Low</th>\n",
       "      <th>Close</th>\n",
       "      <th>Adj Close</th>\n",
       "      <th>Volume</th>\n",
       "    </tr>\n",
       "  </thead>\n",
       "  <tbody>\n",
       "    <tr>\n",
       "      <th>count</th>\n",
       "      <td>127.000000</td>\n",
       "      <td>127.000000</td>\n",
       "      <td>127.000000</td>\n",
       "      <td>127.000000</td>\n",
       "      <td>127.000000</td>\n",
       "      <td>1.270000e+02</td>\n",
       "    </tr>\n",
       "    <tr>\n",
       "      <th>mean</th>\n",
       "      <td>417.189203</td>\n",
       "      <td>442.014859</td>\n",
       "      <td>397.459033</td>\n",
       "      <td>629.713788</td>\n",
       "      <td>422.790181</td>\n",
       "      <td>1.184521e+08</td>\n",
       "    </tr>\n",
       "    <tr>\n",
       "      <th>std</th>\n",
       "      <td>204.809127</td>\n",
       "      <td>213.741469</td>\n",
       "      <td>201.429919</td>\n",
       "      <td>179.924524</td>\n",
       "      <td>209.901311</td>\n",
       "      <td>8.320530e+07</td>\n",
       "    </tr>\n",
       "    <tr>\n",
       "      <th>min</th>\n",
       "      <td>142.804733</td>\n",
       "      <td>164.134781</td>\n",
       "      <td>123.188263</td>\n",
       "      <td>292.157898</td>\n",
       "      <td>145.933014</td>\n",
       "      <td>2.013337e+06</td>\n",
       "    </tr>\n",
       "    <tr>\n",
       "      <th>25%</th>\n",
       "      <td>260.291870</td>\n",
       "      <td>277.509827</td>\n",
       "      <td>242.456215</td>\n",
       "      <td>522.764740</td>\n",
       "      <td>261.890870</td>\n",
       "      <td>4.725025e+07</td>\n",
       "    </tr>\n",
       "    <tr>\n",
       "      <th>50%</th>\n",
       "      <td>319.188599</td>\n",
       "      <td>343.208557</td>\n",
       "      <td>298.381592</td>\n",
       "      <td>581.403809</td>\n",
       "      <td>321.744019</td>\n",
       "      <td>1.028728e+08</td>\n",
       "    </tr>\n",
       "    <tr>\n",
       "      <th>75%</th>\n",
       "      <td>558.087769</td>\n",
       "      <td>583.293579</td>\n",
       "      <td>532.951782</td>\n",
       "      <td>742.774994</td>\n",
       "      <td>558.309784</td>\n",
       "      <td>1.571482e+08</td>\n",
       "    </tr>\n",
       "    <tr>\n",
       "      <th>max</th>\n",
       "      <td>968.950012</td>\n",
       "      <td>988.250000</td>\n",
       "      <td>944.089966</td>\n",
       "      <td>1212.321655</td>\n",
       "      <td>964.859985</td>\n",
       "      <td>4.000830e+08</td>\n",
       "    </tr>\n",
       "  </tbody>\n",
       "</table>\n",
       "</div>"
      ],
      "text/plain": [
       "             Open        High         Low        Close   Adj Close  \\\n",
       "count  127.000000  127.000000  127.000000   127.000000  127.000000   \n",
       "mean   417.189203  442.014859  397.459033   629.713788  422.790181   \n",
       "std    204.809127  213.741469  201.429919   179.924524  209.901311   \n",
       "min    142.804733  164.134781  123.188263   292.157898  145.933014   \n",
       "25%    260.291870  277.509827  242.456215   522.764740  261.890870   \n",
       "50%    319.188599  343.208557  298.381592   581.403809  321.744019   \n",
       "75%    558.087769  583.293579  532.951782   742.774994  558.309784   \n",
       "max    968.950012  988.250000  944.089966  1212.321655  964.859985   \n",
       "\n",
       "             Volume  \n",
       "count  1.270000e+02  \n",
       "mean   1.184521e+08  \n",
       "std    8.320530e+07  \n",
       "min    2.013337e+06  \n",
       "25%    4.725025e+07  \n",
       "50%    1.028728e+08  \n",
       "75%    1.571482e+08  \n",
       "max    4.000830e+08  "
      ]
     },
     "execution_count": 8,
     "metadata": {},
     "output_type": "execute_result"
    }
   ],
   "source": [
    "goog.describe()"
   ]
  },
  {
   "cell_type": "code",
   "execution_count": 9,
   "id": "9363f1ba-6308-41ba-9d18-57baffa6fa3a",
   "metadata": {},
   "outputs": [
    {
     "data": {
      "text/plain": [
       "Index(['Date', 'Open', 'High', 'Low', 'Close', 'Adj Close', 'Volume'], dtype='object')"
      ]
     },
     "execution_count": 9,
     "metadata": {},
     "output_type": "execute_result"
    }
   ],
   "source": [
    "goog.columns"
   ]
  },
  {
   "cell_type": "code",
   "execution_count": 10,
   "id": "09de3235-3c26-4583-adee-9b133a72dbee",
   "metadata": {},
   "outputs": [
    {
     "data": {
      "text/html": [
       "<div>\n",
       "<style scoped>\n",
       "    .dataframe tbody tr th:only-of-type {\n",
       "        vertical-align: middle;\n",
       "    }\n",
       "\n",
       "    .dataframe tbody tr th {\n",
       "        vertical-align: top;\n",
       "    }\n",
       "\n",
       "    .dataframe thead th {\n",
       "        text-align: right;\n",
       "    }\n",
       "</style>\n",
       "<table border=\"1\" class=\"dataframe\">\n",
       "  <thead>\n",
       "    <tr style=\"text-align: right;\">\n",
       "      <th></th>\n",
       "      <th>Date</th>\n",
       "      <th>Low</th>\n",
       "      <th>High</th>\n",
       "    </tr>\n",
       "  </thead>\n",
       "  <tbody>\n",
       "    <tr>\n",
       "      <th>0</th>\n",
       "      <td>2007-01-01</td>\n",
       "      <td>229.694046</td>\n",
       "      <td>255.542160</td>\n",
       "    </tr>\n",
       "    <tr>\n",
       "      <th>1</th>\n",
       "      <td>2007-02-01</td>\n",
       "      <td>220.692795</td>\n",
       "      <td>252.060211</td>\n",
       "    </tr>\n",
       "    <tr>\n",
       "      <th>2</th>\n",
       "      <td>2007-03-01</td>\n",
       "      <td>217.684067</td>\n",
       "      <td>232.129913</td>\n",
       "    </tr>\n",
       "    <tr>\n",
       "      <th>3</th>\n",
       "      <td>2007-04-01</td>\n",
       "      <td>225.215836</td>\n",
       "      <td>245.330444</td>\n",
       "    </tr>\n",
       "    <tr>\n",
       "      <th>4</th>\n",
       "      <td>2007-05-01</td>\n",
       "      <td>227.850952</td>\n",
       "      <td>253.440048</td>\n",
       "    </tr>\n",
       "    <tr>\n",
       "      <th>...</th>\n",
       "      <td>...</td>\n",
       "      <td>...</td>\n",
       "      <td>...</td>\n",
       "    </tr>\n",
       "    <tr>\n",
       "      <th>122</th>\n",
       "      <td>2017-03-01</td>\n",
       "      <td>803.369995</td>\n",
       "      <td>853.500000</td>\n",
       "    </tr>\n",
       "    <tr>\n",
       "      <th>123</th>\n",
       "      <td>2017-04-01</td>\n",
       "      <td>817.020020</td>\n",
       "      <td>916.849976</td>\n",
       "    </tr>\n",
       "    <tr>\n",
       "      <th>124</th>\n",
       "      <td>2017-05-01</td>\n",
       "      <td>901.450012</td>\n",
       "      <td>979.270020</td>\n",
       "    </tr>\n",
       "    <tr>\n",
       "      <th>125</th>\n",
       "      <td>2017-06-01</td>\n",
       "      <td>915.232971</td>\n",
       "      <td>988.250000</td>\n",
       "    </tr>\n",
       "    <tr>\n",
       "      <th>126</th>\n",
       "      <td>2017-06-13</td>\n",
       "      <td>944.089966</td>\n",
       "      <td>959.980042</td>\n",
       "    </tr>\n",
       "  </tbody>\n",
       "</table>\n",
       "<p>127 rows × 3 columns</p>\n",
       "</div>"
      ],
      "text/plain": [
       "           Date         Low        High\n",
       "0    2007-01-01  229.694046  255.542160\n",
       "1    2007-02-01  220.692795  252.060211\n",
       "2    2007-03-01  217.684067  232.129913\n",
       "3    2007-04-01  225.215836  245.330444\n",
       "4    2007-05-01  227.850952  253.440048\n",
       "..          ...         ...         ...\n",
       "122  2017-03-01  803.369995  853.500000\n",
       "123  2017-04-01  817.020020  916.849976\n",
       "124  2017-05-01  901.450012  979.270020\n",
       "125  2017-06-01  915.232971  988.250000\n",
       "126  2017-06-13  944.089966  959.980042\n",
       "\n",
       "[127 rows x 3 columns]"
      ]
     },
     "execution_count": 10,
     "metadata": {},
     "output_type": "execute_result"
    }
   ],
   "source": [
    "goog[['Date','Low','High']]"
   ]
  },
  {
   "cell_type": "code",
   "execution_count": 11,
   "id": "bbf0cc66-b112-4ebf-ac9f-7c75e94f0104",
   "metadata": {},
   "outputs": [],
   "source": [
    "goog.rename(columns={'Adj Close' : 'Goog'},inplace =True)"
   ]
  },
  {
   "cell_type": "code",
   "execution_count": 12,
   "id": "63d3d01d-9422-4350-8a55-720eaabc5749",
   "metadata": {},
   "outputs": [
    {
     "data": {
      "text/plain": [
       "Index(['Date', 'Open', 'High', 'Low', 'Close', 'Goog', 'Volume'], dtype='object')"
      ]
     },
     "execution_count": 12,
     "metadata": {},
     "output_type": "execute_result"
    }
   ],
   "source": [
    "goog.columns"
   ]
  },
  {
   "cell_type": "code",
   "execution_count": 13,
   "id": "450f9e80-06d3-467d-9976-8bcf7333432a",
   "metadata": {},
   "outputs": [],
   "source": [
    "goog = goog[['Date','Goog']]"
   ]
  },
  {
   "cell_type": "code",
   "execution_count": 14,
   "id": "93981fab-5ac6-4116-973e-78cc65455783",
   "metadata": {},
   "outputs": [
    {
     "data": {
      "text/plain": [
       "Index(['Date', 'Goog'], dtype='object')"
      ]
     },
     "execution_count": 14,
     "metadata": {},
     "output_type": "execute_result"
    }
   ],
   "source": [
    "goog.columns"
   ]
  },
  {
   "cell_type": "code",
   "execution_count": 16,
   "id": "27baf8cd-6b32-4ab9-b296-e5f50e9c7caf",
   "metadata": {},
   "outputs": [],
   "source": [
    "sp500 = pd.read_csv('/Users/blackrose/Downloads/data/Stocks/SP_500.csv', usecols=[5])"
   ]
  },
  {
   "cell_type": "code",
   "execution_count": 17,
   "id": "91925b61-e665-4289-a35e-5b30946b973f",
   "metadata": {},
   "outputs": [
    {
     "data": {
      "text/html": [
       "<div>\n",
       "<style scoped>\n",
       "    .dataframe tbody tr th:only-of-type {\n",
       "        vertical-align: middle;\n",
       "    }\n",
       "\n",
       "    .dataframe tbody tr th {\n",
       "        vertical-align: top;\n",
       "    }\n",
       "\n",
       "    .dataframe thead th {\n",
       "        text-align: right;\n",
       "    }\n",
       "</style>\n",
       "<table border=\"1\" class=\"dataframe\">\n",
       "  <thead>\n",
       "    <tr style=\"text-align: right;\">\n",
       "      <th></th>\n",
       "      <th>Adj Close</th>\n",
       "    </tr>\n",
       "  </thead>\n",
       "  <tbody>\n",
       "    <tr>\n",
       "      <th>0</th>\n",
       "      <td>1438.239990</td>\n",
       "    </tr>\n",
       "    <tr>\n",
       "      <th>1</th>\n",
       "      <td>1406.819946</td>\n",
       "    </tr>\n",
       "    <tr>\n",
       "      <th>2</th>\n",
       "      <td>1420.859985</td>\n",
       "    </tr>\n",
       "    <tr>\n",
       "      <th>3</th>\n",
       "      <td>1482.369995</td>\n",
       "    </tr>\n",
       "    <tr>\n",
       "      <th>4</th>\n",
       "      <td>1530.619995</td>\n",
       "    </tr>\n",
       "  </tbody>\n",
       "</table>\n",
       "</div>"
      ],
      "text/plain": [
       "     Adj Close\n",
       "0  1438.239990\n",
       "1  1406.819946\n",
       "2  1420.859985\n",
       "3  1482.369995\n",
       "4  1530.619995"
      ]
     },
     "execution_count": 17,
     "metadata": {},
     "output_type": "execute_result"
    }
   ],
   "source": [
    "sp500.head()"
   ]
  },
  {
   "cell_type": "code",
   "execution_count": 18,
   "id": "62e3d006-a247-4fa2-8c6b-f373de8957e1",
   "metadata": {},
   "outputs": [],
   "source": [
    "goog['SP500'] = sp500['Adj Close']"
   ]
  },
  {
   "cell_type": "code",
   "execution_count": 19,
   "id": "f8d7544d-3ce2-4452-8a41-fcb4a6539cba",
   "metadata": {},
   "outputs": [
    {
     "data": {
      "text/html": [
       "<div>\n",
       "<style scoped>\n",
       "    .dataframe tbody tr th:only-of-type {\n",
       "        vertical-align: middle;\n",
       "    }\n",
       "\n",
       "    .dataframe tbody tr th {\n",
       "        vertical-align: top;\n",
       "    }\n",
       "\n",
       "    .dataframe thead th {\n",
       "        text-align: right;\n",
       "    }\n",
       "</style>\n",
       "<table border=\"1\" class=\"dataframe\">\n",
       "  <thead>\n",
       "    <tr style=\"text-align: right;\">\n",
       "      <th></th>\n",
       "      <th>Date</th>\n",
       "      <th>Goog</th>\n",
       "      <th>SP500</th>\n",
       "    </tr>\n",
       "  </thead>\n",
       "  <tbody>\n",
       "    <tr>\n",
       "      <th>0</th>\n",
       "      <td>2007-01-01</td>\n",
       "      <td>249.813644</td>\n",
       "      <td>1438.239990</td>\n",
       "    </tr>\n",
       "    <tr>\n",
       "      <th>1</th>\n",
       "      <td>2007-02-01</td>\n",
       "      <td>223.885818</td>\n",
       "      <td>1406.819946</td>\n",
       "    </tr>\n",
       "    <tr>\n",
       "      <th>2</th>\n",
       "      <td>2007-03-01</td>\n",
       "      <td>228.224564</td>\n",
       "      <td>1420.859985</td>\n",
       "    </tr>\n",
       "    <tr>\n",
       "      <th>3</th>\n",
       "      <td>2007-04-01</td>\n",
       "      <td>234.809875</td>\n",
       "      <td>1482.369995</td>\n",
       "    </tr>\n",
       "    <tr>\n",
       "      <th>4</th>\n",
       "      <td>2007-05-01</td>\n",
       "      <td>248.025345</td>\n",
       "      <td>1530.619995</td>\n",
       "    </tr>\n",
       "  </tbody>\n",
       "</table>\n",
       "</div>"
      ],
      "text/plain": [
       "         Date        Goog        SP500\n",
       "0  2007-01-01  249.813644  1438.239990\n",
       "1  2007-02-01  223.885818  1406.819946\n",
       "2  2007-03-01  228.224564  1420.859985\n",
       "3  2007-04-01  234.809875  1482.369995\n",
       "4  2007-05-01  248.025345  1530.619995"
      ]
     },
     "execution_count": 19,
     "metadata": {},
     "output_type": "execute_result"
    }
   ],
   "source": [
    "goog.head()"
   ]
  },
  {
   "cell_type": "code",
   "execution_count": 20,
   "id": "8fa50796-ac29-4c70-bb0e-df66d3d85c02",
   "metadata": {},
   "outputs": [
    {
     "data": {
      "text/plain": [
       "0.019379280200767277"
      ]
     },
     "execution_count": 20,
     "metadata": {},
     "output_type": "execute_result"
    }
   ],
   "source": [
    "(228.224564 - \t223.885818) / 223.885818"
   ]
  },
  {
   "cell_type": "code",
   "execution_count": null,
   "id": "a733dc9b-7186-4dd8-9969-9a51f8097239",
   "metadata": {},
   "outputs": [],
   "source": [
    "data = goog[['Goog','SP500']].pct_change() # ทำการคำนวณ เปอร์เซ็นต์การเปลี่ยนแปลง (percentage change) ของข้อมูลในคอลัมน์ 'Goog' และ 'SP500' ใน DataFrame goog โดยใช้ฟังก์ชัน pct_change()."
   ]
  },
  {
   "cell_type": "code",
   "execution_count": 22,
   "id": "dbc8b2df-5fb3-4fd8-bdba-f90c8002268a",
   "metadata": {},
   "outputs": [
    {
     "data": {
      "text/html": [
       "<div>\n",
       "<style scoped>\n",
       "    .dataframe tbody tr th:only-of-type {\n",
       "        vertical-align: middle;\n",
       "    }\n",
       "\n",
       "    .dataframe tbody tr th {\n",
       "        vertical-align: top;\n",
       "    }\n",
       "\n",
       "    .dataframe thead th {\n",
       "        text-align: right;\n",
       "    }\n",
       "</style>\n",
       "<table border=\"1\" class=\"dataframe\">\n",
       "  <thead>\n",
       "    <tr style=\"text-align: right;\">\n",
       "      <th></th>\n",
       "      <th>Goog</th>\n",
       "      <th>SP500</th>\n",
       "    </tr>\n",
       "  </thead>\n",
       "  <tbody>\n",
       "    <tr>\n",
       "      <th>0</th>\n",
       "      <td>NaN</td>\n",
       "      <td>NaN</td>\n",
       "    </tr>\n",
       "    <tr>\n",
       "      <th>1</th>\n",
       "      <td>-0.103789</td>\n",
       "      <td>-0.021846</td>\n",
       "    </tr>\n",
       "    <tr>\n",
       "      <th>2</th>\n",
       "      <td>0.019379</td>\n",
       "      <td>0.009980</td>\n",
       "    </tr>\n",
       "    <tr>\n",
       "      <th>3</th>\n",
       "      <td>0.028855</td>\n",
       "      <td>0.043291</td>\n",
       "    </tr>\n",
       "    <tr>\n",
       "      <th>4</th>\n",
       "      <td>0.056282</td>\n",
       "      <td>0.032549</td>\n",
       "    </tr>\n",
       "  </tbody>\n",
       "</table>\n",
       "</div>"
      ],
      "text/plain": [
       "       Goog     SP500\n",
       "0       NaN       NaN\n",
       "1 -0.103789 -0.021846\n",
       "2  0.019379  0.009980\n",
       "3  0.028855  0.043291\n",
       "4  0.056282  0.032549"
      ]
     },
     "execution_count": 22,
     "metadata": {},
     "output_type": "execute_result"
    }
   ],
   "source": [
    "data.head()"
   ]
  },
  {
   "cell_type": "code",
   "execution_count": 23,
   "id": "3944c5d3-8e86-401b-8eee-ad718e781976",
   "metadata": {},
   "outputs": [
    {
     "data": {
      "text/plain": [
       "(127, 3)"
      ]
     },
     "execution_count": 23,
     "metadata": {},
     "output_type": "execute_result"
    }
   ],
   "source": [
    "goog.shape"
   ]
  },
  {
   "cell_type": "code",
   "execution_count": null,
   "id": "d7a2f941-dc9d-4b46-932c-0d3bfc6bbbeb",
   "metadata": {},
   "outputs": [],
   "source": [
    "x_data = data['Goog'].values[1:]    # เลือกทุกแถว (row) ยกเว้นแถวแรก จากคอลัมน์ 'Goog' \n",
    "y_data =data['SP500'].values[1:]"
   ]
  },
  {
   "cell_type": "code",
   "execution_count": 30,
   "id": "212480d7",
   "metadata": {},
   "outputs": [
    {
     "data": {
      "text/html": [
       "<div>\n",
       "<style scoped>\n",
       "    .dataframe tbody tr th:only-of-type {\n",
       "        vertical-align: middle;\n",
       "    }\n",
       "\n",
       "    .dataframe tbody tr th {\n",
       "        vertical-align: top;\n",
       "    }\n",
       "\n",
       "    .dataframe thead th {\n",
       "        text-align: right;\n",
       "    }\n",
       "</style>\n",
       "<table border=\"1\" class=\"dataframe\">\n",
       "  <thead>\n",
       "    <tr style=\"text-align: right;\">\n",
       "      <th></th>\n",
       "      <th>Goog</th>\n",
       "      <th>SP500</th>\n",
       "    </tr>\n",
       "  </thead>\n",
       "  <tbody>\n",
       "    <tr>\n",
       "      <th>0</th>\n",
       "      <td>NaN</td>\n",
       "      <td>NaN</td>\n",
       "    </tr>\n",
       "    <tr>\n",
       "      <th>1</th>\n",
       "      <td>-0.103789</td>\n",
       "      <td>-0.021846</td>\n",
       "    </tr>\n",
       "    <tr>\n",
       "      <th>2</th>\n",
       "      <td>0.019379</td>\n",
       "      <td>0.009980</td>\n",
       "    </tr>\n",
       "    <tr>\n",
       "      <th>3</th>\n",
       "      <td>0.028855</td>\n",
       "      <td>0.043291</td>\n",
       "    </tr>\n",
       "    <tr>\n",
       "      <th>4</th>\n",
       "      <td>0.056282</td>\n",
       "      <td>0.032549</td>\n",
       "    </tr>\n",
       "    <tr>\n",
       "      <th>...</th>\n",
       "      <td>...</td>\n",
       "      <td>...</td>\n",
       "    </tr>\n",
       "    <tr>\n",
       "      <th>122</th>\n",
       "      <td>0.007714</td>\n",
       "      <td>-0.000389</td>\n",
       "    </tr>\n",
       "    <tr>\n",
       "      <th>123</th>\n",
       "      <td>0.092097</td>\n",
       "      <td>0.009091</td>\n",
       "    </tr>\n",
       "    <tr>\n",
       "      <th>124</th>\n",
       "      <td>0.065014</td>\n",
       "      <td>0.011576</td>\n",
       "    </tr>\n",
       "    <tr>\n",
       "      <th>125</th>\n",
       "      <td>-0.011877</td>\n",
       "      <td>0.007293</td>\n",
       "    </tr>\n",
       "    <tr>\n",
       "      <th>126</th>\n",
       "      <td>0.000000</td>\n",
       "      <td>0.004512</td>\n",
       "    </tr>\n",
       "  </tbody>\n",
       "</table>\n",
       "<p>127 rows × 2 columns</p>\n",
       "</div>"
      ],
      "text/plain": [
       "         Goog     SP500\n",
       "0         NaN       NaN\n",
       "1   -0.103789 -0.021846\n",
       "2    0.019379  0.009980\n",
       "3    0.028855  0.043291\n",
       "4    0.056282  0.032549\n",
       "..        ...       ...\n",
       "122  0.007714 -0.000389\n",
       "123  0.092097  0.009091\n",
       "124  0.065014  0.011576\n",
       "125 -0.011877  0.007293\n",
       "126  0.000000  0.004512\n",
       "\n",
       "[127 rows x 2 columns]"
      ]
     },
     "execution_count": 30,
     "metadata": {},
     "output_type": "execute_result"
    }
   ],
   "source": [
    "data"
   ]
  },
  {
   "cell_type": "code",
   "execution_count": 31,
   "id": "969401e4-c4a2-463d-9ce0-ea5f2ba37b12",
   "metadata": {},
   "outputs": [
    {
     "data": {
      "text/plain": [
       "<matplotlib.collections.PathCollection at 0x294b8b3d0>"
      ]
     },
     "execution_count": 31,
     "metadata": {},
     "output_type": "execute_result"
    },
    {
     "data": {
      "image/png": "[encoded data removed]",
      "text/plain": [
       "<Figure size 640x480 with 1 Axes>"
      ]
     },
     "metadata": {},
     "output_type": "display_data"
    }
   ],
   "source": [
    "plt.scatter(x_data, y_data)"
   ]
  },
  {
   "cell_type": "markdown",
   "id": "6afdec96-af49-45e6-8428-039f3b231f01",
   "metadata": {},
   "source": [
    "# Linear Regresion model on Stock Data"
   ]
  },
  {
   "cell_type": "raw",
   "id": "e0aa0f69-7947-41ec-b532-99bc05030549",
   "metadata": {},
   "source": [
    "Model = mx + b\n",
    "=> find m,b"
   ]
  },
  {
   "cell_type": "code",
   "execution_count": 32,
   "id": "a685376d-18ab-4b69-850a-49f3b9506e20",
   "metadata": {},
   "outputs": [],
   "source": [
    "m = tf.Variable(tf.random_uniform([]))\n",
    "b = tf.Variable(tf.random_uniform([]))"
   ]
  },
  {
   "cell_type": "code",
   "execution_count": 33,
   "id": "e7d7a4aa-6253-4ca8-b256-d86ce237c2ae",
   "metadata": {},
   "outputs": [],
   "source": [
    "x_pl = tf.placeholder(tf.float32)\n",
    "y_pl = tf.placeholder(tf.float32)"
   ]
  },
  {
   "cell_type": "code",
   "execution_count": 36,
   "id": "10707619-7c01-4740-9c01-1b2e4fe5ebcc",
   "metadata": {},
   "outputs": [],
   "source": [
    "model = m * x_pl + b"
   ]
  },
  {
   "cell_type": "code",
   "execution_count": 37,
   "id": "125d79da-6fb7-4ad1-8de2-7c6bd60ac47b",
   "metadata": {},
   "outputs": [],
   "source": [
    "loss = tf.reduce_mean(tf.square(model - y_pl)) #  Mean Squared Error"
   ]
  },
  {
   "cell_type": "code",
   "execution_count": 40,
   "id": "7e88c2a2-dfcd-4cc6-9c02-a4b9d0588393",
   "metadata": {},
   "outputs": [],
   "source": [
    "learning_rate = 0.01"
   ]
  },
  {
   "cell_type": "code",
   "execution_count": 41,
   "id": "056d78c6-1213-4399-90bc-e80541d02aa8",
   "metadata": {},
   "outputs": [],
   "source": [
    "Adam = tf.train.AdamOptimizer(learning_rate)"
   ]
  },
  {
   "cell_type": "code",
   "execution_count": 42,
   "id": "bc9491ff-30a5-4897-84bc-85bf5b278e9b",
   "metadata": {},
   "outputs": [],
   "source": [
    "optimizer = Adam.minimize(loss)"
   ]
  },
  {
   "cell_type": "code",
   "execution_count": 43,
   "id": "c404ad97-f8ef-4a95-816c-dcf7a122c353",
   "metadata": {},
   "outputs": [],
   "source": [
    "epochs = 500"
   ]
  },
  {
   "cell_type": "code",
   "execution_count": 44,
   "id": "91d17fe5-dbfe-438b-87e0-b5b1e83a5ea1",
   "metadata": {},
   "outputs": [],
   "source": [
    "init = tf.global_variables_initializer() # tf.train.AdamOptimizer: คือ optimizer ที่ใช้วิธีการ gradient descent + momentum + adaptive learning rate \n",
    "# เพื่อให้อัปเดตโมเดลได้เร็วและเสถียรกว่า optimizer ทั่วไป เช่น GradientDescentOptimizer."
   ]
  },
  {
   "cell_type": "code",
   "execution_count": 45,
   "id": "0206d0f4-5d79-4cbe-9aa1-58f975d7c86a",
   "metadata": {},
   "outputs": [],
   "source": [
    "losses = []\n",
    "m_list = []\n",
    "b_list = []"
   ]
  },
  {
   "cell_type": "code",
   "execution_count": null,
   "id": "6816bcd3-0c1e-4f64-ad29-bc9b22f9a50b",
   "metadata": {},
   "outputs": [
    {
     "name": "stdout",
     "output_type": "stream",
     "text": [
      "epoch 0 ,loss Tensor(\"Mean:0\", shape=(), dtype=float32)\n",
      "slope: 0.9107806 ,intercept: 0.37031353\n",
      "epoch 10 ,loss Tensor(\"Mean:0\", shape=(), dtype=float32)\n",
      "slope: 0.81189096 ,intercept: 0.27170584\n",
      "epoch 20 ,loss Tensor(\"Mean:0\", shape=(), dtype=float32)\n",
      "slope: 0.7184914 ,intercept: 0.18020797\n",
      "epoch 30 ,loss Tensor(\"Mean:0\", shape=(), dtype=float32)\n",
      "slope: 0.6354972 ,intercept: 0.10273832\n",
      "epoch 40 ,loss Tensor(\"Mean:0\", shape=(), dtype=float32)\n",
      "slope: 0.5665715 ,intercept: 0.04487996\n",
      "epoch 50 ,loss Tensor(\"Mean:0\", shape=(), dtype=float32)\n",
      "slope: 0.51293445 ,intercept: 0.008612949\n",
      "epoch 60 ,loss Tensor(\"Mean:0\", shape=(), dtype=float32)\n",
      "slope: 0.4730678 ,intercept: -0.008612161\n",
      "epoch 70 ,loss Tensor(\"Mean:0\", shape=(), dtype=float32)\n",
      "slope: 0.44356441 ,intercept: -0.012568051\n",
      "epoch 80 ,loss Tensor(\"Mean:0\", shape=(), dtype=float32)\n",
      "slope: 0.4205995 ,intercept: -0.009705614\n",
      "epoch 90 ,loss Tensor(\"Mean:0\", shape=(), dtype=float32)\n",
      "slope: 0.4011729 ,intercept: -0.0050595137\n",
      "epoch 100 ,loss Tensor(\"Mean:0\", shape=(), dtype=float32)\n",
      "slope: 0.38362882 ,intercept: -0.0014078987\n",
      "epoch 110 ,loss Tensor(\"Mean:0\", shape=(), dtype=float32)\n",
      "slope: 0.36749145 ,intercept: 0.00046382064\n",
      "epoch 120 ,loss Tensor(\"Mean:0\", shape=(), dtype=float32)\n",
      "slope: 0.35294965 ,intercept: 0.0009461501\n",
      "epoch 130 ,loss Tensor(\"Mean:0\", shape=(), dtype=float32)\n",
      "slope: 0.3403403 ,intercept: 0.00077894627\n",
      "epoch 140 ,loss Tensor(\"Mean:0\", shape=(), dtype=float32)\n",
      "slope: 0.3298352 ,intercept: 0.0005335674\n",
      "epoch 150 ,loss Tensor(\"Mean:0\", shape=(), dtype=float32)\n",
      "slope: 0.32136068 ,intercept: 0.0004550893\n",
      "epoch 160 ,loss Tensor(\"Mean:0\", shape=(), dtype=float32)\n",
      "slope: 0.31466737 ,intercept: 0.0005411995\n",
      "epoch 170 ,loss Tensor(\"Mean:0\", shape=(), dtype=float32)\n",
      "slope: 0.3094441 ,intercept: 0.0006930795\n",
      "epoch 180 ,loss Tensor(\"Mean:0\", shape=(), dtype=float32)\n",
      "slope: 0.30540115 ,intercept: 0.0008264194\n",
      "epoch 190 ,loss Tensor(\"Mean:0\", shape=(), dtype=float32)\n",
      "slope: 0.30230257 ,intercept: 0.00090972835\n",
      "epoch 200 ,loss Tensor(\"Mean:0\", shape=(), dtype=float32)\n",
      "slope: 0.29996258 ,intercept: 0.0009515287\n",
      "epoch 210 ,loss Tensor(\"Mean:0\", shape=(), dtype=float32)\n",
      "slope: 0.29822916 ,intercept: 0.0009727575\n",
      "epoch 220 ,loss Tensor(\"Mean:0\", shape=(), dtype=float32)\n",
      "slope: 0.2969723 ,intercept: 0.0009883266\n",
      "epoch 230 ,loss Tensor(\"Mean:0\", shape=(), dtype=float32)\n",
      "slope: 0.29607984 ,intercept: 0.0010030728\n",
      "epoch 240 ,loss Tensor(\"Mean:0\", shape=(), dtype=float32)\n",
      "slope: 0.29545835 ,intercept: 0.0010160265\n",
      "epoch 250 ,loss Tensor(\"Mean:0\", shape=(), dtype=float32)\n",
      "slope: 0.2950335 ,intercept: 0.0010254874\n",
      "epoch 260 ,loss Tensor(\"Mean:0\", shape=(), dtype=float32)\n",
      "slope: 0.29474884 ,intercept: 0.0010312826\n",
      "epoch 270 ,loss Tensor(\"Mean:0\", shape=(), dtype=float32)\n",
      "slope: 0.2945624 ,intercept: 0.0010344788\n",
      "epoch 280 ,loss Tensor(\"Mean:0\", shape=(), dtype=float32)\n",
      "slope: 0.2944436 ,intercept: 0.0010363023\n",
      "epoch 290 ,loss Tensor(\"Mean:0\", shape=(), dtype=float32)\n",
      "slope: 0.2943703 ,intercept: 0.0010374989\n",
      "epoch 300 ,loss Tensor(\"Mean:0\", shape=(), dtype=float32)\n",
      "slope: 0.2943266 ,intercept: 0.0010383344\n",
      "epoch 310 ,loss Tensor(\"Mean:0\", shape=(), dtype=float32)\n",
      "slope: 0.2943017 ,intercept: 0.0010388661\n",
      "epoch 320 ,loss Tensor(\"Mean:0\", shape=(), dtype=float32)\n",
      "slope: 0.2942881 ,intercept: 0.0010391464\n",
      "epoch 330 ,loss Tensor(\"Mean:0\", shape=(), dtype=float32)\n",
      "slope: 0.29428124 ,intercept: 0.0010392641\n",
      "epoch 340 ,loss Tensor(\"Mean:0\", shape=(), dtype=float32)\n",
      "slope: 0.2942781 ,intercept: 0.0010393052\n",
      "epoch 350 ,loss Tensor(\"Mean:0\", shape=(), dtype=float32)\n",
      "slope: 0.29427695 ,intercept: 0.0010393204\n",
      "epoch 360 ,loss Tensor(\"Mean:0\", shape=(), dtype=float32)\n",
      "slope: 0.29427677 ,intercept: 0.0010393264\n",
      "epoch 370 ,loss Tensor(\"Mean:0\", shape=(), dtype=float32)\n",
      "slope: 0.29427698 ,intercept: 0.0010393264\n",
      "epoch 380 ,loss Tensor(\"Mean:0\", shape=(), dtype=float32)\n",
      "slope: 0.29427728 ,intercept: 0.0010393217\n",
      "epoch 390 ,loss Tensor(\"Mean:0\", shape=(), dtype=float32)\n",
      "slope: 0.29427758 ,intercept: 0.0010393158\n",
      "epoch 400 ,loss Tensor(\"Mean:0\", shape=(), dtype=float32)\n",
      "slope: 0.29427773 ,intercept: 0.0010393109\n",
      "epoch 410 ,loss Tensor(\"Mean:0\", shape=(), dtype=float32)\n",
      "slope: 0.29427773 ,intercept: 0.0010393092\n",
      "epoch 420 ,loss Tensor(\"Mean:0\", shape=(), dtype=float32)\n",
      "slope: 0.29427773 ,intercept: 0.0010393101\n",
      "epoch 430 ,loss Tensor(\"Mean:0\", shape=(), dtype=float32)\n",
      "slope: 0.29427773 ,intercept: 0.001039311\n",
      "epoch 440 ,loss Tensor(\"Mean:0\", shape=(), dtype=float32)\n",
      "slope: 0.29427773 ,intercept: 0.001039311\n",
      "epoch 450 ,loss Tensor(\"Mean:0\", shape=(), dtype=float32)\n",
      "slope: 0.29427773 ,intercept: 0.0010393108\n",
      "epoch 460 ,loss Tensor(\"Mean:0\", shape=(), dtype=float32)\n",
      "slope: 0.29427773 ,intercept: 0.0010393108\n",
      "epoch 470 ,loss Tensor(\"Mean:0\", shape=(), dtype=float32)\n",
      "slope: 0.29427773 ,intercept: 0.0010393108\n",
      "epoch 480 ,loss Tensor(\"Mean:0\", shape=(), dtype=float32)\n",
      "slope: 0.29427773 ,intercept: 0.0010393108\n",
      "epoch 490 ,loss Tensor(\"Mean:0\", shape=(), dtype=float32)\n",
      "slope: 0.29427773 ,intercept: 0.0010393108\n"
     ]
    }
   ],
   "source": [
    "with tf.Session() as sess:\n",
    "    # รันตัว initializer (เช่น การกำหนดค่าเริ่มต้นให้กับ m, b)\n",
    "    sess.run(init)\n",
    "    \n",
    "    # ในแต่ละ epoch จะอัปเดตค่าของ m และ b\n",
    "    for epoch in range(epochs):\n",
    "        # ใช้ optimizer เพื่อ ลดค่า loss โดยใช้ x_data และ y_data ที่ใส่ผ่าน feed_dict\n",
    "        sess.run(optimizer, feed_dict ={x_pl:x_data,y_pl:y_data})\n",
    "        if epoch % 10 == 0: # แสดงค่า loss ทุก ๆ 10 รอบ:\n",
    "            _loss = sess.run(loss,feed_dict={x_pl:x_data,y_pl:y_data})\n",
    "            print('epoch',epoch,',loss',loss)\n",
    "            losses.append(_loss)\n",
    "            \n",
    "            # คือการ \"ดึงค่าจริง\" ของตัวแปร m, b ออกมาจาก TensorFlow\n",
    "            _m,_b = sess.run([m,b])\n",
    "            print('slope:',_m,',intercept:',_b)\n",
    "            m_list.append(_m)\n",
    "            b_list.append(_b)\n",
    "    m_final,b_final,loss_final = sess.run([m,b,loss],feed_dict={x_pl:x_data,y_pl:y_data})"
   ]
  },
  {
   "cell_type": "code",
   "execution_count": 46,
   "id": "4bc8d992-3028-4134-84b5-9246bc26484d",
   "metadata": {},
   "outputs": [
    {
     "data": {
      "text/plain": [
       "[<matplotlib.lines.Line2D at 0x295587430>]"
      ]
     },
     "execution_count": 46,
     "metadata": {},
     "output_type": "execute_result"
    },
    {
     "data": {
      "image/png": "[encoded data removed]",
      "text/plain": [
       "<Figure size 640x480 with 1 Axes>"
      ]
     },
     "metadata": {},
     "output_type": "display_data"
    }
   ],
   "source": [
    "plt.plot(losses)"
   ]
  },
  {
   "cell_type": "code",
   "execution_count": 47,
   "id": "f200956d-fae9-4914-9673-24f89e07e0e0",
   "metadata": {},
   "outputs": [
    {
     "ename": "IndexError",
     "evalue": "list index out of range",
     "output_type": "error",
     "traceback": [
      "\u001b[0;31m---------------------------------------------------------------------------\u001b[0m",
      "\u001b[0;31mIndexError\u001b[0m                                Traceback (most recent call last)",
      "Cell \u001b[0;32mIn[47], line 2\u001b[0m\n\u001b[1;32m      1\u001b[0m plt\u001b[38;5;241m.\u001b[39mscatter(x_data, y_data)\n\u001b[0;32m----> 2\u001b[0m plt\u001b[38;5;241m.\u001b[39mplot(x_data , x_data \u001b[38;5;241m*\u001b[39m \u001b[43mm_list\u001b[49m\u001b[43m[\u001b[49m\u001b[38;5;241;43m0\u001b[39;49m\u001b[43m]\u001b[49m \u001b[38;5;241m+\u001b[39m b_list[\u001b[38;5;241m0\u001b[39m], \u001b[38;5;124m'\u001b[39m\u001b[38;5;124my-\u001b[39m\u001b[38;5;124m'\u001b[39m)\n\u001b[1;32m      3\u001b[0m plt\u001b[38;5;241m.\u001b[39mplot(x_data , x_data \u001b[38;5;241m*\u001b[39m m_list[\u001b[38;5;241m1\u001b[39m] \u001b[38;5;241m+\u001b[39m b_list[\u001b[38;5;241m1\u001b[39m], \u001b[38;5;124m'\u001b[39m\u001b[38;5;124mg-\u001b[39m\u001b[38;5;124m'\u001b[39m)\n\u001b[1;32m      4\u001b[0m plt\u001b[38;5;241m.\u001b[39mplot(x_data , x_data \u001b[38;5;241m*\u001b[39m m_final \u001b[38;5;241m+\u001b[39m b_final , \u001b[38;5;124m'\u001b[39m\u001b[38;5;124mr-\u001b[39m\u001b[38;5;124m'\u001b[39m)\n",
      "\u001b[0;31mIndexError\u001b[0m: list index out of range"
     ]
    },
    {
     "data": {
      "image/png": "[encoded data removed]",
      "text/plain": [
       "<Figure size 640x480 with 1 Axes>"
      ]
     },
     "metadata": {},
     "output_type": "display_data"
    }
   ],
   "source": [
    "plt.scatter(x_data, y_data)\n",
    "plt.plot(x_data , x_data * m_list[0] + b_list[0], 'y-')\n",
    "plt.plot(x_data , x_data * m_list[1] + b_list[1], 'g-')\n",
    "plt.plot(x_data , x_data * m_final + b_final , 'r-')"
   ]
  },
  {
   "cell_type": "code",
   "execution_count": null,
   "id": "d10094af-d07b-4aa7-b2da-d74d89c580b1",
   "metadata": {},
   "outputs": [],
   "source": []
  }
 ],
 "metadata": {
  "kernelspec": {
   "display_name": "new_env",
   "language": "python",
   "name": "python3"
  },
  "language_info": {
   "codemirror_mode": {
    "name": "ipython",
    "version": 3
   },
   "file_extension": ".py",
   "mimetype": "text/x-python",
   "name": "python",
   "nbconvert_exporter": "python",
   "pygments_lexer": "ipython3",
   "version": "3.9.21"
  }
 },
 "nbformat": 4,
 "nbformat_minor": 5
}
