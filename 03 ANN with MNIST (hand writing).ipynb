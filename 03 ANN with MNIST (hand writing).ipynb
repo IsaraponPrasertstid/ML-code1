{
 "cells": [
  {
   "cell_type": "code",
   "execution_count": 19,
   "id": "7b438150-695e-46b5-a181-eafdf3e0696a",
   "metadata": {},
   "outputs": [],
   "source": [
    "import tensorflow as tf\n",
    "import numpy as np\n",
    "import matplotlib.pyplot as plt"
   ]
  },
  {
   "cell_type": "code",
   "execution_count": 20,
   "id": "3c1f7785-9671-4971-922e-43e0fabe3c28",
   "metadata": {},
   "outputs": [],
   "source": [
    "from tensorflow.keras.datasets import mnist"
   ]
  },
  {
   "cell_type": "code",
   "execution_count": 21,
   "id": "8f040cad-a226-4a44-b321-98e0cbcae75f",
   "metadata": {},
   "outputs": [],
   "source": [
    "(X_train,y_train), (X_test, y_test) = mnist.load_data()"
   ]
  },
  {
   "cell_type": "code",
   "execution_count": 22,
   "id": "6ab12758-202d-4ec0-8467-88db4dd79c8f",
   "metadata": {},
   "outputs": [
    {
     "data": {
      "text/plain": [
       "((60000, 28, 28), (60000,), (10000, 28, 28), (10000,))"
      ]
     },
     "execution_count": 22,
     "metadata": {},
     "output_type": "execute_result"
    }
   ],
   "source": [
    "X_train.shape , y_train.shape , X_test.shape , y_test.shape\n",
    "\n",
    "\n",
    "# หมายถึง: มีภาพ 60,000 รูป\n",
    "# แต่ละภาพมีขนาด 28×28 (2D matrix) → 3 มิติ\n",
    "\n",
    "# มี 60,000 label (เช่น ตัวเลข 0–9)\n",
    "# เป็น เวกเตอร์ 1D เพราะแต่ละ label เป็นเพียงค่าดิจิตเดียว"
   ]
  },
  {
   "cell_type": "code",
   "execution_count": 23,
   "id": "e7680bfc-6b04-4aaa-beee-2f2a8f4ebb65",
   "metadata": {},
   "outputs": [
    {
     "data": {
      "text/plain": [
       "array([0, 1, 2, 3, 4, 5, 6, 7, 8, 9], dtype=uint8)"
      ]
     },
     "execution_count": 23,
     "metadata": {},
     "output_type": "execute_result"
    }
   ],
   "source": [
    "labels = np.unique(y_train)\n",
    "labels"
   ]
  },
  {
   "cell_type": "code",
   "execution_count": 24,
   "id": "e08cbf74-0073-4c68-8a84-6c2c48291f60",
   "metadata": {},
   "outputs": [
    {
     "data": {
      "text/plain": [
       "((10000, 28, 28), (10000,))"
      ]
     },
     "execution_count": 24,
     "metadata": {},
     "output_type": "execute_result"
    }
   ],
   "source": [
    "sample_size = 10000\n",
    "sample_indices = np.random.randint(0,X_train.shape[0], sample_size)\n",
    "X_tr = X_train[sample_indices]\n",
    "y_tr = y_train[sample_indices]\n",
    "X_tr.shape, y_tr.shape"
   ]
  },
  {
   "cell_type": "markdown",
   "id": "c74e2e26",
   "metadata": {},
   "source": [
    "# Normalize ค่า pixel ให้อยู่ในช่วง [0, 1]"
   ]
  },
  {
   "cell_type": "code",
   "execution_count": 25,
   "id": "febc3187-a0ef-4d20-b0e3-ba35de3e6c8b",
   "metadata": {},
   "outputs": [
    {
     "data": {
      "text/plain": [
       "(255, 0)"
      ]
     },
     "execution_count": 25,
     "metadata": {},
     "output_type": "execute_result"
    }
   ],
   "source": [
    "X_tr.max(), X_tr.min() # Normalization for train set ตรวจสอบค่ามากสุด/น้อยสุดของ pixel → โดยทั่วไปจะอยู่ในช่วง 0–255"
   ]
  },
  {
   "cell_type": "code",
   "execution_count": 26,
   "id": "1faa6a06-e332-4516-922d-ced3ce95fe96",
   "metadata": {},
   "outputs": [],
   "source": [
    "X_tr = X_tr / X_tr.max() # หารด้วยค่าสูงสุด (255) → ทำให้ทุก pixel อยู่ในช่วง [0, 1]"
   ]
  },
  {
   "cell_type": "code",
   "execution_count": 27,
   "id": "bad881ca-9df2-4f55-bfc1-3afada3ff153",
   "metadata": {},
   "outputs": [
    {
     "data": {
      "text/plain": [
       "1.0"
      ]
     },
     "execution_count": 27,
     "metadata": {},
     "output_type": "execute_result"
    }
   ],
   "source": [
    "X_tr.max() # ตรวจสอบว่าหลัง normalize แล้ว ค่าสูงสุดเป็น 1 หรือไม่ (ควรจะเป็น)"
   ]
  },
  {
   "cell_type": "code",
   "execution_count": 28,
   "id": "abeaa21a-d597-4403-834d-96efdc65b8d1",
   "metadata": {},
   "outputs": [],
   "source": [
    "#  Normalization สำหรับ test set:\n",
    "X_te = X_test / X_test.max()"
   ]
  },
  {
   "cell_type": "raw",
   "id": "7c1124f0-ab92-43db-8cd4-5e4fb31820fd",
   "metadata": {
    "vscode": {
     "languageId": "raw"
    }
   },
   "source": [
    "โมเดล Neural Network แบบพื้นฐานที่ใช้กับข้อมูลภาพ MNIST (หรือภาพขาวดำขนาด 28×28) โดยสามารถอธิบายแต่ละชั้นได้ดังนี้:\n",
    " 1. Input Layer: input(28x28)\n",
    "ข้อมูล input ยังอยู่ในรูป matrix 2D\n",
    "\n",
    " 2. Flatten Layer: flatten(784)\n",
    "เปลี่ยน matrix ขนาด (28, 28) → เป็นเวกเตอร์ 1D ขนาด 784\n",
    "เพราะ 28 × 28 = 784\n",
    "จำเป็นต้อง flatten ก่อนจะส่งเข้าชั้น Dense\n",
    "\n",
    "\n",
    "3. Dense Layer: Dense(128)\n",
    "เป็น fully connected layer ที่มี neuron ทั้งหมด 128 ตัว\n",
    "ทุก neuron เชื่อมต่อกับ input vector ขนาด 784\n",
    "ทำหน้าที่เรียนรู้ feature ซับซ้อน จากข้อมูลภาพ\n",
    "มักใช้ activation function เช่น ReLU\n",
    "\n",
    "4. Output Layer: output(10)\n",
    "เป็น fully connected layer ที่มี 10 neuron\n",
    "ใช้ softmax activation เพื่อทำนายผลลัพธ์ 10 class (เลข 0–9)\n",
    "ผลลัพธ์แต่ละช่องคือ probability ว่าภาพนั้นเป็นเลขอะไร\n",
    "\n",
    "\n",
    "\n",
    "structure of neural network => input(28x28) - flatten(784) - Dense(128) - output(10)"
   ]
  },
  {
   "cell_type": "markdown",
   "id": "c10380ff",
   "metadata": {},
   "source": [
    "| Layer   | Shape Input → Output | Function                |\n",
    "| ------- | -------------------- | ----------------------- |\n",
    "| Input   | (28, 28)             | ภาพขาวดำขนาด 28x28      |\n",
    "| Flatten | (28, 28) → (784,)    | แปลงภาพเป็นเวกเตอร์     |\n",
    "| Dense   | (784,) → (128,)      | Hidden layer พร้อม ReLU |\n",
    "| Dense   | (128,) → (10,)       | Output softmax 10 class |\n"
   ]
  },
  {
   "cell_type": "code",
   "execution_count": 29,
   "id": "9f05e4f1-0334-4258-a39e-42937b41fb44",
   "metadata": {},
   "outputs": [],
   "source": [
    "from tensorflow.keras import Sequential\n",
    "from tensorflow.keras.layers import InputLayer, Flatten, Dense"
   ]
  },
  {
   "cell_type": "code",
   "execution_count": 38,
   "id": "64056edc-3d86-4099-93a5-ccd6cdb9f981",
   "metadata": {},
   "outputs": [],
   "source": [
    "model = Sequential()"
   ]
  },
  {
   "cell_type": "markdown",
   "id": "86f403de",
   "metadata": {},
   "source": [
    "🔧 การสร้างโมเดลแบบ \"Sequential model\"\n",
    "\n",
    "ซึ่งเป็นโมเดลที่ ประกอบด้วยชั้น (layers) เรียงลำดับกันทีละชั้น ตั้งแต่ input → output\n",
    "\n",
    "ไม่มีโครงสร้างซับซ้อน (เช่น branch หรือ merge)"
   ]
  },
  {
   "cell_type": "code",
   "execution_count": 39,
   "id": "54f1b00c",
   "metadata": {},
   "outputs": [],
   "source": [
    "# ANN คืออะไร?\n",
    "\n",
    "\n",
    "# ANN ไม่มีการเรียนรู้ \"พื้นที่\" ของภาพโดยตรง\n",
    "\n",
    "# มัน flatten (แบน) ภาพจาก 2D → 1D ก่อนเรียนรู้\n",
    "\n",
    "# ทำงานเหมือนกับ data ทั่วไป เช่นตารางค่าตัวเลข\n",
    "\n",
    "\n",
    "# ใช้ ANN เมื่อไหร่?\n",
    "\n",
    "# ใช้ได้กับ MNIST และ dataset ขนาดเล็ก\n",
    "\n",
    "# เร็ว, โครงสร้างง่าย, เทรนไว\n",
    "\n",
    "# แต่ไม่เหมาะกับภาพที่ซับซ้อน เช่น รูปถ่ายหรือภาพสี"
   ]
  },
  {
   "cell_type": "code",
   "execution_count": 40,
   "id": "b52938ad-0a91-4c93-ac25-984e1b702568",
   "metadata": {},
   "outputs": [],
   "source": [
    "input_layer = InputLayer(shape = [28,28]) # กำหนด input เป็นภาพขนาด 28x28 (เช่น MNIST)\n",
    "# ไม่มี channel ชัดเจน (หรือถือว่า channel=1) ถ้าเป็น ขาวดำ (สำหรับ CNN) เพิ่ม dimension ช่องสี = 1 -> (28, 28, 1)\t\n",
    "\n",
    "flatten_layer = Flatten() # แปลง input matrix (28x28) → เวกเตอร์ 1D ขนาด 784 (28×28)\n",
    "# ใช้เพื่อป้อนเข้า dense layer\n",
    "\n",
    "hidden_layer = Dense(128, activation = tf.nn.relu) # Fully connected layer มี 128 neuron\n",
    "# ใช้ ReLU เป็น activation function\n",
    "\n",
    "output_layer = Dense(len(labels), activation = tf.nn.softmax) # Output layer ใช้ softmax → เหมาะสำหรับ multi-class classification\n",
    "# len(labels) คือจำนวน class (เช่น MNIST จะเท่ากับ 10)"
   ]
  },
  {
   "cell_type": "markdown",
   "id": "7ad46c6f",
   "metadata": {},
   "source": [
    "คำตอบสั้น:\n",
    "128 เป็นจำนวน neurons ที่ \"กำหนดเอง\" ได้ เพื่อควบคุม ความสามารถในการเรียนรู้ ของโมเดล\n",
    "\n",
    "เหตุผลที่นิยมใช้ 128:\n",
    "\n",
    "เป็นขนาดที่ ไม่เล็กจนเกินไป จนเรียนรู้ pattern ไม่ได้\n",
    "และก็ ไม่ใหญ่เกินไป จนใช้ทรัพยากรเยอะเกินจำเป็น\n",
    "เหมาะสำหรับ ข้อมูลขนาดกลาง อย่าง MNIST (28x28 รูปภาพ)\n",
    "📌 ค่าอื่นที่นิยมใช้: 32, 64, 128, 256, 512\n",
    "(ขึ้นอยู่กับความซับซ้อนของงานและขนาด dataset)\n",
    "\n",
    "✅ ยิ่ง neuron เยอะ → โมเดลอาจแม่นยำขึ้น\n",
    "❗ แต่ก็เสี่ยง overfitting และเทรนช้าลง"
   ]
  },
  {
   "cell_type": "markdown",
   "id": "eed542e3",
   "metadata": {},
   "source": [
    "⚡ 2. ทำไมใช้ ReLU (Rectified Linear Unit)?\n",
    "activation='relu'\n",
    "ReLU ยอดนิยมมากเพราะ:\n",
    "\n",
    "ทำงานเร็ว: คำนวณง่าย (f(x) = max(0, x))\n",
    "ลดปัญหา gradient หาย (vanishing gradient)\n",
    "ช่วยให้โมเดลเรียนรู้ได้ดีใน deep network\n",
    "📌 ใช้กับ hidden layer เท่านั้น (เช่น 128 neuron)\n",
    "📌 ส่วน output layer ใช้ softmax → เพื่อ classification"
   ]
  },
  {
   "cell_type": "code",
   "execution_count": 41,
   "id": "fc0ddff8-382e-438d-9b73-089820bfccf8",
   "metadata": {},
   "outputs": [],
   "source": [
    "model.add(input_layer) # เพิ่ม input layer เข้าไปในโมเดล รับภาพ 28x28 (จาก MNIST)\n",
    "model.add(flatten_layer) # แปลงภาพจาก (28, 28) → เวกเตอร์ขนาด 784 เพื่อป้อนเข้า dense layer\n",
    "model.add(hidden_layer) # เพิ่ม hidden layer ที่มี 128 neuron + ReLU activation ช่วยเรียนรู้ feature ที่ซับซ้อนขึ้น\n",
    "model.add(output_layer) # เพิ่ม output layer ที่มี len(labels) neuron (เช่น 10 class สำหรับ MNIST)\n",
    "# ใช้ softmax เพื่อแปลง output เป็นความน่าจะเป็นแต่ละ class"
   ]
  },
  {
   "cell_type": "code",
   "execution_count": null,
   "id": "96a9347a",
   "metadata": {},
   "outputs": [],
   "source": [
    "# ทียบกับวิธีสั้น (แนะนำถ้าไม่ต้องแยก layer):\n",
    "from tensorflow.keras.layers import  Input\n",
    "\n",
    "model = Sequential([\n",
    "    Input(shape=(28, 28)),  # กำหนด input shape โดยไม่ต้องใช้ InputLayer\n",
    "    Flatten(),\n",
    "    Dense(128, activation='relu'),\n",
    "    Dense(10, activation='softmax')\n",
    "])\n"
   ]
  },
  {
   "cell_type": "code",
   "execution_count": 42,
   "id": "d9b0be28-7dd6-4ca5-8080-7592937f02fb",
   "metadata": {},
   "outputs": [
    {
     "data": {
      "text/html": [
       "<pre style=\"white-space:pre;overflow-x:auto;line-height:normal;font-family:Menlo,'DejaVu Sans Mono',consolas,'Courier New',monospace\"><span style=\"font-weight: bold\">Model: \"sequential_3\"</span>\n",
       "</pre>\n"
      ],
      "text/plain": [
       "\u001b[1mModel: \"sequential_3\"\u001b[0m\n"
      ]
     },
     "metadata": {},
     "output_type": "display_data"
    },
    {
     "data": {
      "text/html": [
       "<pre style=\"white-space:pre;overflow-x:auto;line-height:normal;font-family:Menlo,'DejaVu Sans Mono',consolas,'Courier New',monospace\">┏━━━━━━━━━━━━━━━━━━━━━━━━━━━━━━━━━┳━━━━━━━━━━━━━━━━━━━━━━━━┳━━━━━━━━━━━━━━━┓\n",
       "┃<span style=\"font-weight: bold\"> Layer (type)                    </span>┃<span style=\"font-weight: bold\"> Output Shape           </span>┃<span style=\"font-weight: bold\">       Param # </span>┃\n",
       "┡━━━━━━━━━━━━━━━━━━━━━━━━━━━━━━━━━╇━━━━━━━━━━━━━━━━━━━━━━━━╇━━━━━━━━━━━━━━━┩\n",
       "│ flatten_4 (<span style=\"color: #0087ff; text-decoration-color: #0087ff\">Flatten</span>)             │ (<span style=\"color: #00d7ff; text-decoration-color: #00d7ff\">None</span>, <span style=\"color: #00af00; text-decoration-color: #00af00\">784</span>)            │             <span style=\"color: #00af00; text-decoration-color: #00af00\">0</span> │\n",
       "├─────────────────────────────────┼────────────────────────┼───────────────┤\n",
       "│ dense_8 (<span style=\"color: #0087ff; text-decoration-color: #0087ff\">Dense</span>)                 │ (<span style=\"color: #00d7ff; text-decoration-color: #00d7ff\">None</span>, <span style=\"color: #00af00; text-decoration-color: #00af00\">128</span>)            │       <span style=\"color: #00af00; text-decoration-color: #00af00\">100,480</span> │\n",
       "├─────────────────────────────────┼────────────────────────┼───────────────┤\n",
       "│ dense_9 (<span style=\"color: #0087ff; text-decoration-color: #0087ff\">Dense</span>)                 │ (<span style=\"color: #00d7ff; text-decoration-color: #00d7ff\">None</span>, <span style=\"color: #00af00; text-decoration-color: #00af00\">10</span>)             │         <span style=\"color: #00af00; text-decoration-color: #00af00\">1,290</span> │\n",
       "└─────────────────────────────────┴────────────────────────┴───────────────┘\n",
       "</pre>\n"
      ],
      "text/plain": [
       "┏━━━━━━━━━━━━━━━━━━━━━━━━━━━━━━━━━┳━━━━━━━━━━━━━━━━━━━━━━━━┳━━━━━━━━━━━━━━━┓\n",
       "┃\u001b[1m \u001b[0m\u001b[1mLayer (type)                   \u001b[0m\u001b[1m \u001b[0m┃\u001b[1m \u001b[0m\u001b[1mOutput Shape          \u001b[0m\u001b[1m \u001b[0m┃\u001b[1m \u001b[0m\u001b[1m      Param #\u001b[0m\u001b[1m \u001b[0m┃\n",
       "┡━━━━━━━━━━━━━━━━━━━━━━━━━━━━━━━━━╇━━━━━━━━━━━━━━━━━━━━━━━━╇━━━━━━━━━━━━━━━┩\n",
       "│ flatten_4 (\u001b[38;5;33mFlatten\u001b[0m)             │ (\u001b[38;5;45mNone\u001b[0m, \u001b[38;5;34m784\u001b[0m)            │             \u001b[38;5;34m0\u001b[0m │\n",
       "├─────────────────────────────────┼────────────────────────┼───────────────┤\n",
       "│ dense_8 (\u001b[38;5;33mDense\u001b[0m)                 │ (\u001b[38;5;45mNone\u001b[0m, \u001b[38;5;34m128\u001b[0m)            │       \u001b[38;5;34m100,480\u001b[0m │\n",
       "├─────────────────────────────────┼────────────────────────┼───────────────┤\n",
       "│ dense_9 (\u001b[38;5;33mDense\u001b[0m)                 │ (\u001b[38;5;45mNone\u001b[0m, \u001b[38;5;34m10\u001b[0m)             │         \u001b[38;5;34m1,290\u001b[0m │\n",
       "└─────────────────────────────────┴────────────────────────┴───────────────┘\n"
      ]
     },
     "metadata": {},
     "output_type": "display_data"
    },
    {
     "data": {
      "text/html": [
       "<pre style=\"white-space:pre;overflow-x:auto;line-height:normal;font-family:Menlo,'DejaVu Sans Mono',consolas,'Courier New',monospace\"><span style=\"font-weight: bold\"> Total params: </span><span style=\"color: #00af00; text-decoration-color: #00af00\">101,770</span> (397.54 KB)\n",
       "</pre>\n"
      ],
      "text/plain": [
       "\u001b[1m Total params: \u001b[0m\u001b[38;5;34m101,770\u001b[0m (397.54 KB)\n"
      ]
     },
     "metadata": {},
     "output_type": "display_data"
    },
    {
     "data": {
      "text/html": [
       "<pre style=\"white-space:pre;overflow-x:auto;line-height:normal;font-family:Menlo,'DejaVu Sans Mono',consolas,'Courier New',monospace\"><span style=\"font-weight: bold\"> Trainable params: </span><span style=\"color: #00af00; text-decoration-color: #00af00\">101,770</span> (397.54 KB)\n",
       "</pre>\n"
      ],
      "text/plain": [
       "\u001b[1m Trainable params: \u001b[0m\u001b[38;5;34m101,770\u001b[0m (397.54 KB)\n"
      ]
     },
     "metadata": {},
     "output_type": "display_data"
    },
    {
     "data": {
      "text/html": [
       "<pre style=\"white-space:pre;overflow-x:auto;line-height:normal;font-family:Menlo,'DejaVu Sans Mono',consolas,'Courier New',monospace\"><span style=\"font-weight: bold\"> Non-trainable params: </span><span style=\"color: #00af00; text-decoration-color: #00af00\">0</span> (0.00 B)\n",
       "</pre>\n"
      ],
      "text/plain": [
       "\u001b[1m Non-trainable params: \u001b[0m\u001b[38;5;34m0\u001b[0m (0.00 B)\n"
      ]
     },
     "metadata": {},
     "output_type": "display_data"
    }
   ],
   "source": [
    "model.summary()"
   ]
  },
  {
   "cell_type": "markdown",
   "id": "1e5ff9ba",
   "metadata": {},
   "source": [
    "ยอดเยี่ยม! ข้อมูลที่คุณเห็นคือ **สรุปโครงสร้างของโมเดล (Summary)** ซึ่งให้ข้อมูลสำคัญเกี่ยวกับ **layer ต่างๆ** และ **จำนวน parameters** ที่ใช้ในโมเดล\n",
    "\n",
    "มาดูรายละเอียดทีละส่วน:\n",
    "\n",
    "### 🧑‍🏫 **Layer Information:**\n",
    "\n",
    "1. **Flatten Layer (`flatten_4`)**\n",
    "\n",
    "   * **Output Shape:** `(None, 784)`\n",
    "   * เปลี่ยนข้อมูลจากภาพ 28x28 (2D) ให้เป็นเวกเตอร์ 1 มิติขนาด 784\n",
    "   * **Param #:** 0 เพราะไม่ใช่ layer ที่มีการเรียนรู้ (ไม่ต้องการพารามิเตอร์)\n",
    "\n",
    "2. **Dense Layer (`dense_8`)**\n",
    "\n",
    "   * **Output Shape:** `(None, 128)`\n",
    "   * ใช้ 128 neurons ใน hidden layer\n",
    "   * **Param #:** 100,480\n",
    "\n",
    "     * **อธิบาย:** มีพารามิเตอร์ที่ต้องฝึก 100,480 ค่า (จากการคำนวณ `784 * 128 + 128`, เพราะมี biases ด้วย)\n",
    "\n",
    "3. **Dense Layer (`dense_9`)**\n",
    "\n",
    "   * **Output Shape:** `(None, 10)`\n",
    "   * เป็น output layer ที่มี 10 neurons (เหมาะกับการจำแนกหมวดหมู่ 10 แบบ เช่น 0-9 สำหรับ MNIST)\n",
    "   * **Param #:** 1,290\n",
    "\n",
    "     * **อธิบาย:** มีพารามิเตอร์ที่ต้องฝึก 1,290 ค่า (จากการคำนวณ `128 * 10 + 10`)\n",
    "\n",
    "---\n",
    "\n",
    "### 💡 **สรุป**\n",
    "\n",
    "* **Total Parameters:** 101,770\n",
    "\n",
    "  * พารามิเตอร์ทั้งหมดที่ต้องฝึกในโมเดลนี้ (ใช้ในการเรียนรู้)\n",
    "* **Trainable Parameters:** 101,770\n",
    "\n",
    "  * พารามิเตอร์ทั้งหมดที่สามารถปรับได้ในระหว่างการฝึก\n",
    "* **Non-trainable Parameters:** 0\n",
    "\n",
    "  * ไม่มีพารามิเตอร์ที่ไม่สามารถปรับได้ (ทุกพารามิเตอร์สามารถปรับได้)\n"
   ]
  },
  {
   "cell_type": "code",
   "execution_count": null,
   "id": "94ac5ce1-77c6-4017-bd90-c938dbf4aa4a",
   "metadata": {},
   "outputs": [],
   "source": [
    "model.compile(optimizer = 'adam' , loss = 'sparse_categorical_crossentropy',metrics=['accuracy']) \n",
    "\n",
    "# Optimizer: 'adam'\n",
    "# Adam Optimizer คือ optimizer ที่มีประสิทธิภาพสูง ซึ่งเป็นที่นิยมใช้ในปัจจุบัน เนื่องจากมันคำนวณอัตราการเรียนรู้ (learning rate) ที่เหมาะสมและอัพเดตพารามิเตอร์ได้อย่างมีประสิทธิภาพ\n",
    "# Loss: 'sparse_categorical_crossentropy'\n",
    "# ใช้ sparse categorical cross-entropy เป็น loss function สำหรับการจำแนกประเภทหลายคลาสที่มี label เป็นตัวเลข (ไม่ต้องใช้ one-hot encoding)\n",
    "# Metrics: ['accuracy']\n",
    "\n",
    "# sparse categorical cross-entropy เป็น loss function ที่มักใช้ในงาน classification (การจำแนกประเภท) ที่มีหลายคลาส\n",
    "\n",
    "# \"sparse\": หมายความว่า labels ของคุณจะเป็นตัวเลข (integer) แทนการใช้ one-hot encoding (ไม่ต้องแปลง label เป็น vector ที่มีค่า 0 หรือ 1)\n",
    "# \"Categorical\": หมายถึงโมเดลของคุณกำลังทำการจำแนกข้อมูลที่มีหลายคลาส (หลายประเภท) เช่น 10 หมวดหมู่ (สำหรับ MNIST: 0-9)\n",
    "# \"Cross-Entropy\": เป็นเทคนิคที่ใช้เปรียบเทียบความแตกต่างระหว่าง distribution ของผลลัพธ์ที่โมเดลทำนาย กับ distribution ของคำตอบที่ถูกต้อง (จริง)\n",
    "\n",
    "# เรากำหนดให้ประเมินผลโดยใช้ accuracy ซึ่งจะวัดว่าโมเดลทำนายได้ถูกต้องแค่ไหน"
   ]
  },
  {
   "cell_type": "code",
   "execution_count": null,
   "id": "d5952cb3-8172-49f1-ab1e-238859574722",
   "metadata": {},
   "outputs": [
    {
     "name": "stdout",
     "output_type": "stream",
     "text": [
      "Epoch 1/10\n",
      "\u001b[1m313/313\u001b[0m \u001b[32m━━━━━━━━━━━━━━━━━━━━\u001b[0m\u001b[37m\u001b[0m \u001b[1m1s\u001b[0m 915us/step - accuracy: 0.7431 - loss: 0.8882\n",
      "Epoch 2/10\n",
      "\u001b[1m313/313\u001b[0m \u001b[32m━━━━━━━━━━━━━━━━━━━━\u001b[0m\u001b[37m\u001b[0m \u001b[1m0s\u001b[0m 1ms/step - accuracy: 0.9280 - loss: 0.2516\n",
      "Epoch 3/10\n",
      "\u001b[1m313/313\u001b[0m \u001b[32m━━━━━━━━━━━━━━━━━━━━\u001b[0m\u001b[37m\u001b[0m \u001b[1m0s\u001b[0m 861us/step - accuracy: 0.9524 - loss: 0.1688\n",
      "Epoch 4/10\n",
      "\u001b[1m313/313\u001b[0m \u001b[32m━━━━━━━━━━━━━━━━━━━━\u001b[0m\u001b[37m\u001b[0m \u001b[1m0s\u001b[0m 828us/step - accuracy: 0.9667 - loss: 0.1296\n",
      "Epoch 5/10\n",
      "\u001b[1m313/313\u001b[0m \u001b[32m━━━━━━━━━━━━━━━━━━━━\u001b[0m\u001b[37m\u001b[0m \u001b[1m0s\u001b[0m 843us/step - accuracy: 0.9741 - loss: 0.0947\n",
      "Epoch 6/10\n",
      "\u001b[1m313/313\u001b[0m \u001b[32m━━━━━━━━━━━━━━━━━━━━\u001b[0m\u001b[37m\u001b[0m \u001b[1m0s\u001b[0m 795us/step - accuracy: 0.9822 - loss: 0.0764\n",
      "Epoch 7/10\n",
      "\u001b[1m313/313\u001b[0m \u001b[32m━━━━━━━━━━━━━━━━━━━━\u001b[0m\u001b[37m\u001b[0m \u001b[1m0s\u001b[0m 936us/step - accuracy: 0.9887 - loss: 0.0539\n",
      "Epoch 8/10\n",
      "\u001b[1m313/313\u001b[0m \u001b[32m━━━━━━━━━━━━━━━━━━━━\u001b[0m\u001b[37m\u001b[0m \u001b[1m0s\u001b[0m 1ms/step - accuracy: 0.9907 - loss: 0.0420\n",
      "Epoch 9/10\n",
      "\u001b[1m313/313\u001b[0m \u001b[32m━━━━━━━━━━━━━━━━━━━━\u001b[0m\u001b[37m\u001b[0m \u001b[1m0s\u001b[0m 965us/step - accuracy: 0.9958 - loss: 0.0280\n",
      "Epoch 10/10\n",
      "\u001b[1m313/313\u001b[0m \u001b[32m━━━━━━━━━━━━━━━━━━━━\u001b[0m\u001b[37m\u001b[0m \u001b[1m0s\u001b[0m 840us/step - accuracy: 0.9964 - loss: 0.0235\n"
     ]
    }
   ],
   "source": [
    "result = model.fit(X_tr, y_tr,epochs = 10)\n"
   ]
  },
  {
   "cell_type": "code",
   "execution_count": 45,
   "id": "16715cc7-5ebf-40ba-92f3-fbe6cf7ba63c",
   "metadata": {},
   "outputs": [
    {
     "data": {
      "text/plain": [
       "<matplotlib.legend.Legend at 0x2a5475250>"
      ]
     },
     "execution_count": 45,
     "metadata": {},
     "output_type": "execute_result"
    },
    {
     "data": {
      "image/png": "[encoded data removed]",
      "text/plain": [
       "<Figure size 640x480 with 1 Axes>"
      ]
     },
     "metadata": {},
     "output_type": "display_data"
    }
   ],
   "source": [
    "plt.plot(result.history['loss'], label='loss')\n",
    "plt.plot(result.history['accuracy'],label='accuracy')\n",
    "plt.legend()"
   ]
  },
  {
   "cell_type": "code",
   "execution_count": null,
   "id": "caa10945-6ed6-4adb-8cef-e0bd63ef0d7b",
   "metadata": {},
   "outputs": [],
   "source": [
    "# ฟังก์ชัน display_digit(digit) ที่คุณเขียนขึ้นนี้จะใช้สำหรับการแสดงผลภาพของตัวเลขจากข้อมูลที่เป็น ภาพกราฟิก (เช่น ข้อมูลจากชุดข้อมูล MNIST) โดยใช้ Matplotlib เพื่อแสดงผลภาพของตัวเลขในรูปแบบของภาพขาวดำ\n",
    "\n",
    "def display_digit(digit):\n",
    "    plt.imshow(digit,cmap = 'gray', interpolation='nearest')\n",
    "    \n",
    "    \n",
    "#     plt.imshow(digit, cmap='gray', interpolation='nearest'):\n",
    "# plt.imshow(digit): ใช้สำหรับแสดงผลภาพจากตัวแปร digit ซึ่งในกรณีนี้คาดว่า digit จะเป็นข้อมูลภาพขนาด 28x28 (เช่น ในกรณีของ MNIST ที่แต่ละตัวเลขมีขนาด 28x28 พิกเซล)\n",
    "# cmap='gray': การตั้งค่า cmap='gray' หมายถึงใช้โทนสีขาวดำ (grayscale) สำหรับการแสดงผลของภาพ\n",
    "# interpolation='nearest': ใช้การ interpolation แบบ \"nearest\" ซึ่งหมายถึงการแสดงภาพโดยใช้ค่าพิกเซลที่ใกล้เคียงที่สุด (ไม่มีการเบลอภาพ) ซึ่งมักใช้ในการแสดงภาพที่เป็นค่าตัวเลขทั้งหมด (เช่น ข้อมูลจาก MNIST)"
   ]
  },
  {
   "cell_type": "code",
   "execution_count": 47,
   "id": "c1cc1107-28b5-4928-b223-9888900c8c7d",
   "metadata": {},
   "outputs": [
    {
     "data": {
      "image/png": "[encoded data removed]",
      "text/plain": [
       "<Figure size 640x480 with 1 Axes>"
      ]
     },
     "metadata": {},
     "output_type": "display_data"
    }
   ],
   "source": [
    "display_digit(X_train[5])"
   ]
  },
  {
   "cell_type": "code",
   "execution_count": 48,
   "id": "fed0dc46-db98-42c9-821c-7bfd9ec2c32f",
   "metadata": {},
   "outputs": [
    {
     "data": {
      "text/plain": [
       "2"
      ]
     },
     "execution_count": 48,
     "metadata": {},
     "output_type": "execute_result"
    }
   ],
   "source": [
    "y_train[5]"
   ]
  },
  {
   "cell_type": "code",
   "execution_count": 49,
   "id": "4d5d805a-9179-4060-bf1a-7909132db0bc",
   "metadata": {},
   "outputs": [
    {
     "data": {
      "image/png": "[encoded data removed]",
      "text/plain": [
       "<Figure size 640x480 with 1 Axes>"
      ]
     },
     "metadata": {},
     "output_type": "display_data"
    }
   ],
   "source": [
    "display_digit(X_te[5])"
   ]
  },
  {
   "cell_type": "code",
   "execution_count": 50,
   "id": "803414e0-2157-4633-987f-166353b197e0",
   "metadata": {},
   "outputs": [
    {
     "data": {
      "text/plain": [
       "1"
      ]
     },
     "execution_count": 50,
     "metadata": {},
     "output_type": "execute_result"
    }
   ],
   "source": [
    "y_test[5]"
   ]
  },
  {
   "cell_type": "code",
   "execution_count": 51,
   "id": "6f21395f-1de7-45c2-93b2-b29294b5cda4",
   "metadata": {},
   "outputs": [
    {
     "data": {
      "image/png": "[encoded data removed]",
      "text/plain": [
       "<Figure size 640x480 with 1 Axes>"
      ]
     },
     "metadata": {},
     "output_type": "display_data"
    }
   ],
   "source": [
    "display_digit(X_te[200])"
   ]
  },
  {
   "cell_type": "code",
   "execution_count": 52,
   "id": "17f0066e-e74c-4033-b780-09e677a7dfd2",
   "metadata": {},
   "outputs": [
    {
     "data": {
      "text/plain": [
       "3"
      ]
     },
     "execution_count": 52,
     "metadata": {},
     "output_type": "execute_result"
    }
   ],
   "source": [
    "y_test[200]"
   ]
  },
  {
   "cell_type": "code",
   "execution_count": 53,
   "id": "7250e5ec-9760-4a9a-a9fd-d98b440aca02",
   "metadata": {},
   "outputs": [
    {
     "name": "stdout",
     "output_type": "stream",
     "text": [
      "\u001b[1m313/313\u001b[0m \u001b[32m━━━━━━━━━━━━━━━━━━━━\u001b[0m\u001b[37m\u001b[0m \u001b[1m0s\u001b[0m 353us/step\n"
     ]
    }
   ],
   "source": [
    "pred_result = model.predict(X_te)"
   ]
  },
  {
   "cell_type": "code",
   "execution_count": 54,
   "id": "8af7d1fb-21d4-4683-9ac3-966be4949d52",
   "metadata": {},
   "outputs": [
    {
     "data": {
      "text/plain": [
       "array([3.1626671e-06, 1.5014024e-08, 2.6559190e-05, 1.3058749e-04,\n",
       "       1.1739273e-09, 5.4493319e-07, 8.3019772e-12, 9.9982357e-01,\n",
       "       2.5574909e-06, 1.2894055e-05], dtype=float32)"
      ]
     },
     "execution_count": 54,
     "metadata": {},
     "output_type": "execute_result"
    }
   ],
   "source": [
    "pred_result[0]"
   ]
  },
  {
   "cell_type": "code",
   "execution_count": 55,
   "id": "2ab9f453-345f-4a26-89e4-25c34df0dcfa",
   "metadata": {},
   "outputs": [
    {
     "data": {
      "text/plain": [
       "7"
      ]
     },
     "execution_count": 55,
     "metadata": {},
     "output_type": "execute_result"
    }
   ],
   "source": [
    "# คำสั่ง np.argmax(pred_result[0]) ใช้ในการหาค่าตำแหน่งของ ค่าที่สูงสุด (maximum value) ใน array หรือ list ที่ส่งไป โดยจะให้ ดัชนี (index) ของค่าที่มีค่ามากที่สุดใน array หรือ list นั้นๆ\n",
    "\n",
    "# np.argmax(pred_result[0]): ใช้หาค่าดัชนี (index) ของค่าที่สูงที่สุดใน pred_result[0].\n",
    "# ในตัวอย่างนี้ [0.1, 0.3, 0.5, 0.1], np.argmax() จะคืนค่าดัชนี 2 เพราะ 0.5 เป็นค่าที่สูงที่สุดใน array และมันอยู่ที่ index 2\n",
    "\n",
    "# ผลลัพธ์ที่โมเดลทำนาย (probabilities ของแต่ละคลาส)\n",
    "# pred_result = np.array([[0.1, 0.3, 0.5, 0.1]])\n",
    "\n",
    "# # ค้นหาคลาสที่มีค่าความน่าจะเป็นสูงสุด\n",
    "# predicted_class = np.argmax(pred_result[0])\n",
    "\n",
    "# print(predicted_class)  # Output: 2\n",
    "\n",
    "# ในกรณีนี้, np.argmax(pred_result[0]) จะให้ค่า 2, ซึ่งหมายความว่า คลาสที่โมเดลทำนายเป็นไปได้มากที่สุด คือคลาสที่มีค่าความน่าจะเป็นสูงสุด (ในที่นี้คือ 0.5 ซึ่งอยู่ใน index 2)\n",
    "\n",
    "# ใช่แล้วครับ! เมื่อคุณใช้คำสั่ง np.argmax(pred_result[0]), ค่าผลลัพธ์ที่ได้จะเป็น index ของคลาสที่โมเดลทำนายว่าเป็นไปได้มากที่สุด หรือ คลาสที่มีความน่าจะเป็นสูงสุด.\n",
    "\n",
    "np.argmax(pred_result[0])"
   ]
  },
  {
   "cell_type": "code",
   "execution_count": 56,
   "id": "d21a73ab-35d6-49c2-bcac-2d31de5d82db",
   "metadata": {},
   "outputs": [],
   "source": [
    "final_result = np.argmax(pred_result,axis=1)"
   ]
  },
  {
   "cell_type": "code",
   "execution_count": 58,
   "id": "8a337080-7b32-434a-b021-ac62f2ac77aa",
   "metadata": {},
   "outputs": [
    {
     "name": "stdout",
     "output_type": "stream",
     "text": [
      "accuracy 0.9549\n"
     ]
    }
   ],
   "source": [
    "print('accuracy', np.mean(final_result == y_test))\n",
    "# np.mean(final_result == y_test):\n",
    "# ฟังก์ชัน np.mean() จะคำนวณค่าเฉลี่ยของ array ของค่าบูลีน (Boolean) ที่ได้จาก final_result == y_test.\n",
    "# ใน Python, ค่าบูลีน True จะถูกนับเป็น 1 และ False จะถูกนับเป็น 0 ดังนั้น, ค่าเฉลี่ยจะเป็นการคำนวณเปอร์เซ็นต์ของค่าที่ True (การทำนายถูกต้อง) เมื่อเทียบกับจำนวนทั้งหมด."
   ]
  },
  {
   "cell_type": "code",
   "execution_count": null,
   "id": "2ac21ee4-5a47-4ad0-9114-753b144efa85",
   "metadata": {},
   "outputs": [],
   "source": []
  }
 ],
 "metadata": {
  "kernelspec": {
   "display_name": "new_env",
   "language": "python",
   "name": "python3"
  },
  "language_info": {
   "codemirror_mode": {
    "name": "ipython",
    "version": 3
   },
   "file_extension": ".py",
   "mimetype": "text/x-python",
   "name": "python",
   "nbconvert_exporter": "python",
   "pygments_lexer": "ipython3",
   "version": "3.9.21"
  }
 },
 "nbformat": 4,
 "nbformat_minor": 5
}
