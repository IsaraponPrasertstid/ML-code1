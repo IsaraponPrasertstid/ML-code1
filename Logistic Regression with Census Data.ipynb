{
 "cells": [
  {
   "cell_type": "code",
   "execution_count": 4,
   "id": "6bd25691-c30e-4a51-a778-89b28042326c",
   "metadata": {},
   "outputs": [],
   "source": [
    "import tensorflow.compat.v1 as tf\n",
    "import numpy as np\n",
    "import pandas as pd\n",
    "import matplotlib.pyplot as plt"
   ]
  },
  {
   "cell_type": "code",
   "execution_count": 5,
   "id": "f7aae45c-8371-4c0a-a4cd-1c065b24eb72",
   "metadata": {},
   "outputs": [],
   "source": [
    "tf.disable_v2_behavior()"
   ]
  },
  {
   "cell_type": "code",
   "execution_count": 6,
   "id": "d8ce0eac-b50a-40d4-a623-d3da02650ab7",
   "metadata": {},
   "outputs": [],
   "source": [
    "income = pd.read_csv('/Users/blackrose/Downloads/census_data.csv')"
   ]
  },
  {
   "cell_type": "code",
   "execution_count": 7,
   "id": "636d40ff-0448-4d01-a75c-4502c4f2e8c2",
   "metadata": {},
   "outputs": [
    {
     "data": {
      "text/html": [
       "<div>\n",
       "<style scoped>\n",
       "    .dataframe tbody tr th:only-of-type {\n",
       "        vertical-align: middle;\n",
       "    }\n",
       "\n",
       "    .dataframe tbody tr th {\n",
       "        vertical-align: top;\n",
       "    }\n",
       "\n",
       "    .dataframe thead th {\n",
       "        text-align: right;\n",
       "    }\n",
       "</style>\n",
       "<table border=\"1\" class=\"dataframe\">\n",
       "  <thead>\n",
       "    <tr style=\"text-align: right;\">\n",
       "      <th></th>\n",
       "      <th>age</th>\n",
       "      <th>workclass</th>\n",
       "      <th>education</th>\n",
       "      <th>education_num</th>\n",
       "      <th>marital_status</th>\n",
       "      <th>occupation</th>\n",
       "      <th>relationship</th>\n",
       "      <th>race</th>\n",
       "      <th>gender</th>\n",
       "      <th>capital_gain</th>\n",
       "      <th>capital_loss</th>\n",
       "      <th>hours_per_week</th>\n",
       "      <th>native_country</th>\n",
       "      <th>income_bracket</th>\n",
       "    </tr>\n",
       "  </thead>\n",
       "  <tbody>\n",
       "    <tr>\n",
       "      <th>0</th>\n",
       "      <td>39</td>\n",
       "      <td>State-gov</td>\n",
       "      <td>Bachelors</td>\n",
       "      <td>13</td>\n",
       "      <td>Never-married</td>\n",
       "      <td>Adm-clerical</td>\n",
       "      <td>Not-in-family</td>\n",
       "      <td>White</td>\n",
       "      <td>Male</td>\n",
       "      <td>2174</td>\n",
       "      <td>0</td>\n",
       "      <td>40</td>\n",
       "      <td>United-States</td>\n",
       "      <td>&lt;=50K</td>\n",
       "    </tr>\n",
       "    <tr>\n",
       "      <th>1</th>\n",
       "      <td>50</td>\n",
       "      <td>Self-emp-not-inc</td>\n",
       "      <td>Bachelors</td>\n",
       "      <td>13</td>\n",
       "      <td>Married-civ-spouse</td>\n",
       "      <td>Exec-managerial</td>\n",
       "      <td>Husband</td>\n",
       "      <td>White</td>\n",
       "      <td>Male</td>\n",
       "      <td>0</td>\n",
       "      <td>0</td>\n",
       "      <td>13</td>\n",
       "      <td>United-States</td>\n",
       "      <td>&lt;=50K</td>\n",
       "    </tr>\n",
       "    <tr>\n",
       "      <th>2</th>\n",
       "      <td>38</td>\n",
       "      <td>Private</td>\n",
       "      <td>HS-grad</td>\n",
       "      <td>9</td>\n",
       "      <td>Divorced</td>\n",
       "      <td>Handlers-cleaners</td>\n",
       "      <td>Not-in-family</td>\n",
       "      <td>White</td>\n",
       "      <td>Male</td>\n",
       "      <td>0</td>\n",
       "      <td>0</td>\n",
       "      <td>40</td>\n",
       "      <td>United-States</td>\n",
       "      <td>&lt;=50K</td>\n",
       "    </tr>\n",
       "    <tr>\n",
       "      <th>3</th>\n",
       "      <td>53</td>\n",
       "      <td>Private</td>\n",
       "      <td>11th</td>\n",
       "      <td>7</td>\n",
       "      <td>Married-civ-spouse</td>\n",
       "      <td>Handlers-cleaners</td>\n",
       "      <td>Husband</td>\n",
       "      <td>Black</td>\n",
       "      <td>Male</td>\n",
       "      <td>0</td>\n",
       "      <td>0</td>\n",
       "      <td>40</td>\n",
       "      <td>United-States</td>\n",
       "      <td>&lt;=50K</td>\n",
       "    </tr>\n",
       "    <tr>\n",
       "      <th>4</th>\n",
       "      <td>28</td>\n",
       "      <td>Private</td>\n",
       "      <td>Bachelors</td>\n",
       "      <td>13</td>\n",
       "      <td>Married-civ-spouse</td>\n",
       "      <td>Prof-specialty</td>\n",
       "      <td>Wife</td>\n",
       "      <td>Black</td>\n",
       "      <td>Female</td>\n",
       "      <td>0</td>\n",
       "      <td>0</td>\n",
       "      <td>40</td>\n",
       "      <td>Cuba</td>\n",
       "      <td>&lt;=50K</td>\n",
       "    </tr>\n",
       "  </tbody>\n",
       "</table>\n",
       "</div>"
      ],
      "text/plain": [
       "   age          workclass   education  education_num       marital_status  \\\n",
       "0   39          State-gov   Bachelors             13        Never-married   \n",
       "1   50   Self-emp-not-inc   Bachelors             13   Married-civ-spouse   \n",
       "2   38            Private     HS-grad              9             Divorced   \n",
       "3   53            Private        11th              7   Married-civ-spouse   \n",
       "4   28            Private   Bachelors             13   Married-civ-spouse   \n",
       "\n",
       "           occupation    relationship    race   gender  capital_gain  \\\n",
       "0        Adm-clerical   Not-in-family   White     Male          2174   \n",
       "1     Exec-managerial         Husband   White     Male             0   \n",
       "2   Handlers-cleaners   Not-in-family   White     Male             0   \n",
       "3   Handlers-cleaners         Husband   Black     Male             0   \n",
       "4      Prof-specialty            Wife   Black   Female             0   \n",
       "\n",
       "   capital_loss  hours_per_week  native_country income_bracket  \n",
       "0             0              40   United-States          <=50K  \n",
       "1             0              13   United-States          <=50K  \n",
       "2             0              40   United-States          <=50K  \n",
       "3             0              40   United-States          <=50K  \n",
       "4             0              40            Cuba          <=50K  "
      ]
     },
     "execution_count": 7,
     "metadata": {},
     "output_type": "execute_result"
    }
   ],
   "source": [
    "income.head()"
   ]
  },
  {
   "cell_type": "code",
   "execution_count": 8,
   "id": "b5584c79-8566-4e2e-acb7-4b6342324b6b",
   "metadata": {},
   "outputs": [
    {
     "data": {
      "text/plain": [
       "Index(['age', 'workclass', 'education', 'education_num', 'marital_status',\n",
       "       'occupation', 'relationship', 'race', 'gender', 'capital_gain',\n",
       "       'capital_loss', 'hours_per_week', 'native_country', 'income_bracket'],\n",
       "      dtype='object')"
      ]
     },
     "execution_count": 8,
     "metadata": {},
     "output_type": "execute_result"
    }
   ],
   "source": [
    "income.columns"
   ]
  },
  {
   "cell_type": "code",
   "execution_count": 9,
   "id": "3640244e-5232-4f7c-aa5e-7834f14ee4e8",
   "metadata": {},
   "outputs": [
    {
     "data": {
      "text/plain": [
       "14"
      ]
     },
     "execution_count": 9,
     "metadata": {},
     "output_type": "execute_result"
    }
   ],
   "source": [
    "len(income.columns)"
   ]
  },
  {
   "cell_type": "code",
   "execution_count": 10,
   "id": "cb2bf626-05d4-4b9b-9ab1-5b3ed0bf1963",
   "metadata": {},
   "outputs": [
    {
     "data": {
      "text/plain": [
       "(32561, 14)"
      ]
     },
     "execution_count": 10,
     "metadata": {},
     "output_type": "execute_result"
    }
   ],
   "source": [
    "income.shape"
   ]
  },
  {
   "cell_type": "code",
   "execution_count": 11,
   "id": "fe28a18b-e857-4250-810e-ef7f0f527950",
   "metadata": {},
   "outputs": [
    {
     "data": {
      "text/html": [
       "<div>\n",
       "<style scoped>\n",
       "    .dataframe tbody tr th:only-of-type {\n",
       "        vertical-align: middle;\n",
       "    }\n",
       "\n",
       "    .dataframe tbody tr th {\n",
       "        vertical-align: top;\n",
       "    }\n",
       "\n",
       "    .dataframe thead th {\n",
       "        text-align: right;\n",
       "    }\n",
       "</style>\n",
       "<table border=\"1\" class=\"dataframe\">\n",
       "  <thead>\n",
       "    <tr style=\"text-align: right;\">\n",
       "      <th></th>\n",
       "      <th>age</th>\n",
       "      <th>education_num</th>\n",
       "      <th>capital_gain</th>\n",
       "      <th>capital_loss</th>\n",
       "      <th>hours_per_week</th>\n",
       "    </tr>\n",
       "  </thead>\n",
       "  <tbody>\n",
       "    <tr>\n",
       "      <th>count</th>\n",
       "      <td>32561.000000</td>\n",
       "      <td>32561.000000</td>\n",
       "      <td>32561.000000</td>\n",
       "      <td>32561.000000</td>\n",
       "      <td>32561.000000</td>\n",
       "    </tr>\n",
       "    <tr>\n",
       "      <th>mean</th>\n",
       "      <td>38.581647</td>\n",
       "      <td>10.080679</td>\n",
       "      <td>1077.648844</td>\n",
       "      <td>87.303830</td>\n",
       "      <td>40.437456</td>\n",
       "    </tr>\n",
       "    <tr>\n",
       "      <th>std</th>\n",
       "      <td>13.640433</td>\n",
       "      <td>2.572720</td>\n",
       "      <td>7385.292085</td>\n",
       "      <td>402.960219</td>\n",
       "      <td>12.347429</td>\n",
       "    </tr>\n",
       "    <tr>\n",
       "      <th>min</th>\n",
       "      <td>17.000000</td>\n",
       "      <td>1.000000</td>\n",
       "      <td>0.000000</td>\n",
       "      <td>0.000000</td>\n",
       "      <td>1.000000</td>\n",
       "    </tr>\n",
       "    <tr>\n",
       "      <th>25%</th>\n",
       "      <td>28.000000</td>\n",
       "      <td>9.000000</td>\n",
       "      <td>0.000000</td>\n",
       "      <td>0.000000</td>\n",
       "      <td>40.000000</td>\n",
       "    </tr>\n",
       "    <tr>\n",
       "      <th>50%</th>\n",
       "      <td>37.000000</td>\n",
       "      <td>10.000000</td>\n",
       "      <td>0.000000</td>\n",
       "      <td>0.000000</td>\n",
       "      <td>40.000000</td>\n",
       "    </tr>\n",
       "    <tr>\n",
       "      <th>75%</th>\n",
       "      <td>48.000000</td>\n",
       "      <td>12.000000</td>\n",
       "      <td>0.000000</td>\n",
       "      <td>0.000000</td>\n",
       "      <td>45.000000</td>\n",
       "    </tr>\n",
       "    <tr>\n",
       "      <th>max</th>\n",
       "      <td>90.000000</td>\n",
       "      <td>16.000000</td>\n",
       "      <td>99999.000000</td>\n",
       "      <td>4356.000000</td>\n",
       "      <td>99.000000</td>\n",
       "    </tr>\n",
       "  </tbody>\n",
       "</table>\n",
       "</div>"
      ],
      "text/plain": [
       "                age  education_num  capital_gain  capital_loss  hours_per_week\n",
       "count  32561.000000   32561.000000  32561.000000  32561.000000    32561.000000\n",
       "mean      38.581647      10.080679   1077.648844     87.303830       40.437456\n",
       "std       13.640433       2.572720   7385.292085    402.960219       12.347429\n",
       "min       17.000000       1.000000      0.000000      0.000000        1.000000\n",
       "25%       28.000000       9.000000      0.000000      0.000000       40.000000\n",
       "50%       37.000000      10.000000      0.000000      0.000000       40.000000\n",
       "75%       48.000000      12.000000      0.000000      0.000000       45.000000\n",
       "max       90.000000      16.000000  99999.000000   4356.000000       99.000000"
      ]
     },
     "execution_count": 11,
     "metadata": {},
     "output_type": "execute_result"
    }
   ],
   "source": [
    "income.describe()"
   ]
  },
  {
   "cell_type": "code",
   "execution_count": 12,
   "id": "1a41f586-d8de-4ba5-bf12-3e32deabbc6c",
   "metadata": {},
   "outputs": [
    {
     "name": "stdout",
     "output_type": "stream",
     "text": [
      "<class 'pandas.core.frame.DataFrame'>\n",
      "RangeIndex: 32561 entries, 0 to 32560\n",
      "Data columns (total 14 columns):\n",
      " #   Column          Non-Null Count  Dtype \n",
      "---  ------          --------------  ----- \n",
      " 0   age             32561 non-null  int64 \n",
      " 1   workclass       32561 non-null  object\n",
      " 2   education       32561 non-null  object\n",
      " 3   education_num   32561 non-null  int64 \n",
      " 4   marital_status  32561 non-null  object\n",
      " 5   occupation      32561 non-null  object\n",
      " 6   relationship    32561 non-null  object\n",
      " 7   race            32561 non-null  object\n",
      " 8   gender          32561 non-null  object\n",
      " 9   capital_gain    32561 non-null  int64 \n",
      " 10  capital_loss    32561 non-null  int64 \n",
      " 11  hours_per_week  32561 non-null  int64 \n",
      " 12  native_country  32561 non-null  object\n",
      " 13  income_bracket  32561 non-null  object\n",
      "dtypes: int64(5), object(9)\n",
      "memory usage: 3.5+ MB\n"
     ]
    }
   ],
   "source": [
    "income.info()"
   ]
  },
  {
   "cell_type": "code",
   "execution_count": 13,
   "id": "fa679b56-ed55-4457-a94d-71c4f7e00c21",
   "metadata": {},
   "outputs": [
    {
     "data": {
      "text/plain": [
       "age                int64\n",
       "workclass         object\n",
       "education         object\n",
       "education_num      int64\n",
       "marital_status    object\n",
       "occupation        object\n",
       "relationship      object\n",
       "race              object\n",
       "gender            object\n",
       "capital_gain       int64\n",
       "capital_loss       int64\n",
       "hours_per_week     int64\n",
       "native_country    object\n",
       "income_bracket    object\n",
       "dtype: object"
      ]
     },
     "execution_count": 13,
     "metadata": {},
     "output_type": "execute_result"
    }
   ],
   "source": [
    "income.dtypes"
   ]
  },
  {
   "cell_type": "code",
   "execution_count": 14,
   "id": "c27cab19-01d3-433f-a560-8068c081e61e",
   "metadata": {},
   "outputs": [
    {
     "data": {
      "text/plain": [
       "dtype('int64')"
      ]
     },
     "execution_count": 14,
     "metadata": {},
     "output_type": "execute_result"
    }
   ],
   "source": [
    "income.dtypes['age']"
   ]
  },
  {
   "cell_type": "code",
   "execution_count": 15,
   "id": "ff6d25df-fc93-4a60-82cc-295c0ee1453a",
   "metadata": {},
   "outputs": [],
   "source": [
    "label = 'income_bracket'"
   ]
  },
  {
   "cell_type": "code",
   "execution_count": 16,
   "id": "2c0ebf44-a30d-49c3-b21f-94651113f0a6",
   "metadata": {},
   "outputs": [
    {
     "data": {
      "text/plain": [
       "array([' <=50K', ' >50K'], dtype=object)"
      ]
     },
     "execution_count": 16,
     "metadata": {},
     "output_type": "execute_result"
    }
   ],
   "source": [
    "income[label].unique()"
   ]
  },
  {
   "cell_type": "code",
   "execution_count": null,
   "id": "05164956-78e2-4cd6-aed2-44b2ad6ecb43",
   "metadata": {},
   "outputs": [],
   "source": [
    "# ดึงเฉพาะ column ตัวเลข\n",
    "\n",
    "num_col_names = [c for c in income.columns if income.dtypes[c] == 'int64' ]"
   ]
  },
  {
   "cell_type": "code",
   "execution_count": 18,
   "id": "44937dae-b3ba-41e0-99c0-f5b6df7ebc85",
   "metadata": {},
   "outputs": [
    {
     "data": {
      "text/plain": [
       "['age', 'education_num', 'capital_gain', 'capital_loss', 'hours_per_week']"
      ]
     },
     "execution_count": 18,
     "metadata": {},
     "output_type": "execute_result"
    }
   ],
   "source": [
    "num_col_names"
   ]
  },
  {
   "cell_type": "code",
   "execution_count": null,
   "id": "ec1f4dbd-687f-43da-baa8-37887110b1c2",
   "metadata": {},
   "outputs": [],
   "source": [
    "# ดึงเฉพาะ column str with not label\n",
    "cat_col_names = [ c for c in income.columns if c not in num_col_names and c != label]"
   ]
  },
  {
   "cell_type": "code",
   "execution_count": 20,
   "id": "06862f80-105f-4fdb-a360-9361c0e7d7fd",
   "metadata": {},
   "outputs": [
    {
     "data": {
      "text/plain": [
       "['workclass',\n",
       " 'education',\n",
       " 'marital_status',\n",
       " 'occupation',\n",
       " 'relationship',\n",
       " 'race',\n",
       " 'gender',\n",
       " 'native_country']"
      ]
     },
     "execution_count": 20,
     "metadata": {},
     "output_type": "execute_result"
    }
   ],
   "source": [
    "cat_col_names"
   ]
  },
  {
   "cell_type": "code",
   "execution_count": null,
   "id": "5dc9bff4-8374-446a-b55b-8c0764a44a2d",
   "metadata": {},
   "outputs": [
    {
     "name": "stdout",
     "output_type": "stream",
     "text": [
      "Requirement already satisfied: scikit-learn in c:\\users\\admin\\anaconda3\\envs\\tf\\lib\\site-packages (1.6.1)\n",
      "Requirement already satisfied: numpy>=1.19.5 in c:\\users\\admin\\anaconda3\\envs\\tf\\lib\\site-packages (from scikit-learn) (2.0.2)\n",
      "Requirement already satisfied: scipy>=1.6.0 in c:\\users\\admin\\anaconda3\\envs\\tf\\lib\\site-packages (from scikit-learn) (1.15.2)\n",
      "Requirement already satisfied: joblib>=1.2.0 in c:\\users\\admin\\anaconda3\\envs\\tf\\lib\\site-packages (from scikit-learn) (1.4.2)\n",
      "Requirement already satisfied: threadpoolctl>=3.1.0 in c:\\users\\admin\\anaconda3\\envs\\tf\\lib\\site-packages (from scikit-learn) (3.6.0)\n"
     ]
    }
   ],
   "source": [
    "# !pip install scikit-learn"
   ]
  },
  {
   "cell_type": "code",
   "execution_count": 21,
   "id": "3be43105-5e00-4301-ac2b-b92fd74d0baf",
   "metadata": {},
   "outputs": [],
   "source": [
    "from sklearn.preprocessing import MinMaxScaler"
   ]
  },
  {
   "cell_type": "code",
   "execution_count": null,
   "id": "22dd400c-75dc-43e2-9ab9-635e8cee9d1a",
   "metadata": {},
   "outputs": [],
   "source": [
    "scaler = MinMaxScaler() #ทำเฉพาะตัวเลข"
   ]
  },
  {
   "cell_type": "code",
   "execution_count": 23,
   "id": "ac1a53c6-bde9-47db-b7a2-a0efce8edbcc",
   "metadata": {},
   "outputs": [],
   "source": [
    "scaled_data = scaler.fit_transform(income[num_col_names])"
   ]
  },
  {
   "cell_type": "code",
   "execution_count": 24,
   "id": "aab01849-63d0-4405-b413-36577d26e484",
   "metadata": {},
   "outputs": [
    {
     "data": {
      "text/plain": [
       "array([[0.30136986, 0.8       , 0.02174022, 0.        , 0.39795918],\n",
       "       [0.45205479, 0.8       , 0.        , 0.        , 0.12244898],\n",
       "       [0.28767123, 0.53333333, 0.        , 0.        , 0.39795918],\n",
       "       ...,\n",
       "       [0.56164384, 0.53333333, 0.        , 0.        , 0.39795918],\n",
       "       [0.06849315, 0.53333333, 0.        , 0.        , 0.19387755],\n",
       "       [0.47945205, 0.53333333, 0.1502415 , 0.        , 0.39795918]])"
      ]
     },
     "execution_count": 24,
     "metadata": {},
     "output_type": "execute_result"
    }
   ],
   "source": [
    "scaled_data"
   ]
  },
  {
   "cell_type": "code",
   "execution_count": 25,
   "id": "5baace5e-ab47-4a61-aee6-24c7bef98f56",
   "metadata": {},
   "outputs": [
    {
     "data": {
      "text/plain": [
       "(0.0, 1.0)"
      ]
     },
     "execution_count": 25,
     "metadata": {},
     "output_type": "execute_result"
    }
   ],
   "source": [
    "scaled_data.min(), scaled_data.max()"
   ]
  },
  {
   "cell_type": "code",
   "execution_count": 26,
   "id": "6d3620dc-d0b0-4adc-affc-57243d940e24",
   "metadata": {},
   "outputs": [],
   "source": [
    "dummy_data = pd.get_dummies(income[cat_col_names].astype('category'), dtype='int')"
   ]
  },
  {
   "cell_type": "code",
   "execution_count": 27,
   "id": "0e100f6d-72a4-4cf0-a9b9-7c4e78fe8ce1",
   "metadata": {},
   "outputs": [
    {
     "data": {
      "text/html": [
       "<div>\n",
       "<style scoped>\n",
       "    .dataframe tbody tr th:only-of-type {\n",
       "        vertical-align: middle;\n",
       "    }\n",
       "\n",
       "    .dataframe tbody tr th {\n",
       "        vertical-align: top;\n",
       "    }\n",
       "\n",
       "    .dataframe thead th {\n",
       "        text-align: right;\n",
       "    }\n",
       "</style>\n",
       "<table border=\"1\" class=\"dataframe\">\n",
       "  <thead>\n",
       "    <tr style=\"text-align: right;\">\n",
       "      <th></th>\n",
       "      <th>workclass_ ?</th>\n",
       "      <th>workclass_ Federal-gov</th>\n",
       "      <th>workclass_ Local-gov</th>\n",
       "      <th>workclass_ Never-worked</th>\n",
       "      <th>workclass_ Private</th>\n",
       "      <th>workclass_ Self-emp-inc</th>\n",
       "      <th>workclass_ Self-emp-not-inc</th>\n",
       "      <th>workclass_ State-gov</th>\n",
       "      <th>workclass_ Without-pay</th>\n",
       "      <th>education_ 10th</th>\n",
       "      <th>...</th>\n",
       "      <th>native_country_ Portugal</th>\n",
       "      <th>native_country_ Puerto-Rico</th>\n",
       "      <th>native_country_ Scotland</th>\n",
       "      <th>native_country_ South</th>\n",
       "      <th>native_country_ Taiwan</th>\n",
       "      <th>native_country_ Thailand</th>\n",
       "      <th>native_country_ Trinadad&amp;Tobago</th>\n",
       "      <th>native_country_ United-States</th>\n",
       "      <th>native_country_ Vietnam</th>\n",
       "      <th>native_country_ Yugoslavia</th>\n",
       "    </tr>\n",
       "  </thead>\n",
       "  <tbody>\n",
       "    <tr>\n",
       "      <th>0</th>\n",
       "      <td>0</td>\n",
       "      <td>0</td>\n",
       "      <td>0</td>\n",
       "      <td>0</td>\n",
       "      <td>0</td>\n",
       "      <td>0</td>\n",
       "      <td>0</td>\n",
       "      <td>1</td>\n",
       "      <td>0</td>\n",
       "      <td>0</td>\n",
       "      <td>...</td>\n",
       "      <td>0</td>\n",
       "      <td>0</td>\n",
       "      <td>0</td>\n",
       "      <td>0</td>\n",
       "      <td>0</td>\n",
       "      <td>0</td>\n",
       "      <td>0</td>\n",
       "      <td>1</td>\n",
       "      <td>0</td>\n",
       "      <td>0</td>\n",
       "    </tr>\n",
       "    <tr>\n",
       "      <th>1</th>\n",
       "      <td>0</td>\n",
       "      <td>0</td>\n",
       "      <td>0</td>\n",
       "      <td>0</td>\n",
       "      <td>0</td>\n",
       "      <td>0</td>\n",
       "      <td>1</td>\n",
       "      <td>0</td>\n",
       "      <td>0</td>\n",
       "      <td>0</td>\n",
       "      <td>...</td>\n",
       "      <td>0</td>\n",
       "      <td>0</td>\n",
       "      <td>0</td>\n",
       "      <td>0</td>\n",
       "      <td>0</td>\n",
       "      <td>0</td>\n",
       "      <td>0</td>\n",
       "      <td>1</td>\n",
       "      <td>0</td>\n",
       "      <td>0</td>\n",
       "    </tr>\n",
       "    <tr>\n",
       "      <th>2</th>\n",
       "      <td>0</td>\n",
       "      <td>0</td>\n",
       "      <td>0</td>\n",
       "      <td>0</td>\n",
       "      <td>1</td>\n",
       "      <td>0</td>\n",
       "      <td>0</td>\n",
       "      <td>0</td>\n",
       "      <td>0</td>\n",
       "      <td>0</td>\n",
       "      <td>...</td>\n",
       "      <td>0</td>\n",
       "      <td>0</td>\n",
       "      <td>0</td>\n",
       "      <td>0</td>\n",
       "      <td>0</td>\n",
       "      <td>0</td>\n",
       "      <td>0</td>\n",
       "      <td>1</td>\n",
       "      <td>0</td>\n",
       "      <td>0</td>\n",
       "    </tr>\n",
       "    <tr>\n",
       "      <th>3</th>\n",
       "      <td>0</td>\n",
       "      <td>0</td>\n",
       "      <td>0</td>\n",
       "      <td>0</td>\n",
       "      <td>1</td>\n",
       "      <td>0</td>\n",
       "      <td>0</td>\n",
       "      <td>0</td>\n",
       "      <td>0</td>\n",
       "      <td>0</td>\n",
       "      <td>...</td>\n",
       "      <td>0</td>\n",
       "      <td>0</td>\n",
       "      <td>0</td>\n",
       "      <td>0</td>\n",
       "      <td>0</td>\n",
       "      <td>0</td>\n",
       "      <td>0</td>\n",
       "      <td>1</td>\n",
       "      <td>0</td>\n",
       "      <td>0</td>\n",
       "    </tr>\n",
       "    <tr>\n",
       "      <th>4</th>\n",
       "      <td>0</td>\n",
       "      <td>0</td>\n",
       "      <td>0</td>\n",
       "      <td>0</td>\n",
       "      <td>1</td>\n",
       "      <td>0</td>\n",
       "      <td>0</td>\n",
       "      <td>0</td>\n",
       "      <td>0</td>\n",
       "      <td>0</td>\n",
       "      <td>...</td>\n",
       "      <td>0</td>\n",
       "      <td>0</td>\n",
       "      <td>0</td>\n",
       "      <td>0</td>\n",
       "      <td>0</td>\n",
       "      <td>0</td>\n",
       "      <td>0</td>\n",
       "      <td>0</td>\n",
       "      <td>0</td>\n",
       "      <td>0</td>\n",
       "    </tr>\n",
       "  </tbody>\n",
       "</table>\n",
       "<p>5 rows × 102 columns</p>\n",
       "</div>"
      ],
      "text/plain": [
       "   workclass_ ?  workclass_ Federal-gov  workclass_ Local-gov  \\\n",
       "0             0                       0                     0   \n",
       "1             0                       0                     0   \n",
       "2             0                       0                     0   \n",
       "3             0                       0                     0   \n",
       "4             0                       0                     0   \n",
       "\n",
       "   workclass_ Never-worked  workclass_ Private  workclass_ Self-emp-inc  \\\n",
       "0                        0                   0                        0   \n",
       "1                        0                   0                        0   \n",
       "2                        0                   1                        0   \n",
       "3                        0                   1                        0   \n",
       "4                        0                   1                        0   \n",
       "\n",
       "   workclass_ Self-emp-not-inc  workclass_ State-gov  workclass_ Without-pay  \\\n",
       "0                            0                     1                       0   \n",
       "1                            1                     0                       0   \n",
       "2                            0                     0                       0   \n",
       "3                            0                     0                       0   \n",
       "4                            0                     0                       0   \n",
       "\n",
       "   education_ 10th  ...  native_country_ Portugal  \\\n",
       "0                0  ...                         0   \n",
       "1                0  ...                         0   \n",
       "2                0  ...                         0   \n",
       "3                0  ...                         0   \n",
       "4                0  ...                         0   \n",
       "\n",
       "   native_country_ Puerto-Rico  native_country_ Scotland  \\\n",
       "0                            0                         0   \n",
       "1                            0                         0   \n",
       "2                            0                         0   \n",
       "3                            0                         0   \n",
       "4                            0                         0   \n",
       "\n",
       "   native_country_ South  native_country_ Taiwan  native_country_ Thailand  \\\n",
       "0                      0                       0                         0   \n",
       "1                      0                       0                         0   \n",
       "2                      0                       0                         0   \n",
       "3                      0                       0                         0   \n",
       "4                      0                       0                         0   \n",
       "\n",
       "   native_country_ Trinadad&Tobago  native_country_ United-States  \\\n",
       "0                                0                              1   \n",
       "1                                0                              1   \n",
       "2                                0                              1   \n",
       "3                                0                              1   \n",
       "4                                0                              0   \n",
       "\n",
       "   native_country_ Vietnam  native_country_ Yugoslavia  \n",
       "0                        0                           0  \n",
       "1                        0                           0  \n",
       "2                        0                           0  \n",
       "3                        0                           0  \n",
       "4                        0                           0  \n",
       "\n",
       "[5 rows x 102 columns]"
      ]
     },
     "execution_count": 27,
     "metadata": {},
     "output_type": "execute_result"
    }
   ],
   "source": [
    "dummy_data.head()"
   ]
  },
  {
   "cell_type": "code",
   "execution_count": 29,
   "id": "bf8f3826-3123-4fcf-a5ff-a63d2ebb0f42",
   "metadata": {},
   "outputs": [
    {
     "data": {
      "text/html": [
       "<div>\n",
       "<style scoped>\n",
       "    .dataframe tbody tr th:only-of-type {\n",
       "        vertical-align: middle;\n",
       "    }\n",
       "\n",
       "    .dataframe tbody tr th {\n",
       "        vertical-align: top;\n",
       "    }\n",
       "\n",
       "    .dataframe thead th {\n",
       "        text-align: right;\n",
       "    }\n",
       "</style>\n",
       "<table border=\"1\" class=\"dataframe\">\n",
       "  <thead>\n",
       "    <tr style=\"text-align: right;\">\n",
       "      <th></th>\n",
       "      <th>age</th>\n",
       "      <th>education_num</th>\n",
       "      <th>capital_gain</th>\n",
       "      <th>capital_loss</th>\n",
       "      <th>hours_per_week</th>\n",
       "    </tr>\n",
       "  </thead>\n",
       "  <tbody>\n",
       "    <tr>\n",
       "      <th>0</th>\n",
       "      <td>0.301370</td>\n",
       "      <td>0.800000</td>\n",
       "      <td>0.021740</td>\n",
       "      <td>0.0</td>\n",
       "      <td>0.397959</td>\n",
       "    </tr>\n",
       "    <tr>\n",
       "      <th>1</th>\n",
       "      <td>0.452055</td>\n",
       "      <td>0.800000</td>\n",
       "      <td>0.000000</td>\n",
       "      <td>0.0</td>\n",
       "      <td>0.122449</td>\n",
       "    </tr>\n",
       "    <tr>\n",
       "      <th>2</th>\n",
       "      <td>0.287671</td>\n",
       "      <td>0.533333</td>\n",
       "      <td>0.000000</td>\n",
       "      <td>0.0</td>\n",
       "      <td>0.397959</td>\n",
       "    </tr>\n",
       "    <tr>\n",
       "      <th>3</th>\n",
       "      <td>0.493151</td>\n",
       "      <td>0.400000</td>\n",
       "      <td>0.000000</td>\n",
       "      <td>0.0</td>\n",
       "      <td>0.397959</td>\n",
       "    </tr>\n",
       "    <tr>\n",
       "      <th>4</th>\n",
       "      <td>0.150685</td>\n",
       "      <td>0.800000</td>\n",
       "      <td>0.000000</td>\n",
       "      <td>0.0</td>\n",
       "      <td>0.397959</td>\n",
       "    </tr>\n",
       "    <tr>\n",
       "      <th>...</th>\n",
       "      <td>...</td>\n",
       "      <td>...</td>\n",
       "      <td>...</td>\n",
       "      <td>...</td>\n",
       "      <td>...</td>\n",
       "    </tr>\n",
       "    <tr>\n",
       "      <th>32556</th>\n",
       "      <td>0.136986</td>\n",
       "      <td>0.733333</td>\n",
       "      <td>0.000000</td>\n",
       "      <td>0.0</td>\n",
       "      <td>0.377551</td>\n",
       "    </tr>\n",
       "    <tr>\n",
       "      <th>32557</th>\n",
       "      <td>0.315068</td>\n",
       "      <td>0.533333</td>\n",
       "      <td>0.000000</td>\n",
       "      <td>0.0</td>\n",
       "      <td>0.397959</td>\n",
       "    </tr>\n",
       "    <tr>\n",
       "      <th>32558</th>\n",
       "      <td>0.561644</td>\n",
       "      <td>0.533333</td>\n",
       "      <td>0.000000</td>\n",
       "      <td>0.0</td>\n",
       "      <td>0.397959</td>\n",
       "    </tr>\n",
       "    <tr>\n",
       "      <th>32559</th>\n",
       "      <td>0.068493</td>\n",
       "      <td>0.533333</td>\n",
       "      <td>0.000000</td>\n",
       "      <td>0.0</td>\n",
       "      <td>0.193878</td>\n",
       "    </tr>\n",
       "    <tr>\n",
       "      <th>32560</th>\n",
       "      <td>0.479452</td>\n",
       "      <td>0.533333</td>\n",
       "      <td>0.150242</td>\n",
       "      <td>0.0</td>\n",
       "      <td>0.397959</td>\n",
       "    </tr>\n",
       "  </tbody>\n",
       "</table>\n",
       "<p>32561 rows × 5 columns</p>\n",
       "</div>"
      ],
      "text/plain": [
       "            age  education_num  capital_gain  capital_loss  hours_per_week\n",
       "0      0.301370       0.800000      0.021740           0.0        0.397959\n",
       "1      0.452055       0.800000      0.000000           0.0        0.122449\n",
       "2      0.287671       0.533333      0.000000           0.0        0.397959\n",
       "3      0.493151       0.400000      0.000000           0.0        0.397959\n",
       "4      0.150685       0.800000      0.000000           0.0        0.397959\n",
       "...         ...            ...           ...           ...             ...\n",
       "32556  0.136986       0.733333      0.000000           0.0        0.377551\n",
       "32557  0.315068       0.533333      0.000000           0.0        0.397959\n",
       "32558  0.561644       0.533333      0.000000           0.0        0.397959\n",
       "32559  0.068493       0.533333      0.000000           0.0        0.193878\n",
       "32560  0.479452       0.533333      0.150242           0.0        0.397959\n",
       "\n",
       "[32561 rows x 5 columns]"
      ]
     },
     "execution_count": 29,
     "metadata": {},
     "output_type": "execute_result"
    }
   ],
   "source": [
    "df = pd.DataFrame(scaled_data, columns=num_col_names)\n",
    "df"
   ]
  },
  {
   "cell_type": "code",
   "execution_count": 30,
   "id": "ce531cc8-b7e6-445b-bc9f-837a41cd4967",
   "metadata": {},
   "outputs": [],
   "source": [
    "df = pd.concat([df, dummy_data],axis=1)"
   ]
  },
  {
   "cell_type": "code",
   "execution_count": 31,
   "id": "29f4ebbd-6901-4331-8906-5ed7d4b4ffc9",
   "metadata": {},
   "outputs": [
    {
     "data": {
      "text/html": [
       "<div>\n",
       "<style scoped>\n",
       "    .dataframe tbody tr th:only-of-type {\n",
       "        vertical-align: middle;\n",
       "    }\n",
       "\n",
       "    .dataframe tbody tr th {\n",
       "        vertical-align: top;\n",
       "    }\n",
       "\n",
       "    .dataframe thead th {\n",
       "        text-align: right;\n",
       "    }\n",
       "</style>\n",
       "<table border=\"1\" class=\"dataframe\">\n",
       "  <thead>\n",
       "    <tr style=\"text-align: right;\">\n",
       "      <th></th>\n",
       "      <th>age</th>\n",
       "      <th>education_num</th>\n",
       "      <th>capital_gain</th>\n",
       "      <th>capital_loss</th>\n",
       "      <th>hours_per_week</th>\n",
       "      <th>workclass_ ?</th>\n",
       "      <th>workclass_ Federal-gov</th>\n",
       "      <th>workclass_ Local-gov</th>\n",
       "      <th>workclass_ Never-worked</th>\n",
       "      <th>workclass_ Private</th>\n",
       "      <th>...</th>\n",
       "      <th>native_country_ Portugal</th>\n",
       "      <th>native_country_ Puerto-Rico</th>\n",
       "      <th>native_country_ Scotland</th>\n",
       "      <th>native_country_ South</th>\n",
       "      <th>native_country_ Taiwan</th>\n",
       "      <th>native_country_ Thailand</th>\n",
       "      <th>native_country_ Trinadad&amp;Tobago</th>\n",
       "      <th>native_country_ United-States</th>\n",
       "      <th>native_country_ Vietnam</th>\n",
       "      <th>native_country_ Yugoslavia</th>\n",
       "    </tr>\n",
       "  </thead>\n",
       "  <tbody>\n",
       "    <tr>\n",
       "      <th>0</th>\n",
       "      <td>0.301370</td>\n",
       "      <td>0.800000</td>\n",
       "      <td>0.02174</td>\n",
       "      <td>0.0</td>\n",
       "      <td>0.397959</td>\n",
       "      <td>0</td>\n",
       "      <td>0</td>\n",
       "      <td>0</td>\n",
       "      <td>0</td>\n",
       "      <td>0</td>\n",
       "      <td>...</td>\n",
       "      <td>0</td>\n",
       "      <td>0</td>\n",
       "      <td>0</td>\n",
       "      <td>0</td>\n",
       "      <td>0</td>\n",
       "      <td>0</td>\n",
       "      <td>0</td>\n",
       "      <td>1</td>\n",
       "      <td>0</td>\n",
       "      <td>0</td>\n",
       "    </tr>\n",
       "    <tr>\n",
       "      <th>1</th>\n",
       "      <td>0.452055</td>\n",
       "      <td>0.800000</td>\n",
       "      <td>0.00000</td>\n",
       "      <td>0.0</td>\n",
       "      <td>0.122449</td>\n",
       "      <td>0</td>\n",
       "      <td>0</td>\n",
       "      <td>0</td>\n",
       "      <td>0</td>\n",
       "      <td>0</td>\n",
       "      <td>...</td>\n",
       "      <td>0</td>\n",
       "      <td>0</td>\n",
       "      <td>0</td>\n",
       "      <td>0</td>\n",
       "      <td>0</td>\n",
       "      <td>0</td>\n",
       "      <td>0</td>\n",
       "      <td>1</td>\n",
       "      <td>0</td>\n",
       "      <td>0</td>\n",
       "    </tr>\n",
       "    <tr>\n",
       "      <th>2</th>\n",
       "      <td>0.287671</td>\n",
       "      <td>0.533333</td>\n",
       "      <td>0.00000</td>\n",
       "      <td>0.0</td>\n",
       "      <td>0.397959</td>\n",
       "      <td>0</td>\n",
       "      <td>0</td>\n",
       "      <td>0</td>\n",
       "      <td>0</td>\n",
       "      <td>1</td>\n",
       "      <td>...</td>\n",
       "      <td>0</td>\n",
       "      <td>0</td>\n",
       "      <td>0</td>\n",
       "      <td>0</td>\n",
       "      <td>0</td>\n",
       "      <td>0</td>\n",
       "      <td>0</td>\n",
       "      <td>1</td>\n",
       "      <td>0</td>\n",
       "      <td>0</td>\n",
       "    </tr>\n",
       "    <tr>\n",
       "      <th>3</th>\n",
       "      <td>0.493151</td>\n",
       "      <td>0.400000</td>\n",
       "      <td>0.00000</td>\n",
       "      <td>0.0</td>\n",
       "      <td>0.397959</td>\n",
       "      <td>0</td>\n",
       "      <td>0</td>\n",
       "      <td>0</td>\n",
       "      <td>0</td>\n",
       "      <td>1</td>\n",
       "      <td>...</td>\n",
       "      <td>0</td>\n",
       "      <td>0</td>\n",
       "      <td>0</td>\n",
       "      <td>0</td>\n",
       "      <td>0</td>\n",
       "      <td>0</td>\n",
       "      <td>0</td>\n",
       "      <td>1</td>\n",
       "      <td>0</td>\n",
       "      <td>0</td>\n",
       "    </tr>\n",
       "    <tr>\n",
       "      <th>4</th>\n",
       "      <td>0.150685</td>\n",
       "      <td>0.800000</td>\n",
       "      <td>0.00000</td>\n",
       "      <td>0.0</td>\n",
       "      <td>0.397959</td>\n",
       "      <td>0</td>\n",
       "      <td>0</td>\n",
       "      <td>0</td>\n",
       "      <td>0</td>\n",
       "      <td>1</td>\n",
       "      <td>...</td>\n",
       "      <td>0</td>\n",
       "      <td>0</td>\n",
       "      <td>0</td>\n",
       "      <td>0</td>\n",
       "      <td>0</td>\n",
       "      <td>0</td>\n",
       "      <td>0</td>\n",
       "      <td>0</td>\n",
       "      <td>0</td>\n",
       "      <td>0</td>\n",
       "    </tr>\n",
       "  </tbody>\n",
       "</table>\n",
       "<p>5 rows × 107 columns</p>\n",
       "</div>"
      ],
      "text/plain": [
       "        age  education_num  capital_gain  capital_loss  hours_per_week  \\\n",
       "0  0.301370       0.800000       0.02174           0.0        0.397959   \n",
       "1  0.452055       0.800000       0.00000           0.0        0.122449   \n",
       "2  0.287671       0.533333       0.00000           0.0        0.397959   \n",
       "3  0.493151       0.400000       0.00000           0.0        0.397959   \n",
       "4  0.150685       0.800000       0.00000           0.0        0.397959   \n",
       "\n",
       "   workclass_ ?  workclass_ Federal-gov  workclass_ Local-gov  \\\n",
       "0             0                       0                     0   \n",
       "1             0                       0                     0   \n",
       "2             0                       0                     0   \n",
       "3             0                       0                     0   \n",
       "4             0                       0                     0   \n",
       "\n",
       "   workclass_ Never-worked  workclass_ Private  ...  native_country_ Portugal  \\\n",
       "0                        0                   0  ...                         0   \n",
       "1                        0                   0  ...                         0   \n",
       "2                        0                   1  ...                         0   \n",
       "3                        0                   1  ...                         0   \n",
       "4                        0                   1  ...                         0   \n",
       "\n",
       "   native_country_ Puerto-Rico  native_country_ Scotland  \\\n",
       "0                            0                         0   \n",
       "1                            0                         0   \n",
       "2                            0                         0   \n",
       "3                            0                         0   \n",
       "4                            0                         0   \n",
       "\n",
       "   native_country_ South  native_country_ Taiwan  native_country_ Thailand  \\\n",
       "0                      0                       0                         0   \n",
       "1                      0                       0                         0   \n",
       "2                      0                       0                         0   \n",
       "3                      0                       0                         0   \n",
       "4                      0                       0                         0   \n",
       "\n",
       "   native_country_ Trinadad&Tobago  native_country_ United-States  \\\n",
       "0                                0                              1   \n",
       "1                                0                              1   \n",
       "2                                0                              1   \n",
       "3                                0                              1   \n",
       "4                                0                              0   \n",
       "\n",
       "   native_country_ Vietnam  native_country_ Yugoslavia  \n",
       "0                        0                           0  \n",
       "1                        0                           0  \n",
       "2                        0                           0  \n",
       "3                        0                           0  \n",
       "4                        0                           0  \n",
       "\n",
       "[5 rows x 107 columns]"
      ]
     },
     "execution_count": 31,
     "metadata": {},
     "output_type": "execute_result"
    }
   ],
   "source": [
    "df.head()"
   ]
  },
  {
   "cell_type": "code",
   "execution_count": 32,
   "id": "cebf6d33-7fef-49ae-a301-0cce6f75b9e1",
   "metadata": {},
   "outputs": [],
   "source": [
    "from sklearn.model_selection import train_test_split"
   ]
  },
  {
   "cell_type": "code",
   "execution_count": 33,
   "id": "64becf93-b8ad-4f9a-b952-7197b65ab3d4",
   "metadata": {},
   "outputs": [
    {
     "data": {
      "text/plain": [
       "array([' <=50K', ' >50K'], dtype=object)"
      ]
     },
     "execution_count": 33,
     "metadata": {},
     "output_type": "execute_result"
    }
   ],
   "source": [
    "all_labels = income[label].unique()\n",
    "all_labels"
   ]
  },
  {
   "cell_type": "code",
   "execution_count": 34,
   "id": "9e57b5df",
   "metadata": {},
   "outputs": [
    {
     "data": {
      "text/plain": [
       "0         <=50K\n",
       "1         <=50K\n",
       "2         <=50K\n",
       "3         <=50K\n",
       "4         <=50K\n",
       "          ...  \n",
       "32556     <=50K\n",
       "32557      >50K\n",
       "32558     <=50K\n",
       "32559     <=50K\n",
       "32560      >50K\n",
       "Name: income_bracket, Length: 32561, dtype: object"
      ]
     },
     "execution_count": 34,
     "metadata": {},
     "output_type": "execute_result"
    }
   ],
   "source": [
    "income[label]"
   ]
  },
  {
   "cell_type": "code",
   "execution_count": 36,
   "id": "840092a6",
   "metadata": {},
   "outputs": [
    {
     "data": {
      "text/plain": [
       "' <=50K'"
      ]
     },
     "execution_count": 36,
     "metadata": {},
     "output_type": "execute_result"
    }
   ],
   "source": [
    "all_labels[0]"
   ]
  },
  {
   "cell_type": "code",
   "execution_count": null,
   "id": "e2dfff3c",
   "metadata": {},
   "outputs": [
    {
     "data": {
      "text/plain": [
       "0        1\n",
       "1        1\n",
       "2        1\n",
       "3        1\n",
       "4        1\n",
       "        ..\n",
       "32556    1\n",
       "32557    0\n",
       "32558    1\n",
       "32559    1\n",
       "32560    0\n",
       "Name: income_bracket, Length: 32561, dtype: int64"
      ]
     },
     "execution_count": 35,
     "metadata": {},
     "output_type": "execute_result"
    }
   ],
   "source": [
    "label_df = income[label].apply(lambda x:int(x == all_labels[0])) # ถ้า เท่ากัน จะได้ค่า True → แปลงเป็น 1\n",
    "label_df"
   ]
  },
  {
   "cell_type": "code",
   "execution_count": 38,
   "id": "41a9be82-f52b-492e-a983-9d4fdcce2490",
   "metadata": {},
   "outputs": [
    {
     "data": {
      "text/plain": [
       "array([[0., 1.],\n",
       "       [0., 1.],\n",
       "       [0., 1.],\n",
       "       ...,\n",
       "       [0., 1.],\n",
       "       [0., 1.],\n",
       "       [1., 0.]])"
      ]
     },
     "execution_count": 38,
     "metadata": {},
     "output_type": "execute_result"
    }
   ],
   "source": [
    "label_ar = np.eye(len(all_labels))[label_df.values]\n",
    "label_ar"
   ]
  },
  {
   "cell_type": "code",
   "execution_count": null,
   "id": "6f21843f",
   "metadata": {},
   "outputs": [
    {
     "data": {
      "text/plain": [
       "array([[0., 1.],\n",
       "       [0., 1.],\n",
       "       [0., 1.],\n",
       "       ...,\n",
       "       [0., 1.],\n",
       "       [0., 1.],\n",
       "       [1., 0.]])"
      ]
     },
     "execution_count": 43,
     "metadata": {},
     "output_type": "execute_result"
    }
   ],
   "source": [
    "np.eye(len(all_labels))[label_df.values] # จะเปลี่ยน shape ของข้อมูล ให้กลายเป็น 2 มิติ เช่น จาก (n,) กลายเป็น (1, n)"
   ]
  },
  {
   "cell_type": "raw",
   "id": "00983b65-0aaf-4bba-bc72-4fa477489126",
   "metadata": {},
   "source": [
    "X_train, X_test , y_train, y_test = train_test_split(df.value , label_ar, test_size=0.3)"
   ]
  },
  {
   "cell_type": "code",
   "execution_count": 48,
   "id": "1a9aae2f-9561-49a8-8a09-5633a1d484a0",
   "metadata": {},
   "outputs": [],
   "source": [
    "X_train, X_test, y_train, y_test=train_test_split(df.values,label_ar,test_size=0.3)"
   ]
  },
  {
   "cell_type": "code",
   "execution_count": 49,
   "id": "9b156aeb-d5bc-4081-bfae-d2bd5b7226cc",
   "metadata": {},
   "outputs": [
    {
     "data": {
      "text/plain": [
       "((22792, 107), (9769, 107), (22792, 2), (9769, 2))"
      ]
     },
     "execution_count": 49,
     "metadata": {},
     "output_type": "execute_result"
    }
   ],
   "source": [
    "X_train.shape,X_test.shape,y_train.shape,y_test.shape"
   ]
  },
  {
   "cell_type": "raw",
   "id": "1296c303-66a5-4f80-9afb-6b25839cfdf5",
   "metadata": {},
   "source": [
    "Sigmoid(lr -> mx+b\n",
    "logit = X_train (x_pl) * m +b\n",
    "label = y_pl"
   ]
  },
  {
   "cell_type": "code",
   "execution_count": 51,
   "id": "524cd704",
   "metadata": {},
   "outputs": [
    {
     "data": {
      "text/plain": [
       "array([[0.17808219, 0.53333333, 0.        , ..., 1.        , 0.        ,\n",
       "        0.        ],\n",
       "       [0.09589041, 0.6       , 0.        , ..., 1.        , 0.        ,\n",
       "        0.        ],\n",
       "       [0.47945205, 0.6       , 0.        , ..., 1.        , 0.        ,\n",
       "        0.        ],\n",
       "       ...,\n",
       "       [0.04109589, 0.53333333, 0.        , ..., 1.        , 0.        ,\n",
       "        0.        ],\n",
       "       [0.05479452, 0.6       , 0.        , ..., 1.        , 0.        ,\n",
       "        0.        ],\n",
       "       [0.47945205, 0.6       , 0.        , ..., 1.        , 0.        ,\n",
       "        0.        ]])"
      ]
     },
     "execution_count": 51,
     "metadata": {},
     "output_type": "execute_result"
    }
   ],
   "source": [
    "X_train"
   ]
  },
  {
   "cell_type": "code",
   "execution_count": null,
   "id": "56c99bdc-5183-4645-b1dd-e4982b2230b5",
   "metadata": {},
   "outputs": [],
   "source": [
    "x_pl = tf.placeholder(tf.float32,shape=[None, X_train.shape[1]]) #สร้าง placeholder ที่รับอินพุตเป็นจำนวนตัวอย่างไม่แน่นอน (None) และมีจำนวนคุณลักษณะ (features) เท่ากับจำนวนคอลัมน์ของ X_train\n",
    "y_pl = tf.placeholder(tf.float32, shape=[None, y_train.shape[1]])"
   ]
  },
  {
   "cell_type": "code",
   "execution_count": 53,
   "id": "e7b58f20-86ed-4682-93ca-c5ad410fbdcc",
   "metadata": {},
   "outputs": [],
   "source": [
    "# คือการประกาศตัวแปร น้ำหนัก (weights) และ ออฟเซ็ต (bias) สำหรับโมเดลแบบเชิงเส้น (linear model) ด้วย TensorFlow\n",
    "\n",
    "# X_train.shape[1] คือจำนวน features\n",
    "# y_train.shape[1] คือจำนวน output classes (เช่น 3 ถ้าเป็น one-hot)\n",
    "\n",
    "# tf.Variable ใช้สำหรับ สร้างตัวแปรที่สามารถเปลี่ยนค่าได้ ซึ่ง TensorFlow จะ เรียนรู้/อัปเดตค่าเหล่านี้ได้เอง เช่น น้ำหนัก (weights), bias, พารามิเตอร์อื่น ๆ\n",
    "m = tf.Variable(tf.random_uniform([X_train.shape[1], y_train.shape[1]])) # matrix weights สร้างตัวแปร w ที่มี shape X_train.shape[1]×y_train.shape[1] และมีค่าเริ่มต้นแบบสุ่ม\n",
    "b = tf.Variable(tf.random_uniform([y_train.shape[1]])) # w คือ เมทริกซ์น้ำหนัก ใช้คูณกับข้อมูลอินพุต (X) → ต้องมี shape 2 มิติ \n",
    "# b คือ เวกเตอร์ bias ที่ใช้ เพิ่มเข้าไปในผลลัพธ์ของ dot product → ใช้ shape 1 มิติเท่านั้น (ต่อ class)"
   ]
  },
  {
   "cell_type": "code",
   "execution_count": 54,
   "id": "21c13297-29b6-4306-b2a9-1237436afc24",
   "metadata": {},
   "outputs": [],
   "source": [
    "# เป็นการคำนวณผลลัพธ์ก่อนนำไปเข้า activation function (เช่น softmax)\n",
    "# เรียกว่า logits — คือผลรวมเชิงเส้น (linear combination) ของ input\n",
    "\n",
    "logit = tf.matmul(x_pl,m) + b"
   ]
  },
  {
   "cell_type": "code",
   "execution_count": 55,
   "id": "1647f967-8e27-4c63-9616-7049b7d8864f",
   "metadata": {},
   "outputs": [],
   "source": [
    "loss = tf.reduce_mean(tf.nn.softmax_cross_entropy_with_logits_v2(labels=y_pl,logits=logit))\n",
    "\n",
    "# loss = tf.reduce_mean(tf.nn.softmax_cross_entropy_with_logits_v2(labels=y_pl, logits=logits)) คือการคำนวณ ค่า Cross-Entropy loss ที่ใช้สำหรับ การจำแนกประเภท (classification) \n",
    "# โดยใช้ softmax activation และ cross-entropy loss function. \n",
    "# ค่าที่ได้จากการคำนวณ loss จะถูกใช้เพื่อ ปรับปรุงโมเดล โดยการทำ backpropagation และ gradient descent."
   ]
  },
  {
   "cell_type": "code",
   "execution_count": 56,
   "id": "80814fff",
   "metadata": {},
   "outputs": [],
   "source": [
    "# สร้าง Optimizer ที่จะอัปเดตค่าพารามิเตอร์ของโมเดลโดยใช้ Gradient Descent และใช้ learning rate เพื่อควบคุมการอัปเดต."
   ]
  },
  {
   "cell_type": "code",
   "execution_count": 57,
   "id": "6a91de72-1ef7-42f0-b14d-58e10e092872",
   "metadata": {},
   "outputs": [],
   "source": [
    "learning_rate = 0.1\n",
    "grad = tf.train.GradientDescentOptimizer(learning_rate)"
   ]
  },
  {
   "cell_type": "code",
   "execution_count": 58,
   "id": "45527ab8-fea4-4a9e-8cb2-dd536e213eb0",
   "metadata": {},
   "outputs": [],
   "source": [
    "optimizer = grad.minimize(loss) #optimizer = grad.minimize(loss) ใช้ในการคำนวณ gradients และอัปเดตพารามิเตอร์ของโมเดลโดยใช้ Gradient Descent.\n",
    "# คำสั่งนี้จะทำให้โมเดลเรียนรู้จากข้อมูลการฝึก โดยลด loss ให้ต่ำที่สุดในแต่ละขั้นตอนการฝึก\n"
   ]
  },
  {
   "cell_type": "code",
   "execution_count": 59,
   "id": "c584f480-b680-4d76-acc0-d9ac8eb05ab1",
   "metadata": {},
   "outputs": [],
   "source": [
    "model = tf.nn.softmax(logit) #เป็นการใช้ฟังก์ชัน Softmax เพื่อแปลง logits (ผลลัพธ์จากโมเดลก่อนการแปลง) ให้อยู่ในรูปของ ความน่าจะเป็น สำหรับแต่ละคลาสในปัญหาการจำแนกประเภท (Classification Problem)."
   ]
  },
  {
   "cell_type": "code",
   "execution_count": 60,
   "id": "b85e0574-ae0e-466d-a433-4dfdd5ebee48",
   "metadata": {},
   "outputs": [],
   "source": [
    "epochs = 500 # epochs คือจำนวน รอบการฝึก (epochs) ที่โมเดลจะเรียนรู้จากข้อมูลการฝึก.\n",
    "    # 1 epoch หมายถึงการที่โมเดลได้เห็นข้อมูลการฝึกครบทุกตัวอย่างในชุดข้อมูล 1 รอบ.\n",
    "    # การฝึก 500 รอบ (500 epochs) หมายความว่าโมเดลจะทำการอัปเดตพารามิเตอร์ 500 ครั้งจากข้อมูลทั้งหมด."
   ]
  },
  {
   "cell_type": "code",
   "execution_count": 61,
   "id": "f93fc77d-fcb6-4011-9543-c95617cd4413",
   "metadata": {},
   "outputs": [],
   "source": [
    "batch_size = 200 # คือจำนวนตัวอย่างใน 1 batch ที่จะถูกส่งผ่านโมเดลในแต่ละรอบการฝึก.\n",
    "# การแบ่งข้อมูลการฝึกออกเป็น batch ช่วยให้การฝึกเป็นไปอย่างมีประสิทธิภาพมากขึ้น เพราะไม่จำเป็นต้องใช้ข้อมูลทั้งหมดในการคำนวณการอัปเดตพารามิเตอร์ในแต่ละครั้ง.\n",
    "# ตัวอย่างเช่น ถ้ามีข้อมูลทั้งหมด 10000 ตัวอย่างและใช้ batch_size = 200, จะมี 50 batches ในแต่ละ epoch."
   ]
  },
  {
   "cell_type": "code",
   "execution_count": null,
   "id": "624ef168-b24c-460c-94e9-eb31c38c87ed",
   "metadata": {},
   "outputs": [],
   "source": [
    "init = tf.global_variables_initializer()\n",
    "\n",
    "# tf.global_variables_initializer() ใช้ในการ initialization ตัวแปรทั้งหมดในกราฟ TensorFlow ก่อนที่จะเริ่มการฝึก.\n",
    "# ใน TensorFlow, ตัวแปรต่างๆ เช่น weights และ bias ต้องได้รับการกำหนดค่าเริ่มต้นก่อนที่เราจะสามารถฝึกโมเดลได้.\n",
    "# ตัวแปร init นี้จะถูกรันใน session เพื่อเริ่มต้นตัวแปรทั้งหมดในกราฟ."
   ]
  },
  {
   "cell_type": "code",
   "execution_count": 64,
   "id": "77a7021f-cb58-4664-9568-9bec9f0d8edb",
   "metadata": {},
   "outputs": [],
   "source": [
    "losses = []\n",
    "\n",
    "# losses คือรายการ (list) ที่ใช้ในการเก็บค่า loss สำหรับแต่ละ epoch หรือ batch.\n",
    "# ค่า loss ที่ต่ำลงในแต่ละ epoch แสดงว่าโมเดลกำลังเรียนรู้และปรับปรุงผลลัพธ์.\n"
   ]
  },
  {
   "cell_type": "code",
   "execution_count": null,
   "id": "85fb950d-b940-419b-afd8-86dff7012377",
   "metadata": {},
   "outputs": [
    {
     "name": "stderr",
     "output_type": "stream",
     "text": [
      "WARNING: All log messages before absl::InitializeLog() is called are written to STDERR\n",
      "I0000 00:00:1746872471.482382  267370 mlir_graph_optimization_pass.cc:425] MLIR V1 optimization pass is not enabled\n"
     ]
    },
    {
     "name": "stdout",
     "output_type": "stream",
     "text": [
      "Epoch 0\n",
      "Loss 0.37157774\n",
      "Epoch 20\n",
      "Loss 0.3070808\n",
      "Epoch 40\n",
      "Loss 0.3031308\n",
      "Epoch 60\n",
      "Loss 0.3012975\n",
      "Epoch 80\n",
      "Loss 0.30020288\n",
      "Epoch 100\n",
      "Loss 0.29947868\n",
      "Epoch 120\n",
      "Loss 0.2989672\n",
      "Epoch 140\n",
      "Loss 0.29858896\n",
      "Epoch 160\n",
      "Loss 0.29829904\n",
      "Epoch 180\n",
      "Loss 0.2980695\n",
      "Epoch 200\n",
      "Loss 0.29788268\n",
      "Epoch 220\n",
      "Loss 0.29772675\n",
      "Epoch 240\n",
      "Loss 0.29759416\n",
      "Epoch 260\n",
      "Loss 0.2974797\n",
      "Epoch 280\n",
      "Loss 0.29737994\n",
      "Epoch 300\n",
      "Loss 0.2972925\n",
      "Epoch 320\n",
      "Loss 0.29721573\n",
      "Epoch 340\n",
      "Loss 0.29714832\n",
      "Epoch 360\n",
      "Loss 0.29708934\n",
      "Epoch 380\n",
      "Loss 0.29703814\n",
      "Epoch 400\n",
      "Loss 0.29699424\n",
      "Epoch 420\n",
      "Loss 0.29695714\n",
      "Epoch 440\n",
      "Loss 0.29692647\n",
      "Epoch 460\n",
      "Loss 0.29690203\n",
      "Epoch 480\n",
      "Loss 0.29688346\n",
      "Final loss: 0.32012638\n",
      "Accuracy: 0.8462483365748797\n"
     ]
    }
   ],
   "source": [
    "#  การสร้าง session และเริ่มต้นตัวแปร:\n",
    "with tf.Session() as sess:\n",
    "    sess.run(init)\n",
    "    # for epoch in range(epochs):: ลูปการฝึกที่ทำงานตามจำนวน epochs ที่กำหนด.\n",
    "    for epoch in range(epochs):\n",
    "        \n",
    "        # ในขั้นตอนนี้, ตัวแปร x_feed และ y_feed ถูกตั้งค่าเป็น None เพื่อเตรียมตัวรับข้อมูลที่ถูกแบ่งออกมาในแต่ละ batch สำหรับการฝึก\n",
    "        # : ถ้า X_train เป็นข้อมูลอินพุตและ y_train เป็น labels, ในแต่ละ batch ข้อมูลจาก X_train จะถูกเก็บใน x_feed และ y_train จะถูกเก็บใน y_feed.\n",
    "        x_feed = None\n",
    "        y_feed = None\n",
    "        # for batch in range(0, X_train.shape[0], batch_size):: ลูปเพื่อแบ่งข้อมูลออกเป็น batches โดยการแบ่งชุดข้อมูลฝึก (X_train, y_train) เป็น batch_size.\n",
    "        for batch in range(0, X_train.shape[0], batch_size): # start_idx คือ index หรือดัชนีเริ่มต้นของ batch นี้. ในรอบแรก, batch จะเป็น 0, ดังนั้น start_idx ก็จะเริ่มต้นที่ 0.\n",
    "            start_idx = batch\n",
    "            end_idx = batch + batch_size if batch + batch_size < X_train.shape[0] else X_train.shape[0]\n",
    "            x_feed = X_train[start_idx: end_idx]\n",
    "            y_feed = y_train[start_idx: end_idx]\n",
    "            \n",
    "            # x_pl คือ placeholder ที่ใช้ใน TensorFlow เพื่อรองรับข้อมูลที่ยังไม่ได้ถูกกำหนดค่าในขณะเริ่มต้นการสร้างกราฟการคำนวณ. ในกรณีนี้ x_pl คือ placeholder สำหรับข้อมูลอินพุตที่ใช้ในการฝึกโมเดล.\n",
    "            sess.run(optimizer, feed_dict={x_pl: x_feed, y_pl:  y_feed}) #feed_dict={x_pl: x_feed, y_pl: y_feed} คือการส่งข้อมูลเข้าไปใน placeholders:\n",
    "            # optimizer คือการตั้งค่ากลไกในการปรับพารามิเตอร์ของโมเดล (เช่น weights หรือ biases)\n",
    "        \n",
    "        # ทุกๆ 20 epoch (หรือทุกๆจำนวนที่กำหนด) เราจะคำนวณค่า loss โดยใช้ข้อมูลของ x_feed และ y_feed ที่ถูกใช้ในการอัปเดตพารามิเตอร์ใน batch ปัจจุบัน.\n",
    "        # ค่า loss จะถูกพิมพ์ออกมาเพื่อดูการพัฒนาในแต่ละ epoch และเก็บค่า loss ไว้ใน losses เพื่อการตรวจสอบในภายหลัง.\n",
    "        if epoch % 20 == 0:\n",
    "            _loss = sess.run(loss, feed_dict={x_pl: x_feed , y_pl: y_feed})\n",
    "            print('Epoch', epoch)\n",
    "            print('Loss', _loss)\n",
    "            losses.append(_loss)\n",
    "\n",
    "    # หลังจากฝึกเสร็จสมบูรณ์แล้ว, เราคำนวณ loss บน X_train และ y_train เพื่อดูว่าโมเดลเรียนรู้ได้ดีแค่ไหนหลังจากผ่าน 500 epochs.\n",
    "    _loss = sess.run(loss, feed_dict={x_pl: X_train, y_pl: y_train}) # ฟังก์ชัน loss จะเป็นการคำนวณว่าผลลัพธ์ที่โมเดลทำนายห่างจากค่าจริงมากแค่ไหน \n",
    "    print('Final loss:' , _loss)\n",
    "\n",
    "    # การทำนายบนชุดทดสอบ (Test Set):\n",
    "    y_predict = sess.run(model, feed_dict = {x_pl: X_test})\n",
    "    predict = np.argmax(y_predict , axis=1)\n",
    "    accuracy=np.mean(predict == np.argmax(y_test, axis=1))\n",
    "    print('Accuracy:',accuracy)"
   ]
  },
  {
   "cell_type": "code",
   "execution_count": null,
   "id": "49c78f2d-152d-4fb5-993c-8b62e1d85d52",
   "metadata": {},
   "outputs": [],
   "source": []
  },
  {
   "cell_type": "code",
   "execution_count": null,
   "id": "d2aeadef-b27b-42a3-a02b-156608b86a3d",
   "metadata": {},
   "outputs": [],
   "source": []
  },
  {
   "cell_type": "code",
   "execution_count": null,
   "id": "bdfca49d-cfd9-42e7-b2a6-defa8c91983d",
   "metadata": {},
   "outputs": [],
   "source": []
  }
 ],
 "metadata": {
  "kernelspec": {
   "display_name": "new_env",
   "language": "python",
   "name": "python3"
  },
  "language_info": {
   "codemirror_mode": {
    "name": "ipython",
    "version": 3
   },
   "file_extension": ".py",
   "mimetype": "text/x-python",
   "name": "python",
   "nbconvert_exporter": "python",
   "pygments_lexer": "ipython3",
   "version": "3.9.21"
  }
 },
 "nbformat": 4,
 "nbformat_minor": 5
}
