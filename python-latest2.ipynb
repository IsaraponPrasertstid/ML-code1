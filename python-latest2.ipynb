{
 "cells": [
  {
   "cell_type": "markdown",
   "metadata": {},
   "source": [
    "# List"
   ]
  },
  {
   "cell_type": "markdown",
   "metadata": {},
   "source": [
    "## Remove Specific Elements from List\n",
    "\n",
    "Write a Python program to print a specified list after removing the 0th, 4th and 5th elements."
   ]
  },
  {
   "cell_type": "code",
   "execution_count": 44,
   "metadata": {},
   "outputs": [
    {
     "data": {
      "text/plain": [
       "['Green', 'White', 'Black']"
      ]
     },
     "execution_count": 44,
     "metadata": {},
     "output_type": "execute_result"
    }
   ],
   "source": [
    "color = ['Red', 'Green', 'White', 'Black', 'Pink', 'Yellow']\n",
    "\n",
    "color = [x for (i,x) in enumerate(color) if i not in (0,4,5)]\n",
    "\n",
    "color\n",
    "\n"
   ]
  },
  {
   "cell_type": "markdown",
   "metadata": {},
   "source": [
    "## Remove Even Numbers from List\n",
    "\n",
    "Write a Python program to print the numbers of a specified list after removing even numbers from it."
   ]
  },
  {
   "cell_type": "code",
   "execution_count": 45,
   "metadata": {},
   "outputs": [
    {
     "data": {
      "text/plain": [
       "[7, 25, 27]"
      ]
     },
     "execution_count": 45,
     "metadata": {},
     "output_type": "execute_result"
    }
   ],
   "source": [
    "num = [7, 8, 120, 25, 44, 20, 27]\n",
    "\n",
    "num = [x for x in num if x%2 != 0]\n",
    "num"
   ]
  },
  {
   "cell_type": "markdown",
   "metadata": {},
   "source": [
    "## Calculate Difference Between Lists\n",
    "\n",
    "Write a Python program to calculate the difference between the two lists."
   ]
  },
  {
   "cell_type": "code",
   "execution_count": 46,
   "metadata": {},
   "outputs": [],
   "source": [
    "# Define a list 'list1' containing numbers\n",
    "list1 = [1, 3, 5, 7, 9]\n",
    "\n",
    "# Define another list 'list2' containing different numbers\n",
    "list2 = [1, 2, 4, 6, 7, 8]"
   ]
  },
  {
   "cell_type": "code",
   "execution_count": 47,
   "metadata": {},
   "outputs": [
    {
     "data": {
      "text/plain": [
       "{3, 5, 9}"
      ]
     },
     "execution_count": 47,
     "metadata": {},
     "output_type": "execute_result"
    }
   ],
   "source": [
    "diff_list1_list2 = set(list1) - set(list2)\n",
    "diff_list1_list2"
   ]
  },
  {
   "cell_type": "code",
   "execution_count": 48,
   "metadata": {},
   "outputs": [
    {
     "data": {
      "text/plain": [
       "{2, 4, 6, 8}"
      ]
     },
     "execution_count": 48,
     "metadata": {},
     "output_type": "execute_result"
    }
   ],
   "source": [
    "diff_list2_list1 = set(list2) - set(list1)\n",
    "diff_list2_list1"
   ]
  },
  {
   "cell_type": "code",
   "execution_count": 49,
   "metadata": {},
   "outputs": [
    {
     "data": {
      "text/plain": [
       "[9, 3, 5, 8, 2, 4, 6]"
      ]
     },
     "execution_count": 49,
     "metadata": {},
     "output_type": "execute_result"
    }
   ],
   "source": [
    "total_diff = list(diff_list1_list2) + list(diff_list2_list1)\n",
    "total_diff"
   ]
  },
  {
   "cell_type": "code",
   "execution_count": 50,
   "metadata": {},
   "outputs": [
    {
     "name": "stdout",
     "output_type": "stream",
     "text": [
      "37\n"
     ]
    }
   ],
   "source": [
    "num = 0\n",
    "for i in total_diff:\n",
    "    num += i\n",
    "\n",
    "print(num)"
   ]
  },
  {
   "cell_type": "code",
   "execution_count": null,
   "metadata": {},
   "outputs": [],
   "source": []
  },
  {
   "cell_type": "code",
   "execution_count": null,
   "metadata": {},
   "outputs": [],
   "source": []
  },
  {
   "cell_type": "markdown",
   "metadata": {},
   "source": [
    "## Union and Intersection of Two Lists\n",
    "\n",
    "Write a Python a function to find the union and intersection of two lists"
   ]
  },
  {
   "cell_type": "code",
   "execution_count": 51,
   "metadata": {},
   "outputs": [],
   "source": [
    "nums1 = ['red', 'green', 'blue']\n",
    "nums2 = ['red', 1]\n"
   ]
  },
  {
   "cell_type": "code",
   "execution_count": 52,
   "metadata": {},
   "outputs": [
    {
     "data": {
      "text/plain": [
       "{1, 'blue', 'green', 'red'}"
      ]
     },
     "execution_count": 52,
     "metadata": {},
     "output_type": "execute_result"
    }
   ],
   "source": [
    "set_union = set(nums1) | set(nums2)\n",
    "set_union"
   ]
  },
  {
   "cell_type": "code",
   "execution_count": 53,
   "metadata": {},
   "outputs": [
    {
     "data": {
      "text/plain": [
       "{'red'}"
      ]
     },
     "execution_count": 53,
     "metadata": {},
     "output_type": "execute_result"
    }
   ],
   "source": [
    "set_inter = set(nums1) & set(nums2)\n",
    "set_inter"
   ]
  },
  {
   "cell_type": "code",
   "execution_count": null,
   "metadata": {},
   "outputs": [],
   "source": []
  },
  {
   "cell_type": "markdown",
   "metadata": {},
   "source": [
    "# Dictionary"
   ]
  },
  {
   "cell_type": "markdown",
   "metadata": {},
   "source": [
    "## Add Key to Dictionary\n",
    "\n",
    "Write a Python program to add a key to a dictionary.\n",
    "\n",
    "Sample Dictionary : {0: 10, 1: 20}\n",
    "\n",
    "Expected Result : {0: 10, 1: 20, 2: 30}"
   ]
  },
  {
   "cell_type": "code",
   "execution_count": 54,
   "metadata": {},
   "outputs": [
    {
     "data": {
      "text/plain": [
       "{0: 10, 1: 20, 2: 30}"
      ]
     },
     "execution_count": 54,
     "metadata": {},
     "output_type": "execute_result"
    }
   ],
   "source": [
    "d = {0: 10, 1: 20}\n",
    "\n",
    "d.update({2:30})\n",
    "\n",
    "d"
   ]
  },
  {
   "cell_type": "markdown",
   "metadata": {},
   "source": [
    "## Multiply All Items in a Dictionary\n",
    "\n"
   ]
  },
  {
   "cell_type": "code",
   "execution_count": 55,
   "metadata": {},
   "outputs": [
    {
     "data": {
      "text/plain": [
       "-1333800"
      ]
     },
     "execution_count": 55,
     "metadata": {},
     "output_type": "execute_result"
    }
   ],
   "source": [
    "my_dict = {'data1': 100, 'data2': -54, 'data3': 247}\n",
    "\n",
    "result = 1\n",
    "for key in my_dict:\n",
    "    result = result*my_dict[key]\n",
    "    \n",
    "result"
   ]
  },
  {
   "cell_type": "markdown",
   "metadata": {},
   "source": [
    "##  Remove Spaces from Dictionary Keys"
   ]
  },
  {
   "cell_type": "code",
   "execution_count": 56,
   "metadata": {},
   "outputs": [
    {
     "data": {
      "text/plain": [
       "{'S  001': ['Math', 'Science'], 'S    002': ['Math', 'English']}"
      ]
     },
     "execution_count": 56,
     "metadata": {},
     "output_type": "execute_result"
    }
   ],
   "source": [
    "student_list = {'S  001': ['Math', 'Science'], 'S    002': ['Math', 'English']}\n",
    "student_list"
   ]
  },
  {
   "cell_type": "code",
   "execution_count": 57,
   "metadata": {},
   "outputs": [
    {
     "data": {
      "text/plain": [
       "{'S001': ['Math', 'Science'], 'S002': ['Math', 'English']}"
      ]
     },
     "execution_count": 57,
     "metadata": {},
     "output_type": "execute_result"
    }
   ],
   "source": [
    "{x.translate({32: None}): y for x,y in student_list.items()}"
   ]
  },
  {
   "cell_type": "code",
   "execution_count": 58,
   "metadata": {},
   "outputs": [
    {
     "ename": "SyntaxError",
     "evalue": "invalid syntax (4293372002.py, line 1)",
     "output_type": "error",
     "traceback": [
      "\u001b[0;36m  Cell \u001b[0;32mIn[58], line 1\u001b[0;36m\u001b[0m\n\u001b[0;31m    .translate()\u001b[0m\n\u001b[0m    ^\u001b[0m\n\u001b[0;31mSyntaxError\u001b[0m\u001b[0;31m:\u001b[0m invalid syntax\n"
     ]
    }
   ],
   "source": [
    ".translate()"
   ]
  },
  {
   "cell_type": "code",
   "execution_count": null,
   "metadata": {},
   "outputs": [],
   "source": []
  },
  {
   "cell_type": "code",
   "execution_count": null,
   "metadata": {},
   "outputs": [],
   "source": []
  },
  {
   "cell_type": "markdown",
   "metadata": {},
   "source": [
    "## Sort a Tuple by Its Float Element\n",
    "\n",
    "Write a Python program to sort a tuple by its float element.\n",
    "\n",
    "Sample data: [('item1', '12.20'), ('item2', '15.10'), ('item3', '24.5')]\n",
    "\n",
    "Expected Output: [('item3', '24.5'), ('item2', '15.10'), ('item1', '12.20')]"
   ]
  },
  {
   "cell_type": "markdown",
   "metadata": {},
   "source": [
    "## Calculate the Product of Numbers in a Tuple\n",
    "\n",
    "Write a Python program to calculate the product, multiplying all the numbers in a given tuple.\n",
    "\n",
    "Original Tuple:\n",
    "\n",
    "(4, 3, 2, 2, -1, 18)\n",
    "\n",
    "Product - multiplying all the numbers of the said tuple: -864\n",
    "\n",
    "Original Tuple:\n",
    "\n",
    "(2, 4, 8, 8, 3, 2, 9)\n",
    "\n",
    "Product - multiplying all the numbers of the said tuple: 27648"
   ]
  },
  {
   "cell_type": "code",
   "execution_count": 59,
   "metadata": {},
   "outputs": [],
   "source": [
    "nums_1 = (4, 3, 2, 2, -1, 18)\n",
    "nums_2 = (2, 4, 8, 8, 3, 2, 9)\n"
   ]
  },
  {
   "cell_type": "code",
   "execution_count": 60,
   "metadata": {},
   "outputs": [],
   "source": [
    "def product_of_tuple(numbers):\n",
    "    result = 1\n",
    "    for num in numbers:\n",
    "        result *= num\n",
    "    return result\n",
    "\n",
    "nums_1 = (4, 3, 2, 2, -1, 18)\n",
    "nums_2 = (2, 4, 8, 8, 3, 2, 9)\n",
    " "
   ]
  },
  {
   "cell_type": "code",
   "execution_count": 61,
   "metadata": {},
   "outputs": [
    {
     "data": {
      "text/plain": [
       "-864"
      ]
     },
     "execution_count": 61,
     "metadata": {},
     "output_type": "execute_result"
    }
   ],
   "source": [
    "product_of_tuple(nums_1)"
   ]
  },
  {
   "cell_type": "code",
   "execution_count": 62,
   "metadata": {},
   "outputs": [
    {
     "data": {
      "text/plain": [
       "27648"
      ]
     },
     "execution_count": 62,
     "metadata": {},
     "output_type": "execute_result"
    }
   ],
   "source": [
    "product_of_tuple(nums_2)"
   ]
  },
  {
   "cell_type": "markdown",
   "metadata": {},
   "source": [
    "## Unique Words and Frequency Count from a List of Strings"
   ]
  },
  {
   "cell_type": "code",
   "execution_count": 63,
   "metadata": {},
   "outputs": [],
   "source": [
    "words = ['Red', 'Green', 'Red', 'Blue', 'Red', 'Red', 'Green']"
   ]
  },
  {
   "cell_type": "code",
   "execution_count": 64,
   "metadata": {},
   "outputs": [],
   "source": [
    "word_count = {}\n",
    "\n",
    "for word in words:\n",
    "    if word in word_count:\n",
    "        word_count[word] += 1\n",
    "    else:\n",
    "        word_count[word] = 1\n",
    "        \n",
    "        "
   ]
  },
  {
   "cell_type": "code",
   "execution_count": 65,
   "metadata": {},
   "outputs": [
    {
     "data": {
      "text/plain": [
       "{'Red': 4, 'Green': 2, 'Blue': 1}"
      ]
     },
     "execution_count": 65,
     "metadata": {},
     "output_type": "execute_result"
    }
   ],
   "source": [
    "word_count"
   ]
  },
  {
   "cell_type": "code",
   "execution_count": 66,
   "metadata": {},
   "outputs": [
    {
     "ename": "NameError",
     "evalue": "name 'l' is not defined",
     "output_type": "error",
     "traceback": [
      "\u001b[0;31m---------------------------------------------------------------------------\u001b[0m",
      "\u001b[0;31mNameError\u001b[0m                                 Traceback (most recent call last)",
      "Cell \u001b[0;32mIn[66], line 1\u001b[0m\n\u001b[0;32m----> 1\u001b[0m \u001b[43ml\u001b[49m[\u001b[38;5;241m0\u001b[39m]\u001b[38;5;241m=\u001b[39m\u001b[38;5;241m10\u001b[39m\n",
      "\u001b[0;31mNameError\u001b[0m: name 'l' is not defined"
     ]
    }
   ],
   "source": [
    "l[0]=10"
   ]
  },
  {
   "cell_type": "code",
   "execution_count": null,
   "metadata": {},
   "outputs": [],
   "source": []
  },
  {
   "cell_type": "markdown",
   "metadata": {},
   "source": [
    "# Functions"
   ]
  },
  {
   "cell_type": "markdown",
   "metadata": {},
   "source": [
    "Maximum of Three Numbers"
   ]
  },
  {
   "cell_type": "code",
   "execution_count": null,
   "metadata": {},
   "outputs": [],
   "source": [
    "# Print the result of calling max_of_three function with arguments 3, 6, and -5"
   ]
  },
  {
   "cell_type": "code",
   "execution_count": 67,
   "metadata": {},
   "outputs": [
    {
     "data": {
      "text/plain": [
       "6"
      ]
     },
     "execution_count": 67,
     "metadata": {},
     "output_type": "execute_result"
    }
   ],
   "source": [
    "def max_of_two(x,y):\n",
    "    if x > y:\n",
    "        return x\n",
    "    else:\n",
    "        return y\n",
    "    \n",
    "    \n",
    "def max_of_three(x,y,z):\n",
    "    return max_of_two(max_of_two(x,y),z)\n",
    "\n",
    "max_of_three(3, 6, -5)\n",
    "    "
   ]
  },
  {
   "cell_type": "markdown",
   "metadata": {},
   "source": [
    "# Sum All Numbers in a List\n"
   ]
  },
  {
   "cell_type": "code",
   "execution_count": 68,
   "metadata": {},
   "outputs": [],
   "source": [
    "# Print the result of calling the 'sum' function with a tuple of numbers (8, 2, 3, 0, 7)\n",
    "\n",
    "numbers =  (8, 2, 3, 0, 7)\n",
    "\n",
    "def sum(number):\n",
    "    total = 0\n",
    "    for num in number:\n",
    "        total += num\n",
    "    return total\n",
    "\n",
    "\n",
    "\n"
   ]
  },
  {
   "cell_type": "code",
   "execution_count": 69,
   "metadata": {},
   "outputs": [
    {
     "data": {
      "text/plain": [
       "20"
      ]
     },
     "execution_count": 69,
     "metadata": {},
     "output_type": "execute_result"
    }
   ],
   "source": [
    "sum(numbers)"
   ]
  },
  {
   "cell_type": "markdown",
   "metadata": {},
   "source": [
    "# Count Uppercase and Lowercase Letters in a String\n"
   ]
  },
  {
   "cell_type": "code",
   "execution_count": 70,
   "metadata": {},
   "outputs": [],
   "source": [
    "# Call the 'string_test' function with the input string 'The quick Brown Fox'\n",
    "\n",
    "def string_test(input_string):\n",
    "    lower_count = 0\n",
    "    upper_count = 0\n",
    "    for char in input_string:\n",
    "        if char.isupper():\n",
    "            upper_count += 1\n",
    "        elif char.islower():\n",
    "            lower_count += 1\n",
    "            \n",
    "    return lower_count, upper_count\n",
    "    \n",
    "    \n",
    "            \n"
   ]
  },
  {
   "cell_type": "code",
   "execution_count": 71,
   "metadata": {},
   "outputs": [],
   "source": [
    "string_1 = 'The quick Brown Fox'\n",
    "lower, upper = string_test(string_1)"
   ]
  },
  {
   "cell_type": "code",
   "execution_count": 72,
   "metadata": {},
   "outputs": [
    {
     "data": {
      "text/plain": [
       "13"
      ]
     },
     "execution_count": 72,
     "metadata": {},
     "output_type": "execute_result"
    }
   ],
   "source": [
    "lower"
   ]
  },
  {
   "cell_type": "code",
   "execution_count": 73,
   "metadata": {},
   "outputs": [
    {
     "data": {
      "text/plain": [
       "3"
      ]
     },
     "execution_count": 73,
     "metadata": {},
     "output_type": "execute_result"
    }
   ],
   "source": [
    "upper"
   ]
  },
  {
   "cell_type": "markdown",
   "metadata": {},
   "source": [
    "# Create and Print a List of Squares for Numbers 1 to 20\n"
   ]
  },
  {
   "cell_type": "code",
   "execution_count": 74,
   "metadata": {},
   "outputs": [
    {
     "data": {
      "text/plain": [
       "[1,\n",
       " 4,\n",
       " 9,\n",
       " 16,\n",
       " 25,\n",
       " 36,\n",
       " 49,\n",
       " 64,\n",
       " 81,\n",
       " 100,\n",
       " 121,\n",
       " 144,\n",
       " 169,\n",
       " 196,\n",
       " 225,\n",
       " 256,\n",
       " 289,\n",
       " 324,\n",
       " 361,\n",
       " 400]"
      ]
     },
     "execution_count": 74,
     "metadata": {},
     "output_type": "execute_result"
    }
   ],
   "source": [
    "square = [ x**2 for x in range(1,21)]\n",
    "square"
   ]
  },
  {
   "cell_type": "code",
   "execution_count": 75,
   "metadata": {},
   "outputs": [
    {
     "data": {
      "text/plain": [
       "[1,\n",
       " 4,\n",
       " 9,\n",
       " 16,\n",
       " 25,\n",
       " 36,\n",
       " 49,\n",
       " 64,\n",
       " 81,\n",
       " 100,\n",
       " 121,\n",
       " 144,\n",
       " 169,\n",
       " 196,\n",
       " 225,\n",
       " 256,\n",
       " 289,\n",
       " 324,\n",
       " 361,\n",
       " 400]"
      ]
     },
     "execution_count": 75,
     "metadata": {},
     "output_type": "execute_result"
    }
   ],
   "source": [
    "def generate_sq(start, end):\n",
    "    return [ x**2 for x in range(start,end +1)]\n",
    "\n",
    "\n",
    "square = generate_sq(1,20)\n",
    "square"
   ]
  },
  {
   "cell_type": "code",
   "execution_count": 76,
   "metadata": {},
   "outputs": [],
   "source": [
    "def hello():\n",
    "    print('hello')"
   ]
  },
  {
   "cell_type": "code",
   "execution_count": 77,
   "metadata": {},
   "outputs": [
    {
     "name": "stdout",
     "output_type": "stream",
     "text": [
      "hello\n"
     ]
    }
   ],
   "source": [
    "hello()"
   ]
  },
  {
   "cell_type": "code",
   "execution_count": 78,
   "metadata": {},
   "outputs": [
    {
     "ename": "ValueError",
     "evalue": "invalid literal for int() with base 10: ''",
     "output_type": "error",
     "traceback": [
      "\u001b[0;31m---------------------------------------------------------------------------\u001b[0m",
      "\u001b[0;31mValueError\u001b[0m                                Traceback (most recent call last)",
      "Cell \u001b[0;32mIn[78], line 8\u001b[0m\n\u001b[1;32m      4\u001b[0m     end \u001b[38;5;241m=\u001b[39m \u001b[38;5;28mint\u001b[39m(\u001b[38;5;28minput\u001b[39m(\u001b[38;5;124m\"\u001b[39m\u001b[38;5;124mEnter the end number: \u001b[39m\u001b[38;5;124m\"\u001b[39m))\n\u001b[1;32m      5\u001b[0m     \u001b[38;5;28;01mreturn\u001b[39;00m [ x\u001b[38;5;241m*\u001b[39m\u001b[38;5;241m*\u001b[39m\u001b[38;5;241m2\u001b[39m \u001b[38;5;28;01mfor\u001b[39;00m x \u001b[38;5;129;01min\u001b[39;00m \u001b[38;5;28mrange\u001b[39m(start,end \u001b[38;5;241m+\u001b[39m\u001b[38;5;241m1\u001b[39m)]\n\u001b[0;32m----> 8\u001b[0m square \u001b[38;5;241m=\u001b[39m \u001b[43mgenerate_sq\u001b[49m\u001b[43m(\u001b[49m\u001b[43m)\u001b[49m\n\u001b[1;32m      9\u001b[0m square\n",
      "Cell \u001b[0;32mIn[78], line 3\u001b[0m, in \u001b[0;36mgenerate_sq\u001b[0;34m()\u001b[0m\n\u001b[1;32m      1\u001b[0m \u001b[38;5;28;01mdef\u001b[39;00m\u001b[38;5;250m \u001b[39m\u001b[38;5;21mgenerate_sq\u001b[39m():\n\u001b[0;32m----> 3\u001b[0m     start \u001b[38;5;241m=\u001b[39m \u001b[38;5;28;43mint\u001b[39;49m\u001b[43m(\u001b[49m\u001b[38;5;28;43minput\u001b[39;49m\u001b[43m(\u001b[49m\u001b[38;5;124;43m\"\u001b[39;49m\u001b[38;5;124;43mEnter the start number: \u001b[39;49m\u001b[38;5;124;43m\"\u001b[39;49m\u001b[43m)\u001b[49m\u001b[43m)\u001b[49m\n\u001b[1;32m      4\u001b[0m     end \u001b[38;5;241m=\u001b[39m \u001b[38;5;28mint\u001b[39m(\u001b[38;5;28minput\u001b[39m(\u001b[38;5;124m\"\u001b[39m\u001b[38;5;124mEnter the end number: \u001b[39m\u001b[38;5;124m\"\u001b[39m))\n\u001b[1;32m      5\u001b[0m     \u001b[38;5;28;01mreturn\u001b[39;00m [ x\u001b[38;5;241m*\u001b[39m\u001b[38;5;241m*\u001b[39m\u001b[38;5;241m2\u001b[39m \u001b[38;5;28;01mfor\u001b[39;00m x \u001b[38;5;129;01min\u001b[39;00m \u001b[38;5;28mrange\u001b[39m(start,end \u001b[38;5;241m+\u001b[39m\u001b[38;5;241m1\u001b[39m)]\n",
      "\u001b[0;31mValueError\u001b[0m: invalid literal for int() with base 10: ''"
     ]
    }
   ],
   "source": [
    "def generate_sq():\n",
    "    \n",
    "    start = int(input(\"Enter the start number: \"))\n",
    "    end = int(input(\"Enter the end number: \"))\n",
    "    return [ x**2 for x in range(start,end +1)]\n",
    "\n",
    "\n",
    "square = generate_sq()\n",
    "square"
   ]
  },
  {
   "cell_type": "code",
   "execution_count": 79,
   "metadata": {},
   "outputs": [
    {
     "ename": "SyntaxError",
     "evalue": "invalid syntax (1505970414.py, line 1)",
     "output_type": "error",
     "traceback": [
      "\u001b[0;36m  Cell \u001b[0;32mIn[79], line 1\u001b[0;36m\u001b[0m\n\u001b[0;31m    def multi(5,3):\u001b[0m\n\u001b[0m              ^\u001b[0m\n\u001b[0;31mSyntaxError\u001b[0m\u001b[0;31m:\u001b[0m invalid syntax\n"
     ]
    }
   ],
   "source": [
    "def multi(5,3):\n",
    "    # Base Case\n",
    "    if b == 1:\n",
    "        return a\n",
    "    # Recursive Case\n",
    "    return 5 + multi(5, 2)\n",
    "\n",
    "\n",
    "def multi(5, 2):\n",
    "    # Base Case\n",
    "    if b == 1:\n",
    "        return a\n",
    "    # Recursive Case\n",
    "    return ....\n",
    "\n",
    "def multi(5, 1):\n",
    "    # Base Case\n",
    "    if b == 1:\n",
    "        return a\n",
    "    # Recursive Case\n",
    "    return ...."
   ]
  },
  {
   "cell_type": "code",
   "execution_count": 80,
   "metadata": {},
   "outputs": [
    {
     "ename": "NameError",
     "evalue": "name 'multi' is not defined",
     "output_type": "error",
     "traceback": [
      "\u001b[0;31m---------------------------------------------------------------------------\u001b[0m",
      "\u001b[0;31mNameError\u001b[0m                                 Traceback (most recent call last)",
      "Cell \u001b[0;32mIn[80], line 1\u001b[0m\n\u001b[0;32m----> 1\u001b[0m \u001b[43mmulti\u001b[49m(\u001b[38;5;241m5\u001b[39m,\u001b[38;5;241m3\u001b[39m)\n",
      "\u001b[0;31mNameError\u001b[0m: name 'multi' is not defined"
     ]
    }
   ],
   "source": [
    "multi(5,3)"
   ]
  },
  {
   "cell_type": "code",
   "execution_count": 81,
   "metadata": {},
   "outputs": [
    {
     "ename": "SyntaxError",
     "evalue": "invalid character '๙' (U+0E59) (314064911.py, line 3)",
     "output_type": "error",
     "traceback": [
      "\u001b[0;36m  Cell \u001b[0;32mIn[81], line 3\u001b[0;36m\u001b[0m\n\u001b[0;31m    5 + 5 +  5 +5๙\u001b[0m\n\u001b[0m                 ^\u001b[0m\n\u001b[0;31mSyntaxError\u001b[0m\u001b[0;31m:\u001b[0m invalid character '๙' (U+0E59)\n"
     ]
    }
   ],
   "source": [
    "5*3\n",
    "\n",
    "5 + 5 +  5 +5๙"
   ]
  },
  {
   "cell_type": "code",
   "execution_count": 82,
   "metadata": {},
   "outputs": [],
   "source": [
    "def multi(a, b):\n",
    "    result = a*b\n",
    "    return result"
   ]
  },
  {
   "cell_type": "code",
   "execution_count": 83,
   "metadata": {},
   "outputs": [
    {
     "data": {
      "text/plain": [
       "15"
      ]
     },
     "execution_count": 83,
     "metadata": {},
     "output_type": "execute_result"
    }
   ],
   "source": [
    "multi(5,3)"
   ]
  },
  {
   "cell_type": "code",
   "execution_count": 84,
   "metadata": {},
   "outputs": [],
   "source": [
    "def multi(a, b):\n",
    "    result = 0\n",
    "    while b>0:\n",
    "        result += a\n",
    "        print('b', b)\n",
    "        b -= 1\n",
    "        \n",
    "        print(result)\n",
    "        \n",
    "        \n"
   ]
  },
  {
   "cell_type": "code",
   "execution_count": 85,
   "metadata": {},
   "outputs": [
    {
     "name": "stdout",
     "output_type": "stream",
     "text": [
      "b 3\n",
      "5\n",
      "b 2\n",
      "10\n",
      "b 1\n",
      "15\n"
     ]
    }
   ],
   "source": [
    "multi(5,3)"
   ]
  },
  {
   "cell_type": "markdown",
   "metadata": {},
   "source": [
    "Tuple Sorting Lambda\n",
    "\n",
    "Write a Python program to sort a list of tuples using Lambda.\n",
    "\n",
    "Original list of tuples:\n",
    "\n",
    "[('English', 88), ('Science', 90), ('Maths', 97), ('Social sciences', 82)]\n",
    "\n",
    "Sorting the List of Tuples:\n",
    "\n",
    "[('Social sciences', 82), ('English', 88), ('Science', 90), ('Maths', 97)]"
   ]
  },
  {
   "cell_type": "code",
   "execution_count": 86,
   "metadata": {},
   "outputs": [
    {
     "data": {
      "text/plain": [
       "[('English', 88), ('Science', 90), ('Maths', 97), ('Social sciences', 82)]"
      ]
     },
     "execution_count": 86,
     "metadata": {},
     "output_type": "execute_result"
    }
   ],
   "source": [
    "subject_marks = [('English', 88), ('Science', 90), ('Maths', 97), ('Social sciences', 82)]\n",
    "subject_marks"
   ]
  },
  {
   "cell_type": "code",
   "execution_count": 87,
   "metadata": {},
   "outputs": [],
   "source": [
    "subject_marks.sort(key=lambda x: x[1])"
   ]
  },
  {
   "cell_type": "code",
   "execution_count": 88,
   "metadata": {},
   "outputs": [
    {
     "data": {
      "text/plain": [
       "[('Social sciences', 82), ('English', 88), ('Science', 90), ('Maths', 97)]"
      ]
     },
     "execution_count": 88,
     "metadata": {},
     "output_type": "execute_result"
    }
   ],
   "source": [
    "subject_marks"
   ]
  },
  {
   "cell_type": "code",
   "execution_count": 89,
   "metadata": {},
   "outputs": [
    {
     "name": "stdout",
     "output_type": "stream",
     "text": [
      "5\n",
      "14\n"
     ]
    }
   ],
   "source": [
    "x= 5 \n",
    "print(x)\n",
    "y=9\n",
    "print(x+y)"
   ]
  },
  {
   "cell_type": "code",
   "execution_count": 90,
   "metadata": {},
   "outputs": [
    {
     "name": "stdout",
     "output_type": "stream",
     "text": [
      "5\n"
     ]
    }
   ],
   "source": [
    "x = 5\n",
    "if x>3:\n",
    "    print(x)\n",
    "else:\n",
    "    print('no')"
   ]
  },
  {
   "cell_type": "code",
   "execution_count": 91,
   "metadata": {},
   "outputs": [
    {
     "name": "stdout",
     "output_type": "stream",
     "text": [
      "10\n",
      "9\n",
      "8\n",
      "7\n",
      "6\n",
      "5\n",
      "4\n"
     ]
    }
   ],
   "source": [
    "x =10\n",
    "while x>3:\n",
    "    print(x)\n",
    "    x = x-1"
   ]
  },
  {
   "cell_type": "code",
   "execution_count": 92,
   "metadata": {},
   "outputs": [
    {
     "name": "stdout",
     "output_type": "stream",
     "text": [
      "10\n",
      "9\n",
      "8\n",
      "7\n",
      "6\n",
      "5\n",
      "4\n"
     ]
    }
   ],
   "source": [
    "x =10\n",
    "while x>3:\n",
    "    print(x)\n",
    "    x = x-1"
   ]
  },
  {
   "cell_type": "markdown",
   "metadata": {},
   "source": [
    "Listify Strings Map"
   ]
  },
  {
   "cell_type": "code",
   "execution_count": 93,
   "metadata": {},
   "outputs": [],
   "source": [
    "color = ['Red', 'Blue', 'Black', 'White', 'Pink']"
   ]
  },
  {
   "cell_type": "code",
   "execution_count": 94,
   "metadata": {},
   "outputs": [
    {
     "data": {
      "text/plain": [
       "[3, 4, 5, 5, 4]"
      ]
     },
     "execution_count": 94,
     "metadata": {},
     "output_type": "execute_result"
    }
   ],
   "source": [
    "list(map(len, color))"
   ]
  },
  {
   "cell_type": "code",
   "execution_count": 95,
   "metadata": {},
   "outputs": [
    {
     "data": {
      "text/plain": [
       "['B', 'l', 'u', 'e']"
      ]
     },
     "execution_count": 95,
     "metadata": {},
     "output_type": "execute_result"
    }
   ],
   "source": [
    "list('Blue')"
   ]
  },
  {
   "cell_type": "code",
   "execution_count": null,
   "metadata": {},
   "outputs": [],
   "source": []
  },
  {
   "cell_type": "code",
   "execution_count": null,
   "metadata": {},
   "outputs": [],
   "source": []
  },
  {
   "cell_type": "markdown",
   "metadata": {},
   "source": [
    "Word Length Filter"
   ]
  },
  {
   "cell_type": "code",
   "execution_count": 96,
   "metadata": {},
   "outputs": [
    {
     "name": "stdout",
     "output_type": "stream",
     "text": [
      "List of words:\n",
      "['Red', 'Green', 'Orange', 'White', 'Black', 'Pink', 'Yellow']\n"
     ]
    }
   ],
   "source": [
    "# Define a list of words\n",
    "words = [\"Red\", \"Green\", \"Orange\", \"White\", \"Black\", \"Pink\", \"Yellow\"]\n",
    "print(\"List of words:\")\n",
    "print(words)\n",
    "\n"
   ]
  },
  {
   "cell_type": "code",
   "execution_count": 97,
   "metadata": {},
   "outputs": [],
   "source": [
    "def more_than_five(word):\n",
    "    return len(word) > 5"
   ]
  },
  {
   "cell_type": "code",
   "execution_count": 98,
   "metadata": {},
   "outputs": [
    {
     "data": {
      "text/plain": [
       "['Orange', 'Yellow']"
      ]
     },
     "execution_count": 98,
     "metadata": {},
     "output_type": "execute_result"
    }
   ],
   "source": [
    "list(filter(more_than_five, words))"
   ]
  },
  {
   "cell_type": "code",
   "execution_count": null,
   "metadata": {},
   "outputs": [],
   "source": []
  },
  {
   "cell_type": "code",
   "execution_count": null,
   "metadata": {},
   "outputs": [],
   "source": []
  },
  {
   "cell_type": "markdown",
   "metadata": {},
   "source": []
  },
  {
   "cell_type": "markdown",
   "metadata": {},
   "source": []
  },
  {
   "cell_type": "code",
   "execution_count": 99,
   "metadata": {},
   "outputs": [],
   "source": [
    "def fact(n):\n",
    "    if n == 1: # Base Case\n",
    "        return 1 \n",
    "    else:\n",
    "        return n * fact(n - 1)"
   ]
  },
  {
   "cell_type": "code",
   "execution_count": 100,
   "metadata": {},
   "outputs": [
    {
     "ename": "NameError",
     "evalue": "name 'v' is not defined",
     "output_type": "error",
     "traceback": [
      "\u001b[0;31m---------------------------------------------------------------------------\u001b[0m",
      "\u001b[0;31mNameError\u001b[0m                                 Traceback (most recent call last)",
      "Cell \u001b[0;32mIn[100], line 3\u001b[0m\n\u001b[1;32m      1\u001b[0m fact(\u001b[38;5;241m9\u001b[39m)\n\u001b[0;32m----> 3\u001b[0m \u001b[43mv\u001b[49m\n",
      "\u001b[0;31mNameError\u001b[0m: name 'v' is not defined"
     ]
    }
   ],
   "source": [
    "fact(9)\n",
    "\n",
    "v"
   ]
  },
  {
   "cell_type": "code",
   "execution_count": 101,
   "metadata": {},
   "outputs": [],
   "source": [
    "def isPal(s):\n",
    "    if len(s) <= 1:\n",
    "        return True\n",
    "    else:\n",
    "        if s[0] == s[-1]:\n",
    "            return isPal(s[1:-1])\n",
    "        else:\n",
    "            return False"
   ]
  },
  {
   "cell_type": "code",
   "execution_count": 102,
   "metadata": {},
   "outputs": [
    {
     "data": {
      "text/plain": [
       "False"
      ]
     },
     "execution_count": 102,
     "metadata": {},
     "output_type": "execute_result"
    }
   ],
   "source": [
    "isPal('civia')"
   ]
  },
  {
   "cell_type": "code",
   "execution_count": 103,
   "metadata": {},
   "outputs": [
    {
     "data": {
      "text/plain": [
       "36"
      ]
     },
     "execution_count": 103,
     "metadata": {},
     "output_type": "execute_result"
    }
   ],
   "source": [
    "mm = lambda x, y: x * y \n",
    "mm(12, 3)"
   ]
  },
  {
   "cell_type": "code",
   "execution_count": 104,
   "metadata": {},
   "outputs": [
    {
     "data": {
      "text/plain": [
       "[(1, 2), (6, 4), (-2, 5)]"
      ]
     },
     "execution_count": 104,
     "metadata": {},
     "output_type": "execute_result"
    }
   ],
   "source": [
    "pairs = [(1,2), (-2,5), (6,4)]\n",
    "\n",
    "sorted(pairs, key=lambda tup: tup[1])"
   ]
  },
  {
   "cell_type": "code",
   "execution_count": 105,
   "metadata": {},
   "outputs": [],
   "source": [
    "numbers=[1, 2, 3, 4, 5]"
   ]
  },
  {
   "cell_type": "code",
   "execution_count": 106,
   "metadata": {},
   "outputs": [
    {
     "name": "stdout",
     "output_type": "stream",
     "text": [
      "1\n",
      "4\n",
      "9\n",
      "16\n",
      "25\n"
     ]
    }
   ],
   "source": [
    "def square(x): \n",
    "    return x * x\n",
    "\n",
    "for n in numbers:\n",
    "    print(square(n))"
   ]
  },
  {
   "cell_type": "code",
   "execution_count": 107,
   "metadata": {},
   "outputs": [],
   "source": [
    "numbers=[1, 2, 3, 4, 5]"
   ]
  },
  {
   "cell_type": "code",
   "execution_count": 108,
   "metadata": {},
   "outputs": [],
   "source": [
    "def square(x): \n",
    "    return x * x\n",
    "\n",
    "mapObj= map(square, numbers)"
   ]
  },
  {
   "cell_type": "code",
   "execution_count": 109,
   "metadata": {},
   "outputs": [
    {
     "data": {
      "text/plain": [
       "<map at 0x1066cbf40>"
      ]
     },
     "execution_count": 109,
     "metadata": {},
     "output_type": "execute_result"
    }
   ],
   "source": [
    "mapObj = map(lambda x: x*x, numbers)\n",
    "mapObj"
   ]
  },
  {
   "cell_type": "code",
   "execution_count": 110,
   "metadata": {},
   "outputs": [
    {
     "data": {
      "text/plain": [
       "[1, 4, 9, 16, 25]"
      ]
     },
     "execution_count": 110,
     "metadata": {},
     "output_type": "execute_result"
    }
   ],
   "source": [
    "list(mapObj)"
   ]
  },
  {
   "cell_type": "code",
   "execution_count": 111,
   "metadata": {},
   "outputs": [],
   "source": [
    "for v in mapObj:\n",
    "    print(v)"
   ]
  },
  {
   "cell_type": "code",
   "execution_count": 112,
   "metadata": {},
   "outputs": [
    {
     "data": {
      "text/plain": [
       "['dog', 'cat', 'alpaca']"
      ]
     },
     "execution_count": 112,
     "metadata": {},
     "output_type": "execute_result"
    }
   ],
   "source": [
    "['dog', 'cat', 'alpaca']"
   ]
  },
  {
   "cell_type": "code",
   "execution_count": 113,
   "metadata": {},
   "outputs": [],
   "source": [
    "def len_of_all_elements(arr):\n",
    "    return list(map(len, arr))"
   ]
  },
  {
   "cell_type": "code",
   "execution_count": 114,
   "metadata": {},
   "outputs": [
    {
     "data": {
      "text/plain": [
       "[3, 3, 6]"
      ]
     },
     "execution_count": 114,
     "metadata": {},
     "output_type": "execute_result"
    }
   ],
   "source": [
    "len_of_all_elements(['dog', 'cat', 'alpaca'])"
   ]
  },
  {
   "cell_type": "code",
   "execution_count": 115,
   "metadata": {},
   "outputs": [
    {
     "data": {
      "text/plain": [
       "[6, 8, 10]"
      ]
     },
     "execution_count": 115,
     "metadata": {},
     "output_type": "execute_result"
    }
   ],
   "source": [
    "list1 = [1,2,3,4]\n",
    "list2 = [5,6,7]\n",
    "\n",
    "def add(x,y):\n",
    "    return x+y\n",
    "\n",
    "result = map(add, list1, list2)\n",
    "\n",
    "list(result)"
   ]
  },
  {
   "cell_type": "code",
   "execution_count": 116,
   "metadata": {},
   "outputs": [
    {
     "data": {
      "text/plain": [
       "['alpaca', 'Alpaca']"
      ]
     },
     "execution_count": 116,
     "metadata": {},
     "output_type": "execute_result"
    }
   ],
   "source": [
    "def start_with_a(arr):\n",
    "    ret_arr = []\n",
    "    for elem in arr:\n",
    "        if elem[0].lower() == 'a':\n",
    "            ret_arr.append(elem)\n",
    "\n",
    "    return ret_arr\n",
    "            \n",
    "        \n",
    "\n",
    "start_with_a(['dog', 'cat', 'alpaca', 'Alpaca'])"
   ]
  },
  {
   "cell_type": "code",
   "execution_count": 117,
   "metadata": {},
   "outputs": [
    {
     "data": {
      "text/plain": [
       "['alpaca', 'Alpaca']"
      ]
     },
     "execution_count": 117,
     "metadata": {},
     "output_type": "execute_result"
    }
   ],
   "source": [
    "def start_with_a(ele):\n",
    "    return ele[0].lower() == 'a'\n",
    "\n",
    "\n",
    "def start_with_a_c(arr):\n",
    "    return list(filter(start_with_a, arr))\n",
    "\n",
    "\n",
    "start_with_a_c(['dog', 'cat', 'alpaca', 'Alpaca'])"
   ]
  },
  {
   "cell_type": "code",
   "execution_count": 118,
   "metadata": {},
   "outputs": [
    {
     "data": {
      "text/plain": [
       "['alpaca', 'Alpaca']"
      ]
     },
     "execution_count": 118,
     "metadata": {},
     "output_type": "execute_result"
    }
   ],
   "source": [
    "def start_with_a_c(arr):\n",
    "    return list(filter(lambda word: word[0].lower() == 'a', arr))\n",
    "\n",
    "\n",
    "start_with_a_c(['dog', 'cat', 'alpaca', 'Alpaca'])\n"
   ]
  },
  {
   "cell_type": "code",
   "execution_count": 119,
   "metadata": {},
   "outputs": [
    {
     "data": {
      "text/plain": [
       "[1, 4, 9, 16, 25]"
      ]
     },
     "execution_count": 119,
     "metadata": {},
     "output_type": "execute_result"
    }
   ],
   "source": [
    "[i**2 for i in [1,2,3,4,5]]"
   ]
  },
  {
   "cell_type": "code",
   "execution_count": 120,
   "metadata": {},
   "outputs": [
    {
     "data": {
      "text/plain": [
       "[1, 4, 9, 16, 25]"
      ]
     },
     "execution_count": 120,
     "metadata": {},
     "output_type": "execute_result"
    }
   ],
   "source": [
    "list(map(lambda i: i**2, [1,2,3,4,5]))"
   ]
  },
  {
   "cell_type": "code",
   "execution_count": 121,
   "metadata": {},
   "outputs": [
    {
     "data": {
      "text/plain": [
       "[2, 4]"
      ]
     },
     "execution_count": 121,
     "metadata": {},
     "output_type": "execute_result"
    }
   ],
   "source": [
    "number = [1,2,3,4,5]\n",
    "[x for x in number if x%2 == 0]"
   ]
  },
  {
   "cell_type": "code",
   "execution_count": 122,
   "metadata": {},
   "outputs": [
    {
     "data": {
      "text/plain": [
       "[2, 4]"
      ]
     },
     "execution_count": 122,
     "metadata": {},
     "output_type": "execute_result"
    }
   ],
   "source": [
    "list(filter(lambda x: x%2 == 0, number))"
   ]
  },
  {
   "cell_type": "code",
   "execution_count": 123,
   "metadata": {},
   "outputs": [
    {
     "data": {
      "text/plain": [
       "{0: 0, 1: 1, 2: 4, 3: 9, 4: 16, 5: 25, 6: 36, 7: 49, 8: 64, 9: 81}"
      ]
     },
     "execution_count": 123,
     "metadata": {},
     "output_type": "execute_result"
    }
   ],
   "source": [
    "{i: i*i for i in range(10)}"
   ]
  },
  {
   "cell_type": "code",
   "execution_count": 124,
   "metadata": {},
   "outputs": [
    {
     "data": {
      "text/plain": [
       "[1, 4, 9, 16, 25]"
      ]
     },
     "execution_count": 124,
     "metadata": {},
     "output_type": "execute_result"
    }
   ],
   "source": [
    "[i**2 for i in [1,2,3,4,5]]"
   ]
  },
  {
   "cell_type": "code",
   "execution_count": 125,
   "metadata": {},
   "outputs": [
    {
     "data": {
      "text/plain": [
       "{0: 0, 1: 1, 2: 4}"
      ]
     },
     "execution_count": 125,
     "metadata": {},
     "output_type": "execute_result"
    }
   ],
   "source": [
    "{0:0, 1:1, 2:4}"
   ]
  },
  {
   "cell_type": "code",
   "execution_count": 126,
   "metadata": {},
   "outputs": [],
   "source": [
    "class Dog:\n",
    "    def __init__(self, name, age):\n",
    "        self.name = name\n",
    "        self.age = age\n"
   ]
  },
  {
   "cell_type": "code",
   "execution_count": 127,
   "metadata": {},
   "outputs": [],
   "source": [
    "my_dog = Dog(\"Buddy\", 2)"
   ]
  },
  {
   "cell_type": "code",
   "execution_count": 128,
   "metadata": {},
   "outputs": [
    {
     "data": {
      "text/plain": [
       "2"
      ]
     },
     "execution_count": 128,
     "metadata": {},
     "output_type": "execute_result"
    }
   ],
   "source": [
    "my_dog.age"
   ]
  },
  {
   "cell_type": "code",
   "execution_count": 129,
   "metadata": {},
   "outputs": [
    {
     "ename": "TypeError",
     "evalue": "__init__() missing 1 required positional argument: 'age'",
     "output_type": "error",
     "traceback": [
      "\u001b[0;31m---------------------------------------------------------------------------\u001b[0m",
      "\u001b[0;31mTypeError\u001b[0m                                 Traceback (most recent call last)",
      "Cell \u001b[0;32mIn[129], line 1\u001b[0m\n\u001b[0;32m----> 1\u001b[0m dog_1 \u001b[38;5;241m=\u001b[39m \u001b[43mDog\u001b[49m\u001b[43m(\u001b[49m\u001b[38;5;124;43m\"\u001b[39;49m\u001b[38;5;124;43mBird\u001b[39;49m\u001b[38;5;124;43m\"\u001b[39;49m\u001b[43m)\u001b[49m\n\u001b[1;32m      2\u001b[0m dog_1\u001b[38;5;241m.\u001b[39mname\n",
      "\u001b[0;31mTypeError\u001b[0m: __init__() missing 1 required positional argument: 'age'"
     ]
    }
   ],
   "source": [
    "dog_1 = Dog(\"Bird\")\n",
    "dog_1.name"
   ]
  },
  {
   "cell_type": "code",
   "execution_count": 130,
   "metadata": {},
   "outputs": [],
   "source": [
    "class Dog:\n",
    "    def __init__(self, name='', age=9):\n",
    "        self.name = name\n",
    "        self.age = age\n",
    "        \n",
    "    def getName(self):\n",
    "        return self.name\n",
    "    \n",
    "    def sit(self):\n",
    "        print(self.name + ' is now sitting')\n",
    "        \n",
    "        \n",
    "    def roll_over(self):\n",
    "        print(self.name + ' rolled over')\n",
    "        \n",
    "        \n",
    "    def __str__(self):\n",
    "        return \"dog's name is \" + str(self.name) + \" of age \" + str(self.age)\n",
    "    \n",
    "    def set_name(self, newname=''):\n",
    "        self.name = newname"
   ]
  },
  {
   "cell_type": "code",
   "execution_count": 131,
   "metadata": {},
   "outputs": [],
   "source": [
    "my_dog = Dog(\"Buddy\", 2)"
   ]
  },
  {
   "cell_type": "code",
   "execution_count": null,
   "metadata": {},
   "outputs": [],
   "source": [
    "my_dog.name"
   ]
  },
  {
   "cell_type": "code",
   "execution_count": null,
   "metadata": {},
   "outputs": [],
   "source": [
    "my_dog.set_name('bird')"
   ]
  },
  {
   "cell_type": "code",
   "execution_count": null,
   "metadata": {},
   "outputs": [],
   "source": [
    "my_dog.getName()"
   ]
  },
  {
   "cell_type": "code",
   "execution_count": null,
   "metadata": {},
   "outputs": [],
   "source": [
    "my_dog"
   ]
  },
  {
   "cell_type": "code",
   "execution_count": null,
   "metadata": {},
   "outputs": [],
   "source": [
    "print(my_dog)"
   ]
  },
  {
   "cell_type": "code",
   "execution_count": null,
   "metadata": {},
   "outputs": [],
   "source": [
    "class Animal():\n",
    "    \"\"\"definition of the animal class\"\"\"\n",
    "    def __init__(self, name, age):\n",
    "        \"\"\" initialise name and age attributes \"\"\"\n",
    "        self.name = name\n",
    "        self.age = age\n",
    "        \n",
    "    def set_name(self, newname=''):\n",
    "        self.name = newname\n",
    "        \n",
    "    def get_name(self):\n",
    "        return self.name\n",
    "    \n",
    "    def set_age(self, newage):\n",
    "        self.age = newage\n",
    "        \n",
    "    def get_age(self):\n",
    "        return self.age\n",
    "    \n",
    "    "
   ]
  },
  {
   "cell_type": "code",
   "execution_count": null,
   "metadata": {},
   "outputs": [],
   "source": [
    "a = 'bird'\n",
    "a.upper()"
   ]
  },
  {
   "cell_type": "code",
   "execution_count": null,
   "metadata": {},
   "outputs": [],
   "source": [
    "animal_1 = Animal(\"Buddy\", 2)\n"
   ]
  },
  {
   "cell_type": "code",
   "execution_count": null,
   "metadata": {},
   "outputs": [],
   "source": [
    "animal_1.get_name()"
   ]
  },
  {
   "cell_type": "code",
   "execution_count": null,
   "metadata": {},
   "outputs": [],
   "source": [
    "class Cat(Animal):\n",
    "        \n",
    "    def sleep(self):\n",
    "        print(self.name + \" is now sleeping.\")\n",
    "    \n",
    "    def roll_over(self):\n",
    "        print(self.name + \" rolled over!\")"
   ]
  },
  {
   "cell_type": "code",
   "execution_count": null,
   "metadata": {},
   "outputs": [],
   "source": [
    "c = Cat(\"Milo\", 3)\n",
    "\n",
    "c.get_name()"
   ]
  },
  {
   "cell_type": "code",
   "execution_count": null,
   "metadata": {},
   "outputs": [],
   "source": [
    "c.roll_over()"
   ]
  },
  {
   "cell_type": "code",
   "execution_count": null,
   "metadata": {},
   "outputs": [],
   "source": [
    "class Cat(Animal):\n",
    "    def __init__(self, name, age, breed):\n",
    "        super().__init__(name, age) # เรียกจาก parent class\n",
    "        self.breed = breed # เพิ่มของตัวเอง\n",
    "        \n",
    "    def get_breed(self):\n",
    "        return self.breed\n",
    "        "
   ]
  },
  {
   "cell_type": "code",
   "execution_count": null,
   "metadata": {},
   "outputs": [],
   "source": [
    "c = Cat(\"Milo\", 3, 'aa')\n",
    "\n",
    "print(c.get_breed())"
   ]
  },
  {
   "cell_type": "code",
   "execution_count": null,
   "metadata": {},
   "outputs": [],
   "source": [
    "class Animal():\n",
    "    \"\"\"definition of the animal class\"\"\"\n",
    "    def __init__(self, name, age):\n",
    "        \"\"\" initialise name and age attributes \"\"\"\n",
    "        self.name = name\n",
    "        self.age = age\n",
    "        \n",
    "    def set_name(self, newname=''):\n",
    "        self.name = newname\n",
    "        \n",
    "    def get_name(self):\n",
    "        return self.name\n",
    "    \n",
    "    def set_age(self, newage):\n",
    "        self.age = newage\n",
    "        \n",
    "    def get_age(self):\n",
    "        return self.age\n",
    "    \n",
    "    def roll_over(self):\n",
    "        print(self.name + \" rolled over!\")\n",
    "\n",
    "    \n",
    "    "
   ]
  },
  {
   "cell_type": "code",
   "execution_count": null,
   "metadata": {},
   "outputs": [],
   "source": [
    "class Cat(Animal):\n",
    "        \n",
    "    def sleep(self):\n",
    "        print(self.name + \" is now sleeping.\")\n",
    "    \n",
    "    def roll_over(self):\n",
    "        print(self.name + \" rolled over!\")"
   ]
  },
  {
   "cell_type": "code",
   "execution_count": null,
   "metadata": {},
   "outputs": [],
   "source": [
    "class Alpaca(Animal):\n",
    "    def roll_over(self):\n",
    "        print(self.name + \" doesn't roll over!\")"
   ]
  },
  {
   "cell_type": "code",
   "execution_count": null,
   "metadata": {},
   "outputs": [],
   "source": [
    "c = Cat(\"Milo\", 3)\n",
    "\n",
    "c.roll_over()"
   ]
  },
  {
   "cell_type": "code",
   "execution_count": null,
   "metadata": {},
   "outputs": [],
   "source": [
    "a = Alpaca(\"Test\", 3)\n",
    "\n",
    "a.roll_over()"
   ]
  },
  {
   "cell_type": "markdown",
   "metadata": {},
   "source": [
    "# Lab 3"
   ]
  },
  {
   "cell_type": "markdown",
   "metadata": {},
   "source": [
    "Case Study: Develop the DeskBankApp system - First Implementation"
   ]
  },
  {
   "cell_type": "code",
   "execution_count": 132,
   "metadata": {},
   "outputs": [],
   "source": [
    "class Bank():\n",
    "    def __init__(self):\n",
    "        self.balance = 0.0\n",
    "    \n",
    "    def deposit(self, amount):\n",
    "        \"\"\"Deposit the specified amount into the bank account\"\"\"\n",
    "        self.balance += amount\n",
    "        \n",
    "        print(f\"Amount {amount:.2f} deposited\")\n",
    "        \n",
    "    def wihdraw(self, amount):\n",
    "        \"\"\"Wihdraw the specified amount into the bank account\"\"\"\n",
    "        if amount <= self.balance:\n",
    "            self.balance -= amount\n",
    "            print(f\"Amount {amount:.2f} withdrawn\")\n",
    "        else:\n",
    "            print('Insufficient funds')\n",
    " \n",
    "    \n",
    "    \n",
    "    def main(self):\n",
    "        # Deposit\n",
    "        deposit_amount = float(input(\"Amount to deposit: \"))\n",
    "        self.deposit(deposit_amount)\n",
    "        \n",
    "        # wihdraw\n",
    "        withdraw_amount = float(input(\"Amount to wihdraw: \"))\n",
    "        self.wihdraw(withdraw_amount)\n",
    "        "
   ]
  },
  {
   "cell_type": "code",
   "execution_count": 135,
   "metadata": {},
   "outputs": [
    {
     "name": "stdout",
     "output_type": "stream",
     "text": [
      "Amount 49.00 deposited\n",
      "Amount 4.00 withdrawn\n"
     ]
    }
   ],
   "source": [
    "class Bank():\n",
    "    def __init__(self):\n",
    "        self.balance = 0.0\n",
    "    \n",
    "    def deposit(self, amount):\n",
    "        \"\"\"Deposit the specified amount into the bank account\"\"\"\n",
    "        self.balance += amount\n",
    "        \n",
    "        print(f\"Amount {amount:.2f} deposited\")\n",
    "        \n",
    "    def wihdraw(self, amount):\n",
    "        \"\"\"Wihdraw the specified amount into the bank account\"\"\"\n",
    "        if amount <= self.balance:\n",
    "            self.balance -= amount\n",
    "            print(f\"Amount {amount:.2f} withdrawn\")\n",
    "        else:\n",
    "            print('Insufficient funds')\n",
    " \n",
    "    \n",
    "    \n",
    "    def main(self):\n",
    "        # Deposit\n",
    "        deposit_amount = float(input(\"Amount to deposit: \"))\n",
    "        self.deposit(deposit_amount)\n",
    "        \n",
    "        # wihdraw\n",
    "        withdraw_amount = float(input(\"Amount to wihdraw: \"))\n",
    "        self.wihdraw(withdraw_amount)\n",
    "        \n",
    "bank = Bank()\n",
    "bank.main()"
   ]
  },
  {
   "cell_type": "code",
   "execution_count": 136,
   "metadata": {},
   "outputs": [
    {
     "ename": "NameError",
     "evalue": "name 'a' is not defined",
     "output_type": "error",
     "traceback": [
      "\u001b[0;31m---------------------------------------------------------------------------\u001b[0m",
      "\u001b[0;31mNameError\u001b[0m                                 Traceback (most recent call last)",
      "Cell \u001b[0;32mIn[136], line 1\u001b[0m\n\u001b[0;32m----> 1\u001b[0m \u001b[38;5;28mtype\u001b[39m(\u001b[43ma\u001b[49m)\n",
      "\u001b[0;31mNameError\u001b[0m: name 'a' is not defined"
     ]
    }
   ],
   "source": [
    "type(a)"
   ]
  },
  {
   "cell_type": "markdown",
   "metadata": {},
   "source": [
    "Lab 3\n",
    "\n",
    "Exercise 6: Develop a class called Car as follows"
   ]
  },
  {
   "cell_type": "code",
   "execution_count": 137,
   "metadata": {},
   "outputs": [],
   "source": [
    "class Car:\n",
    "    def __init__(self, make, pos):\n",
    "        self.make = make\n",
    "        self.pos = pos\n",
    "    \n",
    "    def move(self, distance):\n",
    "        self.pos += distance\n",
    "        \n",
    "    def describe(self):\n",
    "\n",
    "        return f\"{self.make} is at position {self.pos}\"\n",
    "    "
   ]
  },
  {
   "cell_type": "code",
   "execution_count": 138,
   "metadata": {},
   "outputs": [],
   "source": [
    "my_car = Car('BMW', 0)"
   ]
  },
  {
   "cell_type": "code",
   "execution_count": 139,
   "metadata": {},
   "outputs": [
    {
     "data": {
      "text/plain": [
       "'BMW is at position 0'"
      ]
     },
     "execution_count": 139,
     "metadata": {},
     "output_type": "execute_result"
    }
   ],
   "source": [
    "my_car.describe()"
   ]
  },
  {
   "cell_type": "code",
   "execution_count": 140,
   "metadata": {},
   "outputs": [],
   "source": [
    "my_car.move(15)"
   ]
  },
  {
   "cell_type": "code",
   "execution_count": 141,
   "metadata": {},
   "outputs": [
    {
     "data": {
      "text/plain": [
       "'BMW is at position 15'"
      ]
     },
     "execution_count": 141,
     "metadata": {},
     "output_type": "execute_result"
    }
   ],
   "source": [
    "my_car.describe()"
   ]
  },
  {
   "cell_type": "markdown",
   "metadata": {},
   "source": [
    "Lab 3 Exercises\n",
    "\n",
    "Exercise 7: Develop a class called Numbers as follows"
   ]
  },
  {
   "cell_type": "code",
   "execution_count": 142,
   "metadata": {},
   "outputs": [
    {
     "ename": "ValueError",
     "evalue": "invalid literal for int() with base 10: ''",
     "output_type": "error",
     "traceback": [
      "\u001b[0;31m---------------------------------------------------------------------------\u001b[0m",
      "\u001b[0;31mValueError\u001b[0m                                Traceback (most recent call last)",
      "Cell \u001b[0;32mIn[142], line 21\u001b[0m\n\u001b[1;32m     16\u001b[0m         \u001b[38;5;28;01melse\u001b[39;00m:\n\u001b[1;32m     17\u001b[0m             \u001b[38;5;28mself\u001b[39m\u001b[38;5;241m.\u001b[39mnumbers[middle_index] \u001b[38;5;241m=\u001b[39m \u001b[38;5;241m3\u001b[39m\n\u001b[0;32m---> 21\u001b[0m n \u001b[38;5;241m=\u001b[39m \u001b[38;5;28;43mint\u001b[39;49m\u001b[43m(\u001b[49m\u001b[38;5;28;43minput\u001b[39;49m\u001b[43m(\u001b[49m\u001b[38;5;124;43m\"\u001b[39;49m\u001b[38;5;124;43msize of array: \u001b[39;49m\u001b[38;5;124;43m\"\u001b[39;49m\u001b[43m)\u001b[49m\u001b[43m)\u001b[49m\n\u001b[1;32m     22\u001b[0m nums \u001b[38;5;241m=\u001b[39m Numbers(n)\n\u001b[1;32m     23\u001b[0m nums\u001b[38;5;241m.\u001b[39mdisplay()\n",
      "\u001b[0;31mValueError\u001b[0m: invalid literal for int() with base 10: ''"
     ]
    }
   ],
   "source": [
    "class Numbers():\n",
    "    def __init__(self, n):\n",
    "        self.numbers = [0] * n \n",
    "        \n",
    "    def display(self):\n",
    "        print(self.numbers)\n",
    "        \n",
    "    def update_elements(self):\n",
    "        self.numbers[0] = 10\n",
    "        self.numbers[-1] = 5\n",
    "        middle_index = len(self.numbers) // 2 \n",
    "        \n",
    "        if len(self.numbers) % 2 == 0:\n",
    "            self.numbers[middle_index] = 3\n",
    "            self.numbers[middle_index -1 ] = 3\n",
    "        else:\n",
    "            self.numbers[middle_index] = 3\n",
    "    \n",
    "        \n",
    "        \n",
    "n = int(input(\"size of array: \"))\n",
    "nums = Numbers(n)\n",
    "nums.display()\n",
    "nums.update_elements()\n",
    "nums.display()"
   ]
  },
  {
   "cell_type": "code",
   "execution_count": 143,
   "metadata": {},
   "outputs": [
    {
     "data": {
      "text/plain": [
       "[0, 0, 0, 0, 0, 0]"
      ]
     },
     "execution_count": 143,
     "metadata": {},
     "output_type": "execute_result"
    }
   ],
   "source": [
    "[0]*6"
   ]
  },
  {
   "cell_type": "code",
   "execution_count": 144,
   "metadata": {},
   "outputs": [
    {
     "data": {
      "text/plain": [
       "2.5"
      ]
     },
     "execution_count": 144,
     "metadata": {},
     "output_type": "execute_result"
    }
   ],
   "source": [
    "5/2"
   ]
  },
  {
   "cell_type": "code",
   "execution_count": null,
   "metadata": {},
   "outputs": [],
   "source": [
    "6//2"
   ]
  },
  {
   "cell_type": "code",
   "execution_count": null,
   "metadata": {},
   "outputs": [],
   "source": [
    "5 % 2\n"
   ]
  },
  {
   "cell_type": "markdown",
   "metadata": {},
   "source": [
    "# Lab 4"
   ]
  },
  {
   "cell_type": "markdown",
   "metadata": {},
   "source": [
    "Case Study: Develop the DeskBankApp system - Second Implementation\n",
    "\n",
    "This exercise is the second implementation of the DeskBankApp case study [refer to Lab3]"
   ]
  },
  {
   "cell_type": "code",
   "execution_count": 145,
   "metadata": {},
   "outputs": [
    {
     "name": "stdout",
     "output_type": "stream",
     "text": [
      "Amount 4.00 deposited\n",
      "Amount 4.00 withdrawn\n"
     ]
    }
   ],
   "source": [
    "class Bank():\n",
    "    def __init__(self):\n",
    "        self.balance = 0.0\n",
    "    \n",
    "    def deposit(self, amount):\n",
    "        \"\"\"Deposit the specified amount into the bank account\"\"\"\n",
    "        self.balance += amount\n",
    "        \n",
    "        print(f\"Amount {amount:.2f} deposited\")\n",
    "        \n",
    "    def wihdraw(self, amount):\n",
    "        \"\"\"Wihdraw the specified amount into the bank account\"\"\"\n",
    "        if amount <= self.balance:\n",
    "            self.balance -= amount\n",
    "            print(f\"Amount {amount:.2f} withdrawn\")\n",
    "        else:\n",
    "            print('Insufficient funds')\n",
    " \n",
    "    \n",
    "    \n",
    "    def main(self):\n",
    "        # Deposit\n",
    "        deposit_amount = float(input(\"Amount to deposit: \"))\n",
    "        self.deposit(deposit_amount)\n",
    "        \n",
    "        # wihdraw\n",
    "        withdraw_amount = float(input(\"Amount to wihdraw: \"))\n",
    "        self.wihdraw(withdraw_amount)\n",
    "        \n",
    "bank = Bank()\n",
    "bank.main()"
   ]
  },
  {
   "cell_type": "code",
   "execution_count": 146,
   "metadata": {},
   "outputs": [
    {
     "name": "stdout",
     "output_type": "stream",
     "text": [
      "debug: d\n",
      "Amount deposited; 4.00\n",
      "debug: w\n",
      "Amount withdraw; 3.00\n",
      "debug: x\n",
      "Exit the system\n"
     ]
    }
   ],
   "source": [
    "class Bank:\n",
    "    def __init__(self):\n",
    "        self.balance = 1000.00\n",
    "        \n",
    "    def deposit(self, amount):\n",
    "        self.balance += amount\n",
    "        print(f\"Amount deposited; {amount:.2f}\")\n",
    "        \n",
    "    def show_balance(self):\n",
    "        print(f\"Start balance: {self.balance:.2f}\")\n",
    "        \n",
    "    def withdraw(self, amount):\n",
    "        self.balance -= amount\n",
    "        print(f\"Amount withdraw; {amount:.2f}\")\n",
    "        \n",
    "    \n",
    "\n",
    "def main():\n",
    "    bank = Bank()\n",
    "    running  = True\n",
    "    while running:\n",
    "        action = input(\"Start banking (d/w/s/x) \")\n",
    "        \n",
    "        print(f\"debug: {action}\")\n",
    "    \n",
    "        \n",
    "        if action == 's':\n",
    "            bank.show_balance()\n",
    "            \n",
    "        elif action == 'd':\n",
    "            try:\n",
    "                amount = float(input(\"Amount to deposit: \"))\n",
    "                if amount<=0:\n",
    "                    print(\"please enter a positive amount\")\n",
    "                else:\n",
    "                    bank.deposit(amount)\n",
    "            except ValueError:\n",
    "                print(\"invalid input\")\n",
    "                \n",
    "\n",
    "        \n",
    "        elif action == 'w':\n",
    "            try:\n",
    "                amount = float(input(\"Amount to withdraw: \"))\n",
    "                if amount<=0:\n",
    "                    print(\"please enter a positive amount\")\n",
    "                elif amount > bank.balance:\n",
    "                    print(\"cannot withdraw more than current balance\")\n",
    "                else:\n",
    "                    bank.withdraw(amount)\n",
    "                \n",
    "            except ValueError:\n",
    "                print(\"invalid input\")\n",
    "                \n",
    "        elif action == 'x':\n",
    "             print(\"Exit the system\")\n",
    "             running = False\n",
    "        else:\n",
    "            print(\"invalid option. Please enter d/w/s/x\")\n",
    "\n",
    "\n",
    "\n",
    "\n",
    "if __name__ == \"__main__\":\n",
    "    main()"
   ]
  },
  {
   "cell_type": "code",
   "execution_count": null,
   "metadata": {},
   "outputs": [],
   "source": []
  },
  {
   "cell_type": "code",
   "execution_count": null,
   "metadata": {},
   "outputs": [],
   "source": []
  },
  {
   "cell_type": "code",
   "execution_count": null,
   "metadata": {},
   "outputs": [],
   "source": []
  },
  {
   "cell_type": "code",
   "execution_count": null,
   "metadata": {},
   "outputs": [],
   "source": []
  },
  {
   "cell_type": "code",
   "execution_count": 147,
   "metadata": {},
   "outputs": [
    {
     "name": "stdout",
     "output_type": "stream",
     "text": [
      "debug: d\n",
      "Amount deposited; 4.00\n",
      "debug: w\n",
      "Amount withdraw; 3.00\n",
      "debug: x\n",
      "Exit the system\n"
     ]
    }
   ],
   "source": [
    "class Bank:\n",
    "    def __init__(self):\n",
    "        self.balance = 1000.00\n",
    "        \n",
    "    def deposit(self, amount):\n",
    "        self.balance += amount\n",
    "        print(f\"Amount deposited; {amount:.2f}\")\n",
    "        \n",
    "    def show_balance(self):\n",
    "        print(f\"Start balance: {self.balance:.2f}\")\n",
    "        \n",
    "    def withdraw(self, amount):\n",
    "        self.balance -= amount\n",
    "        print(f\"Amount withdraw; {amount:.2f}\")\n",
    "        \n",
    "    def menu(self):\n",
    "        running  = True\n",
    "        while running:\n",
    "            action = input(\"Start banking (d/w/s/x) \")\n",
    "            \n",
    "            print(f\"debug: {action}\")\n",
    "        \n",
    "            \n",
    "            if action == 's':\n",
    "                self.show_balance()\n",
    "                \n",
    "            elif action == 'd':\n",
    "                try:\n",
    "                    amount = float(input(\"Amount to deposit: \"))\n",
    "                    if amount<=0:\n",
    "                        print(\"please enter a positive amount\")\n",
    "                    else:\n",
    "                        self.deposit(amount)\n",
    "                except ValueError:\n",
    "                    print(\"invalid input\")\n",
    "                    \n",
    "\n",
    "            \n",
    "            elif action == 'w':\n",
    "                try:\n",
    "                    amount = float(input(\"Amount to withdraw: \"))\n",
    "                    if amount<=0:\n",
    "                        print(\"please enter a positive amount\")\n",
    "                    elif amount > self.balance:\n",
    "                        print(\"cannot withdraw more than current balance\")\n",
    "                    else:\n",
    "                        self.withdraw(amount)\n",
    "                    \n",
    "                except ValueError:\n",
    "                    print(\"invalid input\")\n",
    "                    \n",
    "            elif action == 'x':\n",
    "                print(\"Exit the system\")\n",
    "                running = False\n",
    "            else:\n",
    "                print(\"invalid option. Please enter d/w/s/x\")\n",
    "\n",
    "    \n",
    "\n",
    "def main():\n",
    "    bank = Bank()\n",
    "    \n",
    "    bank.menu()\n",
    "    \n",
    "\n",
    "\n",
    "\n",
    "if __name__ == \"__main__\":\n",
    "    main()"
   ]
  },
  {
   "cell_type": "code",
   "execution_count": 148,
   "metadata": {},
   "outputs": [
    {
     "name": "stdout",
     "output_type": "stream",
     "text": [
      "Perimeter = 25.133\n",
      "Area = 50.265\n",
      "Volume = 268.083\n"
     ]
    }
   ],
   "source": [
    "import math\n",
    "\n",
    "def read_radius():\n",
    "    while True:\n",
    "        try:\n",
    "            radius = float(input(\"Radius = \"))\n",
    "            if radius <= 0:\n",
    "                print(\"Please enter a positive number.\")\n",
    "            else:\n",
    "                return radius\n",
    "        except ValueError:\n",
    "            print(\"Invalid input. Please enter a number.\")\n",
    "\n",
    "def calculate_perimeter(radius):\n",
    "    return 2 * math.pi * radius\n",
    "\n",
    "def calculate_area(radius):\n",
    "    return math.pi * radius ** 2\n",
    "\n",
    "def calculate_volume(radius):\n",
    "    return (4 / 3) * math.pi * radius ** 3\n",
    "\n",
    "def show_results(perimeter, area, volume):\n",
    "    print(f\"Perimeter = {perimeter:.3f}\")\n",
    "    print(f\"Area = {area:.3f}\")\n",
    "    print(f\"Volume = {volume:.3f}\")\n",
    "\n",
    "def main():\n",
    "    radius = read_radius()\n",
    "    perimeter = calculate_perimeter(radius)\n",
    "    area = calculate_area(radius)\n",
    "    volume = calculate_volume(radius)\n",
    "    show_results(perimeter, area, volume)\n",
    "\n",
    "if __name__ == \"__main__\":\n",
    "    main()\n"
   ]
  },
  {
   "cell_type": "code",
   "execution_count": 149,
   "metadata": {},
   "outputs": [
    {
     "name": "stdout",
     "output_type": "stream",
     "text": [
      "Generated numbers: [82, 77, 53, 85, 25, 56, 65, 87, 45, 56, 80, 13, 4, 43, 87, 19, 24, 49, 52, 92]\n",
      "Mean = 54.70\n",
      "Standard Deviation = 26.52\n"
     ]
    }
   ],
   "source": [
    "import random\n",
    "import math\n",
    "\n",
    "def generate_random_numbers():\n",
    "    return [random.randint(0, 100) for _ in range(20)]\n",
    "\n",
    "def calculate_mean(numbers):\n",
    "    return sum(numbers) / len(numbers)\n",
    "\n",
    "def calculate_std_deviation(numbers):\n",
    "    mean = calculate_mean(numbers)\n",
    "    variance = sum((x - mean) ** 2 for x in numbers) / len(numbers)\n",
    "    return math.sqrt(variance)\n",
    "\n",
    "def show_results(mean, std_dev):\n",
    "    print(f\"Mean = {mean:.2f}\")\n",
    "    print(f\"Standard Deviation = {std_dev:.2f}\")\n",
    "\n",
    "def main():\n",
    "    numbers = generate_random_numbers()\n",
    "    print(\"Generated numbers:\", numbers)  # Optional: to show raw data\n",
    "    mean = calculate_mean(numbers)\n",
    "    std_dev = calculate_std_deviation(numbers)\n",
    "    show_results(mean, std_dev)\n",
    "\n",
    "if __name__ == \"__main__\":\n",
    "    main()\n"
   ]
  },
  {
   "cell_type": "code",
   "execution_count": 150,
   "metadata": {},
   "outputs": [
    {
     "name": "stdout",
     "output_type": "stream",
     "text": [
      "Vowel count = 0\n",
      "Vowel count = 2\n",
      "Done\n"
     ]
    }
   ],
   "source": [
    "def read_sentence():\n",
    "    return input(\"String: \")\n",
    "\n",
    "def count_vowels(sentence):\n",
    "    vowels = 'aeiouAEIOU'\n",
    "    return sum(1 for char in sentence if char in vowels)\n",
    "\n",
    "def show_vowel_count(count):\n",
    "    print(f\"Vowel count = {count}\")\n",
    "\n",
    "def main():\n",
    "    while True:\n",
    "        sentence = read_sentence()\n",
    "        if sentence == '*':\n",
    "            print(\"Done\")\n",
    "            break\n",
    "        vowel_count = count_vowels(sentence)\n",
    "        show_vowel_count(vowel_count)\n",
    "\n",
    "if __name__ == \"__main__\":\n",
    "    main()\n"
   ]
  },
  {
   "cell_type": "code",
   "execution_count": 151,
   "metadata": {},
   "outputs": [
    {
     "name": "stdout",
     "output_type": "stream",
     "text": [
      "Random Numbers: [5, 8, 10, 9, 7]\n",
      "Factorials:     [120, 40320, 3628800, 362880, 5040]\n"
     ]
    }
   ],
   "source": [
    "import random\n",
    "import math\n",
    "\n",
    "def generate_random_numbers():\n",
    "    # สุ่มตัวเลข 5 ตัว (1 ถึง 10)\n",
    "    return [random.randint(1, 10) for _ in range(5)]\n",
    "\n",
    "def factorial(n):\n",
    "    return math.factorial(n)\n",
    "\n",
    "def factorial_array(numbers):\n",
    "    return [factorial(n) for n in numbers]\n",
    "\n",
    "def show_arrays(original, factorials):\n",
    "    print(\"Random Numbers:\", original)\n",
    "    print(\"Factorials:    \", factorials)\n",
    "\n",
    "def main():\n",
    "    numbers = generate_random_numbers()\n",
    "    factorials = factorial_array(numbers)\n",
    "    show_arrays(numbers, factorials)\n",
    "\n",
    "if __name__ == \"__main__\":\n",
    "    main()\n"
   ]
  },
  {
   "cell_type": "code",
   "execution_count": 152,
   "metadata": {},
   "outputs": [
    {
     "name": "stdout",
     "output_type": "stream",
     "text": [
      "  * \n",
      " * * \n",
      "* * * \n",
      " * * \n",
      "  * \n",
      "  * \n",
      " * * \n",
      "* * * \n",
      " * * \n",
      "  * \n",
      "Exiting program.\n"
     ]
    }
   ],
   "source": [
    "def print_diamond(size):\n",
    "    # พิมพ์ด้านบน (เพิ่มจำนวนดาวจาก 1 ไปจนถึง size)\n",
    "    for i in range(1, size + 1):\n",
    "        print(' ' * (size - i) + '* ' * i)\n",
    "\n",
    "    # พิมพ์ด้านล่าง (ลดจำนวนดาวจาก size-1 ไปจนถึง 1)\n",
    "    for i in range(size - 1, 0, -1):\n",
    "        print(' ' * (size - i) + '* ' * i)\n",
    "\n",
    "def main():\n",
    "    while True:\n",
    "        size = int(input(\"Size: \"))\n",
    "        if size == -1:\n",
    "            print(\"Exiting program.\")\n",
    "            break\n",
    "        if size <= 0:\n",
    "            print(\"Please enter a positive number greater than 0.\")\n",
    "        else:\n",
    "            print_diamond(size)\n",
    "\n",
    "if __name__ == \"__main__\":\n",
    "    main()\n"
   ]
  },
  {
   "cell_type": "code",
   "execution_count": 153,
   "metadata": {},
   "outputs": [
    {
     "name": "stdout",
     "output_type": "stream",
     "text": [
      "Unknown age is 0 years\n",
      "Alice age is 30 years\n",
      "Bob age is 45 years\n"
     ]
    }
   ],
   "source": [
    "# Lab6Exercise1\n",
    "class Person:\n",
    "    def __init__(self, name=\"Unknown\", age=0):\n",
    "        self._name = name\n",
    "        self._age = age\n",
    "\n",
    "    # Accessor methods (getters)\n",
    "    def get_name(self):\n",
    "        return self._name\n",
    "\n",
    "    def get_age(self):\n",
    "        return self._age\n",
    "\n",
    "    # Mutator methods (setters)\n",
    "    def set_name(self, name):\n",
    "        self._name = name\n",
    "\n",
    "    def set_age(self, age):\n",
    "        self._age = age\n",
    "\n",
    "    # Override toString (in Python it's __str__)\n",
    "    def __str__(self):\n",
    "        return f\"{self._name} age is {self._age} years\"\n",
    "\n",
    "# Example usage (can be removed in actual class file)\n",
    "if __name__ == \"__main__\":\n",
    "    # Default constructor\n",
    "    p1 = Person()\n",
    "    print(p1)  # Output: Unknown age is 0 years\n",
    "\n",
    "    # Constructor with parameters\n",
    "    p2 = Person(\"Alice\", 30)\n",
    "    print(p2)  # Output: Alice age is 30 years\n",
    "\n",
    "    # Using setters\n",
    "    p1.set_name(\"Bob\")\n",
    "    p1.set_age(45)\n",
    "    print(p1)  # Output: Bob age is 45 years\n"
   ]
  },
  {
   "cell_type": "code",
   "execution_count": 154,
   "metadata": {},
   "outputs": [
    {
     "name": "stdout",
     "output_type": "stream",
     "text": [
      "\n",
      "Initial data:\n",
      "Person 1: Unknown age is 0 years\n",
      "Person 2: rose age is 12 years\n",
      "\n",
      "-- Update names --\n",
      "\n",
      "Updated data:\n",
      "Person 1: rose age is 0 years\n",
      "Person 2: 2 age is 12 years\n"
     ]
    }
   ],
   "source": [
    "#  Step 2:\n",
    "class People:\n",
    "    def __init__(self):\n",
    "        # person1: ใช้ default constructor\n",
    "        self.person1 = Person()\n",
    "        \n",
    "        # person2: รับค่าจากผู้ใช้\n",
    "        name = input(\"Enter name for person2: \")\n",
    "        age = int(input(\"Enter age for person2: \"))\n",
    "        self.person2 = Person(name, age)\n",
    "\n",
    "    def show(self):\n",
    "        print(\"Person 1:\", self.person1)\n",
    "        print(\"Person 2:\", self.person2)\n",
    "\n",
    "    def update(self):\n",
    "        name1 = input(\"Enter new name for person1: \")\n",
    "        name2 = input(\"Enter new name for person2: \")\n",
    "        self.person1.set_name(name1)\n",
    "        self.person2.set_name(name2)\n",
    "\n",
    "# Main function to execute the program\n",
    "def main():\n",
    "    people = People()\n",
    "    print(\"\\nInitial data:\")\n",
    "    people.show()\n",
    "\n",
    "    print(\"\\n-- Update names --\")\n",
    "    people.update()\n",
    "\n",
    "    print(\"\\nUpdated data:\")\n",
    "    people.show()\n",
    "\n",
    "\n",
    "# Run the main function\n",
    "if __name__ == \"__main__\":\n",
    "    main()\n"
   ]
  },
  {
   "cell_type": "markdown",
   "metadata": {},
   "source": [
    "Product – มี 3 ฟิลด์: type, price, stock\n",
    "\n",
    "CashRegister – มี 1 ฟิลด์: cash\n",
    "\n",
    "Shop – มีฟิลด์สำหรับเก็บ Product และ CashRegister"
   ]
  },
  {
   "cell_type": "code",
   "execution_count": 155,
   "metadata": {},
   "outputs": [
    {
     "name": "stdout",
     "output_type": "stream",
     "text": [
      "Product: coffee, Price: $4.0, Stock: 4\n",
      "Cash in register: $0.0\n"
     ]
    }
   ],
   "source": [
    "# Lab6Exercise2\n",
    "class Product:\n",
    "    def __init__(self, product_type=None, price=None, stock=None):\n",
    "        if product_type is not None and price is not None and stock is not None:\n",
    "            # Constructor with parameters\n",
    "            self.type = product_type\n",
    "            self.price = price\n",
    "            self.stock = stock\n",
    "        else:\n",
    "            # Constructor that reads from user input (STDIN)\n",
    "            self.type = input(\"Enter product type: \")\n",
    "            self.price = float(input(\"Enter product price: \"))\n",
    "            self.stock = int(input(\"Enter product stock: \"))\n",
    "\n",
    "    def display(self):\n",
    "        print(f\"Product: {self.type}, Price: ${self.price}, Stock: {self.stock}\")\n",
    "\n",
    "\n",
    "class CashRegister:\n",
    "    def __init__(self):\n",
    "        self.cash = 0.0  # Default value\n",
    "\n",
    "    def display(self):\n",
    "        print(f\"Cash in register: ${self.cash}\")\n",
    "\n",
    "\n",
    "class Shop:\n",
    "    def __init__(self, product, cash_register):\n",
    "        self.product = product\n",
    "        self.cash_register = cash_register\n",
    "\n",
    "    def display(self):\n",
    "        self.product.display()\n",
    "        self.cash_register.display()\n",
    "\n",
    "\n",
    "\n",
    "# Main program\n",
    "def main():\n",
    "    # สร้าง Product จาก input ผู้ใช้\n",
    "    # print(\"Create a product:\")\n",
    "    product = Product()  # จะถามชื่อ ราคา สต็อกจากผู้ใช้\n",
    "\n",
    "    # สร้าง CashRegister แบบ default\n",
    "    cash_register = CashRegister()\n",
    "\n",
    "    # ส่งเข้า Shop\n",
    "    shop = Shop(product, cash_register)\n",
    "\n",
    "    # แสดงข้อมูล\n",
    "    shop.display()\n",
    "\n",
    "\n",
    "if __name__ == \"__main__\":\n",
    "    main()\n"
   ]
  },
  {
   "cell_type": "markdown",
   "metadata": {},
   "source": [
    "✅ What We're Adding:\n",
    "\n",
    "isEmpty() – Check if stock is zero\n",
    "\n",
    "stocked(quantity) – Add to stock, return cost of restocking\n",
    "\n",
    "sold(quantity) – Subtract stock, return cash earned\n",
    "\n",
    "has(quantity) – Check if enough stock is available\n",
    "\n",
    "cash(quantity) – Return cash value from selling given quantity\n",
    "\n",
    "__str__() – Return a formatted string with price and stock info"
   ]
  },
  {
   "cell_type": "code",
   "execution_count": 162,
   "metadata": {},
   "outputs": [
    {
     "name": "stdout",
     "output_type": "stream",
     "text": [
      "coffee level: 200 at price $40.00\n",
      "Cash in register: $0.0\n"
     ]
    }
   ],
   "source": [
    "class Product:\n",
    "    def __init__(self, product_type=None, price=None, stock=None):\n",
    "        if product_type is not None and price is not None and stock is not None:\n",
    "            self.type = product_type\n",
    "            self.price = price\n",
    "            self.stock = stock\n",
    "        else:\n",
    "            self.type = input(\"Enter product type: \")\n",
    "            self.price = float(input(\"Enter product price: \"))\n",
    "            self.stock = int(input(\"Enter product stock: \"))\n",
    "\n",
    "    def isEmpty(self):\n",
    "        return self.stock == 0\n",
    "\n",
    "    def stocked(self, quantity):\n",
    "        \"\"\"Increases stock by quantity and returns total cost to buy that stock.\"\"\"\n",
    "        self.stock += quantity\n",
    "        return self.price * quantity\n",
    "\n",
    "    def sold(self, quantity):\n",
    "        \"\"\"Reduces stock by quantity and returns revenue from the sale.\"\"\"\n",
    "        if self.has(quantity):\n",
    "            self.stock -= quantity\n",
    "            return self.price * quantity\n",
    "        else:\n",
    "            print(\"Not enough stock to complete the sale.\")\n",
    "            return 0.0\n",
    "\n",
    "    def has(self, quantity):\n",
    "        return self.stock >= quantity\n",
    "\n",
    "    def cash(self, quantity):\n",
    "        return self.price * quantity\n",
    "\n",
    "    def __str__(self):\n",
    "        if self.isEmpty():\n",
    "            return f\"{self.type} stock level is: 0\"\n",
    "        else:\n",
    "            return f\"{self.type} level: {self.stock} at price ${self.price:.2f}\"\n",
    "\n",
    "    def display(self):\n",
    "        print(self.__str__())\n",
    "    \n",
    "    \n",
    "    \n",
    "\n",
    "class CashRegister:\n",
    "    def __init__(self):\n",
    "        self.cash = 0.0  # Default value\n",
    "\n",
    "    def display(self):\n",
    "        print(f\"Cash in register: ${self.cash}\")\n",
    "\n",
    "\n",
    "class Shop:\n",
    "    def __init__(self, product, cash_register):\n",
    "        self.product = product\n",
    "        self.cash_register = cash_register\n",
    "\n",
    "    def display(self):\n",
    "        self.product.display()\n",
    "        self.cash_register.display()\n",
    "\n",
    "\n",
    "\n",
    "# Main program\n",
    "def main():\n",
    "    # สร้าง Product จาก input ผู้ใช้\n",
    "    # print(\"Create a product:\")\n",
    "    product = Product()  # จะถามชื่อ ราคา สต็อกจากผู้ใช้\n",
    "\n",
    "    # สร้าง CashRegister แบบ default\n",
    "    cash_register = CashRegister()\n",
    "\n",
    "    # ส่งเข้า Shop\n",
    "    shop = Shop(product, cash_register)\n",
    "\n",
    "    # แสดงข้อมูล\n",
    "    shop.display()\n",
    "\n",
    "\n",
    "if __name__ == \"__main__\":\n",
    "    main()\n",
    "\n"
   ]
  },
  {
   "cell_type": "markdown",
   "metadata": {},
   "source": [
    "เยี่ยมเลยที่ถามครับ! คำสั่ง def __str__(self): เป็น เมธอดพิเศษใน Python ที่ใช้สำหรับกำหนดว่า เมื่อเราพิมพ์วัตถุ (object) หรือใช้ str(object) แล้ว เราจะให้มันแสดงข้อความอะไร\n",
    "\n",
    "\n"
   ]
  },
  {
   "cell_type": "code",
   "execution_count": 157,
   "metadata": {},
   "outputs": [],
   "source": [
    "class Product:\n",
    "    def __init__(self, type, price, stock):\n",
    "        self.type = type\n",
    "        self.price = price\n",
    "        self.stock = stock\n",
    "\n",
    "    def __str__(self):\n",
    "        return f\"{self.type} - {self.stock} in stock at ${self.price:.2f}\"\n"
   ]
  },
  {
   "cell_type": "code",
   "execution_count": 158,
   "metadata": {},
   "outputs": [
    {
     "name": "stdout",
     "output_type": "stream",
     "text": [
      "Milk - 10 in stock at $1.99\n"
     ]
    }
   ],
   "source": [
    "p = Product(\"Milk\", 1.99, 10)\n",
    "print(p)\n"
   ]
  },
  {
   "cell_type": "markdown",
   "metadata": {},
   "source": [
    "✅ Features to Add to CashRegister:\n",
    "\n",
    "gain(amount) – Increase cash when a sale happens\n",
    "\n",
    "pay(amount) – Decrease cash when restocking\n",
    "\n",
    "isEmpty() – Check if cash is zero\n",
    "\n",
    "has(amount) – Check if there’s enough cash for a payment\n",
    "\n",
    "__str__() – Nicely formatted cash status string\n"
   ]
  },
  {
   "cell_type": "code",
   "execution_count": 159,
   "metadata": {},
   "outputs": [],
   "source": [
    "class CashRegister:\n",
    "    def __init__(self):\n",
    "        self.cash = 0.0\n",
    "\n",
    "    def gain(self, amount):\n",
    "        \"\"\"Add money to the register (from sales).\"\"\"\n",
    "        self.cash += amount\n",
    "\n",
    "    def pay(self, amount):\n",
    "        \"\"\"Remove money from the register (for restocking).\"\"\"\n",
    "        if self.has(amount):\n",
    "            self.cash -= amount\n",
    "        else:\n",
    "            print(\"Not enough cash to pay.\")\n",
    "\n",
    "    def isEmpty(self):\n",
    "        return self.cash == 0.0\n",
    "\n",
    "    def has(self, amount):\n",
    "        return self.cash >= amount\n",
    "\n",
    "    def __str__(self):\n",
    "        if self.isEmpty():\n",
    "            return \"Cash register is empty\"\n",
    "        else:\n",
    "            return f\"Cash level: ${self.cash:.2f}\"\n",
    "\n",
    "    def display(self):\n",
    "        print(self.__str__())\n"
   ]
  },
  {
   "cell_type": "code",
   "execution_count": 160,
   "metadata": {},
   "outputs": [],
   "source": [
    "class Shop:\n",
    "    def __init__(self, product, cash_register):\n",
    "        self.product = product\n",
    "        self.cash_register = cash_register\n",
    "\n",
    "    def sell(self):\n",
    "        \"\"\"Sell a certain quantity of product.\"\"\"\n",
    "        try:\n",
    "            quantity = int(input(f\"Enter quantity of {self.product.type} to sell: \"))\n",
    "            if self.product.has(quantity):\n",
    "                cash_earned = self.product.sold(quantity)\n",
    "                self.cash_register.gain(cash_earned)\n",
    "                print(f\"Sold {quantity} {self.product.type}(s) and earned ${cash_earned:.2f}\")\n",
    "            else:\n",
    "                print(\"Not enough stock!\")\n",
    "        except ValueError:\n",
    "            print(\"Invalid quantity. Please enter an integer.\")\n",
    "\n",
    "    def restock(self):\n",
    "        \"\"\"Restock a certain quantity of product.\"\"\"\n",
    "        try:\n",
    "            quantity = int(input(f\"Enter quantity of {self.product.type} to restock: \"))\n",
    "            total_cost = self.product.cash(quantity)\n",
    "            if self.cash_register.has(total_cost):\n",
    "                self.cash_register.pay(total_cost)\n",
    "                self.product.stocked(quantity)\n",
    "                print(f\"Restocked {quantity} {self.product.type}(s) and paid ${total_cost:.2f}\")\n",
    "            else:\n",
    "                print(\"Not enough funds!\")\n",
    "        except ValueError:\n",
    "            print(\"Invalid quantity. Please enter an integer.\")\n",
    "\n",
    "    def view(self):\n",
    "        \"\"\"Print out product and cash register details.\"\"\"\n",
    "        print(\"\\nShop Information:\")\n",
    "        self.product.display()\n",
    "        self.cash_register.display()\n"
   ]
  },
  {
   "cell_type": "markdown",
   "metadata": {},
   "source": [
    "Step 5: Continue the Shop class\n",
    "•Define a method called 'menu' that represents the Shop menu and provide users with 4 choices:\n",
    "(S)-sell\n",
    "(R) -restock (V)-view\n",
    "(X) - exit default -> held?\n",
    "• Define a method called 'help' that prints out the menu options\n",
    "• Define the mainO method should execute the svstem menu0"
   ]
  },
  {
   "cell_type": "code",
   "execution_count": 167,
   "metadata": {},
   "outputs": [
    {
     "name": "stdout",
     "output_type": "stream",
     "text": [
      "Not enough stock!\n",
      "Not enough funds!\n",
      "Not enough funds!\n",
      "\n",
      "Shop Information:\n",
      "cofee level: 4 at price $40.00\n",
      "Cash register is empty\n",
      "Not enough funds!\n",
      "Sold 4 cofee(s) and earned $160.00\n",
      "Not enough funds!\n",
      "Invalid choice. Type 'H' for help.\n",
      "\n",
      "Menu Options:\n",
      "(S) - Sell: Sell a product to customers.\n",
      "(R) - Restock: Add more stock to the product.\n",
      "(V) - View: Display the current status of the product and cash register.\n",
      "(X) - Exit: Exit the system.\n",
      "Restocked 3 cofee(s) and paid $120.00\n",
      "Exiting the system.\n"
     ]
    }
   ],
   "source": [
    "class Product:\n",
    "    def __init__(self, product_type=None, price=None, stock=None):\n",
    "        if product_type is not None and price is not None and stock is not None:\n",
    "            self.type = product_type\n",
    "            self.price = price\n",
    "            self.stock = stock\n",
    "        else:\n",
    "            self.type = input(\"Enter product type: \")\n",
    "            self.price = float(input(\"Enter product price: \"))\n",
    "            self.stock = int(input(\"Enter product stock: \"))\n",
    "\n",
    "    def isEmpty(self):\n",
    "        return self.stock == 0\n",
    "\n",
    "    def stocked(self, quantity):\n",
    "        \"\"\"Increases stock by quantity and returns total cost to buy that stock.\"\"\"\n",
    "        self.stock += quantity\n",
    "        return self.price * quantity\n",
    "\n",
    "    def sold(self, quantity):\n",
    "        \"\"\"Reduces stock by quantity and returns revenue from the sale.\"\"\"\n",
    "        if self.has(quantity):\n",
    "            self.stock -= quantity\n",
    "            return self.price * quantity\n",
    "        else:\n",
    "            print(\"Not enough stock to complete the sale.\")\n",
    "            return 0.0\n",
    "\n",
    "    def has(self, quantity):\n",
    "        return self.stock >= quantity\n",
    "\n",
    "    def cash(self, quantity):\n",
    "        return self.price * quantity\n",
    "\n",
    "    def __str__(self):\n",
    "        if self.isEmpty():\n",
    "            return f\"{self.type} stock level is: 0\"\n",
    "        else:\n",
    "            return f\"{self.type} level: {self.stock} at price ${self.price:.2f}\"\n",
    "\n",
    "    def display(self):\n",
    "        print(self.__str__())\n",
    "\n",
    "\n",
    "class CashRegister:\n",
    "    def __init__(self):\n",
    "        self.cash = 0.0\n",
    "\n",
    "    def gain(self, amount):\n",
    "        \"\"\"Add money to the register (from sales).\"\"\"\n",
    "        self.cash += amount\n",
    "\n",
    "    def pay(self, amount):\n",
    "        \"\"\"Remove money from the register (for restocking).\"\"\"\n",
    "        if self.has(amount):\n",
    "            self.cash -= amount\n",
    "        else:\n",
    "            print(\"Not enough cash to pay.\")\n",
    "\n",
    "    def isEmpty(self):\n",
    "        return self.cash == 0.0\n",
    "\n",
    "    def has(self, amount):\n",
    "        return self.cash >= amount\n",
    "\n",
    "    def __str__(self):\n",
    "        if self.isEmpty():\n",
    "            return \"Cash register is empty\"\n",
    "        else:\n",
    "            return f\"Cash level: ${self.cash:.2f}\"\n",
    "\n",
    "    def display(self):\n",
    "        print(self.__str__())\n",
    "\n",
    "\n",
    "class Shop:\n",
    "    def __init__(self, product, cash_register):\n",
    "        self.product = product\n",
    "        self.cash_register = cash_register\n",
    "\n",
    "    def sell(self):\n",
    "        \"\"\"Sell a certain quantity of product.\"\"\"\n",
    "        try:\n",
    "            quantity = int(input(f\"Enter quantity of {self.product.type} to sell: \"))\n",
    "            if self.product.has(quantity):\n",
    "                cash_earned = self.product.sold(quantity)\n",
    "                self.cash_register.gain(cash_earned)\n",
    "                print(f\"Sold {quantity} {self.product.type}(s) and earned ${cash_earned:.2f}\")\n",
    "            else:\n",
    "                print(\"Not enough stock!\")\n",
    "        except ValueError:\n",
    "            print(\"Invalid quantity. Please enter an integer.\")\n",
    "\n",
    "    def restock(self):\n",
    "        \"\"\"Restock a certain quantity of product.\"\"\"\n",
    "        try:\n",
    "            quantity = int(input(f\"Enter quantity of {self.product.type} to restock: \"))\n",
    "            total_cost = self.product.cash(quantity)\n",
    "            if self.cash_register.has(total_cost):\n",
    "                self.cash_register.pay(total_cost)\n",
    "                self.product.stocked(quantity)\n",
    "                print(f\"Restocked {quantity} {self.product.type}(s) and paid ${total_cost:.2f}\")\n",
    "            else:\n",
    "                print(\"Not enough funds!\")\n",
    "        except ValueError:\n",
    "            print(\"Invalid quantity. Please enter an integer.\")\n",
    "\n",
    "    def view(self):\n",
    "        \"\"\"Print out product and cash register details.\"\"\"\n",
    "        print(\"\\nShop Information:\")\n",
    "        self.product.display()\n",
    "        self.cash_register.display()\n",
    "\n",
    "    def menu(self):\n",
    "        \"\"\"Display the menu and execute corresponding action in a loop.\"\"\"\n",
    "        while True:\n",
    "            # Show the menu options\n",
    "            choice = input(\"\\nPlease select an option (S/R/V/X): \").upper()\n",
    "            \n",
    "            if choice == 'S':\n",
    "                self.sell()\n",
    "            elif choice == 'R':\n",
    "                self.restock()\n",
    "            elif choice == 'V':\n",
    "                self.view()\n",
    "            elif choice == 'X':\n",
    "                print(\"Exiting the system.\")\n",
    "                break  # Exit the loop and end the program\n",
    "            else:\n",
    "                print(\"Invalid choice. Type 'H' for help.\")\n",
    "                self.help()\n",
    "\n",
    "    def help(self):\n",
    "        \"\"\"Display help information about the menu.\"\"\"\n",
    "        print(\"\\nMenu Options:\")\n",
    "        print(\"(S) - Sell: Sell a product to customers.\")\n",
    "        print(\"(R) - Restock: Add more stock to the product.\")\n",
    "        print(\"(V) - View: Display the current status of the product and cash register.\")\n",
    "        print(\"(X) - Exit: Exit the system.\")\n",
    "\n",
    "\n",
    "# Main program\n",
    "def main():\n",
    "    # Create product based on user input\n",
    "    product = Product()  # Will ask for product type, price, and stock\n",
    "\n",
    "    # Create default CashRegister\n",
    "    cash_register = CashRegister()\n",
    "\n",
    "    # Create the shop with the product and cash register\n",
    "    shop = Shop(product, cash_register)\n",
    "\n",
    "    # Start the shop menu to interact with the user\n",
    "    shop.menu()\n",
    "\n",
    "\n",
    "if __name__ == \"__main__\":\n",
    "    main()\n"
   ]
  },
  {
   "cell_type": "code",
   "execution_count": null,
   "metadata": {},
   "outputs": [],
   "source": []
  },
  {
   "cell_type": "code",
   "execution_count": null,
   "metadata": {},
   "outputs": [],
   "source": []
  }
 ],
 "metadata": {
  "kernelspec": {
   "display_name": "new_env",
   "language": "python",
   "name": "python3"
  },
  "language_info": {
   "codemirror_mode": {
    "name": "ipython",
    "version": 3
   },
   "file_extension": ".py",
   "mimetype": "text/x-python",
   "name": "python",
   "nbconvert_exporter": "python",
   "pygments_lexer": "ipython3",
   "version": "3.9.21"
  }
 },
 "nbformat": 4,
 "nbformat_minor": 2
}
