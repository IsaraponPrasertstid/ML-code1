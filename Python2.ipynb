{
 "cells": [
  {
   "cell_type": "markdown",
   "metadata": {},
   "source": [
    "# Let's try"
   ]
  },
  {
   "cell_type": "markdown",
   "metadata": {},
   "source": [
    "1. Write a Python program to find those numbers which are divisible by 7 and multiples of 5, between 1500 and 2700 (both included)."
   ]
  },
  {
   "cell_type": "code",
   "execution_count": 5,
   "metadata": {},
   "outputs": [
    {
     "name": "stdout",
     "output_type": "stream",
     "text": [
      "1505\n",
      "1540\n",
      "1575\n",
      "1610\n",
      "1645\n",
      "1680\n",
      "1715\n",
      "1750\n",
      "1785\n",
      "1820\n",
      "1855\n",
      "1890\n",
      "1925\n",
      "1960\n",
      "1995\n",
      "2030\n",
      "2065\n",
      "2100\n",
      "2135\n",
      "2170\n",
      "2205\n",
      "2240\n",
      "2275\n",
      "2310\n",
      "2345\n",
      "2380\n",
      "2415\n",
      "2450\n",
      "2485\n",
      "2520\n",
      "2555\n",
      "2590\n",
      "2625\n",
      "2660\n",
      "2695\n"
     ]
    }
   ],
   "source": [
    "for num in range(1500, 2701):\n",
    "    if num % 7 == 0 and num % 5 == 0:\n",
    "        print(num)"
   ]
  },
  {
   "cell_type": "markdown",
   "metadata": {},
   "source": [
    "2. Write a Python program to convert temperatures to and from Celsius and Fahrenheit.\n",
    "[ Formula : c/5 = f-32/9 [ where c = temperature in celsius and f = temperature in fahrenheit ]\n",
    "Expected Output :\n",
    "60°C is 140 in Fahrenheit\n",
    "45°F is 7 in Celsius"
   ]
  },
  {
   "cell_type": "code",
   "execution_count": 6,
   "metadata": {},
   "outputs": [
    {
     "name": "stdout",
     "output_type": "stream",
     "text": [
      "the temperature in Fahrenheit is 113 degrees.\n"
     ]
    }
   ],
   "source": [
    "temp = input(\"Input the temperature you like to convert? (e.g. 45F, 102C etc.): \")\n",
    "\n",
    "# Extract numerical part of the temprature \n",
    "degree = int(temp[:-1])\n",
    "\n",
    "# Extract the convention part of the temprature \n",
    "i_convention = temp[-1]\n",
    "\n",
    "# check if the input convention is Upper C\n",
    "if i_convention.upper() == \"C\":\n",
    "    #convert Temp to F\n",
    "    result = int(round((9* degree)/5 +32))\n",
    "    o_convention = \"Fahrenheit\"\n",
    "    \n",
    " # check if the input convention is Upper F\n",
    "\n",
    "elif i_convention.upper() == \"F\":\n",
    "        #convert Temp to C\n",
    "    result = int(round((degree-32)*5 /9))\n",
    "    o_convention = \"Celsius\"\n",
    "    \n",
    "else:\n",
    "    print(\"input proper convention\")\n",
    "    \n",
    "print(\"the temperature in\", o_convention, 'is', result, \"degrees.\")\n"
   ]
  },
  {
   "cell_type": "code",
   "execution_count": 7,
   "metadata": {},
   "outputs": [
    {
     "data": {
      "text/plain": [
       "'Fahrenheit'"
      ]
     },
     "execution_count": 7,
     "metadata": {},
     "output_type": "execute_result"
    }
   ],
   "source": [
    "o_convention"
   ]
  },
  {
   "cell_type": "markdown",
   "metadata": {},
   "source": [
    "3. Write a Python program to guess a number between 1 and 9.\n",
    "Note : User is prompted to enter a guess. If the user guesses wrong then the prompt appears again until the guess is correct, on successful guess, user will get a \"Well guessed!\" message, and the program will exit."
   ]
  },
  {
   "cell_type": "code",
   "execution_count": 8,
   "metadata": {},
   "outputs": [],
   "source": [
    "import random"
   ]
  },
  {
   "cell_type": "code",
   "execution_count": 12,
   "metadata": {},
   "outputs": [
    {
     "name": "stdout",
     "output_type": "stream",
     "text": [
      "Well\n"
     ]
    }
   ],
   "source": [
    "target_num = random.randint(1,10)\n",
    "guess_num = 0\n",
    "\n",
    "while target_num != guess_num:\n",
    "    guess_num = int(input(\"Guess a number between 1 to 10 until you get it right: \"))\n",
    "    \n",
    "print(\"Well\")\n",
    "    "
   ]
  },
  {
   "cell_type": "markdown",
   "metadata": {},
   "source": [
    "4. Write a Python program to construct the following pattern, using a nested for loop.\n",
    "\n",
    "``` \n",
    "* \n",
    "* * \n",
    "* * * \n",
    "* * * * \n",
    "* * * * * \n",
    "* * * * \n",
    "* * * \n",
    "* * \n",
    "* \n",
    "```\n"
   ]
  },
  {
   "cell_type": "code",
   "execution_count": 13,
   "metadata": {},
   "outputs": [
    {
     "name": "stdout",
     "output_type": "stream",
     "text": [
      "*\n",
      "**\n",
      "***\n",
      "****\n",
      "*****\n",
      "****\n",
      "***\n",
      "**\n",
      "*\n"
     ]
    }
   ],
   "source": [
    "n = 5\n",
    "for i in range (1,n+1): # [1,2,3,4,5]\n",
    "    print(\"*\"*i)\n",
    "    \n",
    "for i in range (n-1,0,-1): # [4,3,2,1]\n",
    "    print(\"*\"*i)"
   ]
  },
  {
   "cell_type": "code",
   "execution_count": 14,
   "metadata": {},
   "outputs": [
    {
     "name": "stdout",
     "output_type": "stream",
     "text": [
      "sss\n"
     ]
    }
   ],
   "source": [
    "a = \"s\"\n",
    "b = \"a\"\n",
    "print(a*3)"
   ]
  },
  {
   "cell_type": "markdown",
   "metadata": {},
   "source": [
    "5. Write a Python program to count the number of even and odd numbers in a series of numbers\n",
    "Sample numbers : numbers = (1, 2, 3, 4, 5, 6, 7, 8, 9) \n",
    "Expected Output :\n",
    "Number of even numbers : 5\n",
    "Number of odd numbers : 4"
   ]
  },
  {
   "cell_type": "code",
   "execution_count": 15,
   "metadata": {},
   "outputs": [
    {
     "name": "stdout",
     "output_type": "stream",
     "text": [
      "Number of even numbers: 4\n",
      "Number of odd numbers: 5\n"
     ]
    }
   ],
   "source": [
    "# Create a tuple named 'numbers' containing integer values from 1 to 9\n",
    "numbers = (1, 2, 3, 4, 5, 6, 7, 8, 9)\n",
    "\n",
    "# Initialize counters for counting odd and even numbers\n",
    "count_odd = 0\n",
    "count_even = 0\n",
    "\n",
    "# Iterate through each element 'x' in the tuple 'numbers'\n",
    "for x in numbers:\n",
    "    # Check if the current number 'x' is even by evaluating 'not x % 2'\n",
    "    if not x % 2:  # If 'x' modulo 2 equals 0, it's even\n",
    "        # Increment the count of even numbers\n",
    "        count_even += 1\n",
    "    else:\n",
    "        # If 'x' modulo 2 doesn't equal 0, it's odd; increment the count of odd numbers\n",
    "        count_odd += 1\n",
    "\n",
    "# Print the total count of even and odd numbers\n",
    "print(\"Number of even numbers:\", count_even)\n",
    "print(\"Number of odd numbers:\", count_odd) \n"
   ]
  },
  {
   "cell_type": "markdown",
   "metadata": {},
   "source": [
    "6. Write a Python program that prints all the numbers from 0 to 6 except 3 and 6.\n",
    "Note : Use 'continue' statement.\n",
    "Expected Output : 0 1 2 4 5"
   ]
  },
  {
   "cell_type": "code",
   "execution_count": 16,
   "metadata": {},
   "outputs": [
    {
     "name": "stdout",
     "output_type": "stream",
     "text": [
      "0 1 2 4 5 \n",
      "\n"
     ]
    }
   ],
   "source": [
    "# Iterate through numbers from 0 to 5 using the range function\n",
    "for x in range(6):\n",
    "    # Check if the current value of 'x' is equal to 3 or 6\n",
    "    if (x == 3 or x == 6):\n",
    "        # If 'x' is 3 or 6, skip to the next iteration without executing the code below\n",
    "        continue\n",
    "    # Print the value of 'x' with a space and without a newline (end=' ')\n",
    "    print(x, end=' ')\n",
    "\n",
    "# Print a new line after printing all numbers satisfying the condition\n",
    "print(\"\\n\")\n",
    "\t"
   ]
  },
  {
   "cell_type": "markdown",
   "metadata": {},
   "source": [
    "7. Write a Python program that iterates the integers from 1 to 50. For multiples of three print \"Fizz\" instead of the number and for multiples of five print \"Buzz\". For numbers that are multiples of three and five, print \"FizzBuzz\".\n",
    "Sample Output :\n",
    "fizzbuzz\n",
    "1\n",
    "2\n",
    "fizz\n",
    "4\n",
    "buzz"
   ]
  },
  {
   "cell_type": "code",
   "execution_count": 17,
   "metadata": {},
   "outputs": [
    {
     "name": "stdout",
     "output_type": "stream",
     "text": [
      "fizzbuzz\n",
      "1\n",
      "2\n",
      "fizz\n",
      "4\n",
      "buzz\n",
      "fizz\n",
      "7\n",
      "8\n",
      "fizz\n",
      "buzz\n",
      "11\n",
      "fizz\n",
      "13\n",
      "14\n",
      "fizzbuzz\n",
      "16\n",
      "17\n",
      "fizz\n",
      "19\n",
      "buzz\n",
      "fizz\n",
      "22\n",
      "23\n",
      "fizz\n",
      "buzz\n",
      "26\n",
      "fizz\n",
      "28\n",
      "29\n",
      "fizzbuzz\n",
      "31\n",
      "32\n",
      "fizz\n",
      "34\n",
      "buzz\n",
      "fizz\n",
      "37\n",
      "38\n",
      "fizz\n",
      "buzz\n",
      "41\n",
      "fizz\n",
      "43\n",
      "44\n",
      "fizzbuzz\n",
      "46\n",
      "47\n",
      "fizz\n",
      "49\n",
      "buzz\n"
     ]
    }
   ],
   "source": [
    "# Iterate through numbers from 0 to 50 using the range function\n",
    "for fizzbuzz in range(51):\n",
    "    # Check if the current number is divisible by both 3 and 5 (i.e., divisible by 15)\n",
    "    if fizzbuzz % 3 == 0 and fizzbuzz % 5 == 0:\n",
    "        # If divisible by both 3 and 5, print \"fizzbuzz\" and continue to the next iteration\n",
    "        print(\"fizzbuzz\")\n",
    "        continue\n",
    "    # Check if the current number is divisible only by 3\n",
    "    elif fizzbuzz % 3 == 0:\n",
    "        # If divisible only by 3, print \"fizz\" and continue to the next iteration\n",
    "        print(\"fizz\")\n",
    "        continue\n",
    "    # Check if the current number is divisible only by 5\n",
    "    elif fizzbuzz % 5 == 0:\n",
    "        # If divisible only by 5, print \"buzz\" and continue to the next iteration\n",
    "        print(\"buzz\")\n",
    "        continue\n",
    "    # If the number is neither divisible by 3 nor 5, print the number itself\n",
    "    print(fizzbuzz) \n"
   ]
  },
  {
   "cell_type": "markdown",
   "metadata": {},
   "source": [
    "8. Write a Python program to get the Fibonacci series between 0 and 50.\n",
    "\n",
    "Note : The Fibonacci Sequence is the series of numbers :\n",
    "0, 1, 1, 2, 3, 5, 8, 13, 21, ...."
   ]
  },
  {
   "cell_type": "code",
   "execution_count": 18,
   "metadata": {},
   "outputs": [
    {
     "name": "stdout",
     "output_type": "stream",
     "text": [
      "1\n",
      "1\n",
      "2\n",
      "3\n",
      "5\n",
      "8\n",
      "13\n",
      "21\n",
      "34\n"
     ]
    }
   ],
   "source": [
    "# Initialize variables 'x' and 'y' with values 0 and 1, respectively\n",
    "x, y = 0, 1\n",
    "\n",
    "# Execute the while loop until the value of 'y' becomes greater than or equal to 50\n",
    "while y < 50:\n",
    "    # Print the current value of 'y'\n",
    "    print(y)\n",
    "    \n",
    "    # Update the values of 'x' and 'y' using simultaneous assignment,\n",
    "    # where 'x' becomes the previous value of 'y' and 'y' becomes the sum of 'x' and the previous value of 'y'\n",
    "    x, y = y, x + y\n"
   ]
  },
  {
   "cell_type": "markdown",
   "metadata": {},
   "source": []
  }
 ],
 "metadata": {
  "kernelspec": {
   "display_name": "Python 3",
   "language": "python",
   "name": "python3"
  },
  "language_info": {
   "codemirror_mode": {
    "name": "ipython",
    "version": 3
   },
   "file_extension": ".py",
   "mimetype": "text/x-python",
   "name": "python",
   "nbconvert_exporter": "python",
   "pygments_lexer": "ipython3",
   "version": "3.11.8"
  }
 },
 "nbformat": 4,
 "nbformat_minor": 2
}
